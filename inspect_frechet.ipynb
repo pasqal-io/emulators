{
 "cells": [
  {
   "cell_type": "code",
   "execution_count": 1,
   "metadata": {},
   "outputs": [],
   "source": [
    "import torch\n",
    "from emu_base.math.double_krylov import double_krylov, double_krylov_2\n",
    "from emu_sv.hamiltonian import RydbergHamiltonian\n",
    "import sys\n",
    "sys.path.append('./test/utils_testing/')\n",
    "from utils_dense_hamiltonians import dense_rydberg_hamiltonian"
   ]
  },
  {
   "cell_type": "code",
   "execution_count": 2,
   "metadata": {},
   "outputs": [],
   "source": [
    "torch.manual_seed(1337)\n",
    "\n",
    "dtype = torch.complex128\n",
    "dtype_params = torch.float64\n",
    "tolerance = 1e-8\n",
    "N = 6\n",
    "dt = 0.5\n",
    "\n",
    "omegas = torch.randn(N, dtype=dtype_params)\n",
    "deltas = torch.randn(N, dtype=dtype_params)\n",
    "phis = torch.randn(N, dtype=dtype_params)\n",
    "interactions = torch.zeros(N, N, dtype=dtype_params)\n",
    "for i in range(N):\n",
    "    for j in range(i + 1, N):\n",
    "        interactions[i, j] = 1 / abs(j - i)\n",
    "\n",
    "state = torch.randn(2**N, dtype=dtype)\n",
    "state = state / state.norm()\n",
    "\n",
    "grad = torch.randn(2**N, dtype=dtype)\n",
    "\n",
    "ham = RydbergHamiltonian(\n",
    "    omegas=omegas,\n",
    "    deltas=deltas,\n",
    "    phis=phis,\n",
    "    interaction_matrix=interactions,\n",
    "    device=state.device,\n",
    ")\n",
    "\n",
    "op = lambda x: -1j * dt * (ham * x)"
   ]
  },
  {
   "cell_type": "code",
   "execution_count": 3,
   "metadata": {},
   "outputs": [
    {
     "name": "stdout",
     "output_type": "stream",
     "text": [
      "tensor([[ 0.0351+0.0376j, -0.0534-0.0205j,  0.1043-0.0616j,  ...,\n",
      "          0.0273-0.0592j, -0.0576-0.0014j, -0.0324+0.0662j],\n",
      "        [ 0.0753-0.0537j, -0.0491+0.0815j, -0.0661-0.1832j,  ...,\n",
      "         -0.0797-0.0724j, -0.0263+0.0942j,  0.0807+0.0821j],\n",
      "        [ 0.0276-0.0354j, -0.0012+0.0345j, -0.0520-0.0322j,  ...,\n",
      "         -0.0161-0.0134j, -0.0006+0.0281j,  0.0076+0.0087j],\n",
      "        ...,\n",
      "        [-0.0445+0.0193j,  0.0417-0.0262j, -0.0233+0.0966j,  ...,\n",
      "          0.0208+0.0755j,  0.0422-0.0463j, -0.0070-0.0907j],\n",
      "        [-0.0041+0.0435j,  0.0007-0.0531j,  0.0778+0.0846j,  ...,\n",
      "          0.0926+0.0129j, -0.0261-0.0651j, -0.1097-0.0358j],\n",
      "        [-0.0055+0.0342j, -0.0051-0.0238j,  0.0385+0.0158j,  ...,\n",
      "          0.0187+0.0220j,  0.0001-0.0277j, -0.0031-0.0277j]],\n",
      "       dtype=torch.complex128)\n",
      "torch.Size([64, 64])\n"
     ]
    }
   ],
   "source": [
    "# block diagonal\n",
    "Hsv = dense_rydberg_hamiltonian(omegas, deltas, phis, interactions)\n",
    "E = state.unsqueeze(-1) @ grad.conj().unsqueeze(0)\n",
    "big_mat = torch.block_diag(-1j * dt * Hsv, -1j * dt * Hsv)\n",
    "sizeH = Hsv.shape[0]\n",
    "big_mat[:sizeH, sizeH:] = E\n",
    "big_exp = torch.linalg.matrix_exp(big_mat)\n",
    "expected_L = big_exp[:sizeH, sizeH:]\n",
    "\n",
    "print(expected_L)\n",
    "print(expected_L.shape)"
   ]
  },
  {
   "cell_type": "code",
   "execution_count": 4,
   "metadata": {},
   "outputs": [
    {
     "name": "stdout",
     "output_type": "stream",
     "text": [
      "0 0\n",
      "1 0\n",
      "2 0\n",
      "3 0\n",
      "4 0\n",
      "5 0\n",
      "6 0\n",
      "7 0\n",
      "8 1\n",
      "9 2\n",
      "10 3\n",
      "11 4\n",
      "12 5\n",
      "13 6\n",
      "14 7\n",
      "15 8\n",
      "16 9\n",
      "17 10\n",
      "18 11\n",
      "19 12\n",
      "20 13\n",
      "46\n",
      "22\n",
      "odd: torch.Size([14, 64])\n",
      "eT: torch.Size([46, 46]) Hess_L torch.Size([14, 14])\n",
      "even: torch.Size([14, 64])\n",
      "Tb: torch.Size([46, 46])\n",
      "tensor(5.4432e-10, dtype=torch.float64)\n",
      "tensor([[ 0.0351+0.0376j, -0.0534-0.0205j,  0.1043-0.0616j,  ...,\n",
      "          0.0273-0.0592j, -0.0576-0.0014j, -0.0324+0.0662j],\n",
      "        [ 0.0753-0.0537j, -0.0491+0.0815j, -0.0661-0.1832j,  ...,\n",
      "         -0.0797-0.0724j, -0.0263+0.0942j,  0.0807+0.0821j],\n",
      "        [ 0.0276-0.0354j, -0.0012+0.0345j, -0.0520-0.0322j,  ...,\n",
      "         -0.0161-0.0134j, -0.0006+0.0281j,  0.0076+0.0087j],\n",
      "        ...,\n",
      "        [-0.0445+0.0193j,  0.0417-0.0262j, -0.0233+0.0966j,  ...,\n",
      "          0.0208+0.0755j,  0.0422-0.0463j, -0.0070-0.0907j],\n",
      "        [-0.0041+0.0435j,  0.0007-0.0531j,  0.0778+0.0846j,  ...,\n",
      "          0.0926+0.0129j, -0.0261-0.0651j, -0.1097-0.0358j],\n",
      "        [-0.0055+0.0342j, -0.0051-0.0238j,  0.0385+0.0158j,  ...,\n",
      "          0.0187+0.0220j,  0.0001-0.0277j, -0.0031-0.0277j]],\n",
      "       dtype=torch.complex128)\n"
     ]
    }
   ],
   "source": [
    "from emu_base.math.krylov_exp import krylov_exp_impl\n",
    "exp_grad_results = krylov_exp_impl(op, grad, is_hermitian=True, exp_tolerance=tolerance, norm_tolerance=tolerance)\n",
    "iteration_count = exp_grad_results.iteration_count\n",
    "\n",
    "\n",
    "lanczos_vectors_even, odd_block, eT, Tb = double_krylov(\n",
    "    op, grad, state, iteration_count, tolerance\n",
    ")\n",
    "\n",
    "even_block = torch.stack(lanczos_vectors_even)\n",
    "Hess_L = eT[1 : 2 * odd_block.shape[0] : 2, : 2 * even_block.shape[0] : 2]\n",
    "# L = V_odd @ Hess_L @ V_even*\n",
    "print(\"odd:\", odd_block.shape)\n",
    "print(\"eT:\", eT.shape, \"Hess_L\", Hess_L.shape)\n",
    "print(\"even:\", even_block.shape)\n",
    "print(\"Tb:\", Tb.shape)\n",
    "\n",
    "L = odd_block.mT @ Hess_L @ even_block.conj()\n",
    "\n",
    "assert torch.allclose(L, expected_L, atol=tolerance)\n",
    "print(torch.dist(L, expected_L))\n",
    "print(L)"
   ]
  },
  {
   "cell_type": "code",
   "execution_count": 5,
   "metadata": {},
   "outputs": [
    {
     "name": "stdout",
     "output_type": "stream",
     "text": [
      "error convergence\n",
      "15 14 12\n",
      "error convergence\n",
      "15 14 12\n",
      "odd: torch.Size([14, 64])\n",
      "eT: torch.Size([30, 30]) Hess_L torch.Size([14, 14])\n",
      "even: torch.Size([14, 64])\n",
      "Tb: torch.Size([30, 30])\n",
      "tensor(6.2348e-10, dtype=torch.float64)\n",
      "tensor([[ 0.0351+0.0376j, -0.0534-0.0205j,  0.1043-0.0616j,  ...,\n",
      "          0.0273-0.0592j, -0.0576-0.0014j, -0.0324+0.0662j],\n",
      "        [ 0.0753-0.0537j, -0.0491+0.0815j, -0.0661-0.1832j,  ...,\n",
      "         -0.0797-0.0724j, -0.0263+0.0942j,  0.0807+0.0821j],\n",
      "        [ 0.0276-0.0354j, -0.0012+0.0345j, -0.0520-0.0322j,  ...,\n",
      "         -0.0161-0.0134j, -0.0006+0.0281j,  0.0076+0.0087j],\n",
      "        ...,\n",
      "        [-0.0445+0.0193j,  0.0417-0.0262j, -0.0233+0.0966j,  ...,\n",
      "          0.0208+0.0755j,  0.0422-0.0463j, -0.0070-0.0907j],\n",
      "        [-0.0041+0.0435j,  0.0007-0.0531j,  0.0778+0.0846j,  ...,\n",
      "          0.0926+0.0129j, -0.0261-0.0651j, -0.1097-0.0358j],\n",
      "        [-0.0055+0.0342j, -0.0051-0.0238j,  0.0385+0.0158j,  ...,\n",
      "          0.0187+0.0220j,  0.0001-0.0277j, -0.0031-0.0277j]],\n",
      "       dtype=torch.complex128)\n"
     ]
    }
   ],
   "source": [
    "lanczos_vectors_even, lanczos_vectors_odd, eT_2, Tb_2 = double_krylov_2(\n",
    "    op, grad, state, tolerance\n",
    ")\n",
    "\n",
    "even_block_2 = torch.stack(lanczos_vectors_even)\n",
    "odd_block_2 = torch.stack(lanczos_vectors_odd)\n",
    "\n",
    "Hess_L_2 = eT_2[1 : 2 * odd_block_2.shape[0] : 2, : 2 * even_block_2.shape[0] : 2]\n",
    "\n",
    "print(\"odd:\", odd_block_2.shape)\n",
    "print(\"eT:\", eT_2.shape, \"Hess_L\", Hess_L_2.shape)\n",
    "print(\"even:\", even_block_2.shape)\n",
    "print(\"Tb:\", Tb_2.shape)\n",
    "\n",
    "L_2 = odd_block_2.mT @ Hess_L_2 @ even_block_2.conj()\n",
    "\n",
    "assert torch.allclose(L_2, expected_L, atol=tolerance)\n",
    "print(torch.dist(L_2,expected_L))\n",
    "print(L)"
   ]
  },
  {
   "cell_type": "code",
   "execution_count": 6,
   "metadata": {},
   "outputs": [
    {
     "name": "stdout",
     "output_type": "stream",
     "text": [
      "tensor(0., dtype=torch.float64)\n",
      "tensor(0., dtype=torch.float64)\n"
     ]
    }
   ],
   "source": [
    "print(torch.dist(odd_block, odd_block_2))\n",
    "print(torch.dist(even_block, even_block_2))\n",
    "#print(torch.dist(Hess_L, Hess_L_2))"
   ]
  },
  {
   "cell_type": "code",
   "execution_count": 7,
   "metadata": {},
   "outputs": [
    {
     "name": "stdout",
     "output_type": "stream",
     "text": [
      "tensor(-0.6229+0.9755j, dtype=torch.complex128)\n",
      "tensor(-0.6229+0.9755j, dtype=torch.complex128)\n"
     ]
    }
   ],
   "source": [
    "print(Hess_L[1,1])\n",
    "print(Hess_L_2[1,1])"
   ]
  },
  {
   "cell_type": "code",
   "execution_count": 8,
   "metadata": {},
   "outputs": [
    {
     "name": "stdout",
     "output_type": "stream",
     "text": [
      "tensor(2.8209e-10, dtype=torch.float64)\n"
     ]
    }
   ],
   "source": [
    "i=14\n",
    "print(torch.dist(eT[:i,:i], eT_2[:i, :i]))"
   ]
  },
  {
   "cell_type": "code",
   "execution_count": 9,
   "metadata": {},
   "outputs": [
    {
     "name": "stdout",
     "output_type": "stream",
     "text": [
      "tensor(0., dtype=torch.float64)\n",
      "tensor([[ 6.9389e-18-1.2490e+00j,  0.0000e+00+0.0000e+00j,\n",
      "         -1.4738e+00-1.1449e-16j,  0.0000e+00+0.0000e+00j],\n",
      "        [ 0.0000e+00+0.0000e+00j, -5.5511e-17-1.0483e+00j,\n",
      "          0.0000e+00+0.0000e+00j, -1.1828e+00+8.3267e-17j],\n",
      "        [ 1.4738e+00+0.0000e+00j,  0.0000e+00+0.0000e+00j,\n",
      "          9.3675e-17-1.2919e+00j,  0.0000e+00+0.0000e+00j],\n",
      "        [ 0.0000e+00+0.0000e+00j,  1.1828e+00+0.0000e+00j,\n",
      "          0.0000e+00+0.0000e+00j,  5.5511e-17-1.0604e+00j]],\n",
      "       dtype=torch.complex128)\n",
      "tensor([[ 6.9389e-18-1.2490e+00j,  0.0000e+00+0.0000e+00j,\n",
      "         -1.4738e+00-1.1449e-16j,  0.0000e+00+0.0000e+00j],\n",
      "        [ 0.0000e+00+0.0000e+00j, -5.5511e-17-1.0483e+00j,\n",
      "          0.0000e+00+0.0000e+00j, -1.1828e+00+8.3267e-17j],\n",
      "        [ 1.4738e+00+0.0000e+00j,  0.0000e+00+0.0000e+00j,\n",
      "          9.3675e-17-1.2919e+00j,  0.0000e+00+0.0000e+00j],\n",
      "        [ 0.0000e+00+0.0000e+00j,  1.1828e+00+0.0000e+00j,\n",
      "          0.0000e+00+0.0000e+00j,  5.5511e-17-1.0604e+00j]],\n",
      "       dtype=torch.complex128)\n"
     ]
    }
   ],
   "source": [
    "i=21\n",
    "j=25\n",
    "print(torch.dist(Tb[i:j, i:j], Tb_2[i:j, i:j]))\n",
    "print(Tb[i:j, i:j])\n",
    "print(Tb_2[i:j, i:j])"
   ]
  },
  {
   "cell_type": "code",
   "execution_count": 10,
   "metadata": {},
   "outputs": [
    {
     "name": "stdout",
     "output_type": "stream",
     "text": [
      "torch.Size([30, 30])\n",
      "torch.Size([14, 14])\n",
      "torch.Size([46, 46])\n",
      "torch.Size([14, 14])\n"
     ]
    },
    {
     "data": {
      "text/plain": [
       "tensor(1.2573, dtype=torch.float64)"
      ]
     },
     "execution_count": 10,
     "metadata": {},
     "output_type": "execute_result"
    }
   ],
   "source": [
    "print(Tb_2.shape)\n",
    "Tb_2_even = Tb_2[:-2:2,:-2:2]\n",
    "print(Tb_2_even.shape)\n",
    "\n",
    "print(Tb.shape)\n",
    "Tb_even = Tb[:Tb_2.shape[0]-2:2,:Tb_2.shape[1]-2:2]\n",
    "print(Tb_even.shape)\n",
    "\n",
    "torch.dist(Tb_2_even, Tb_even)"
   ]
  },
  {
   "cell_type": "code",
   "execution_count": 11,
   "metadata": {},
   "outputs": [
    {
     "name": "stdout",
     "output_type": "stream",
     "text": [
      "tensor([[-5.5511e-17, -1.1828e+00,  0.0000e+00],\n",
      "        [ 1.1828e+00,  5.5511e-17, -1.1125e+00],\n",
      "        [ 0.0000e+00,  1.1125e+00, -1.3878e-17]], dtype=torch.float64)\n",
      "tensor([[-5.5511e-17, -1.1828e+00,  0.0000e+00],\n",
      "        [ 1.1828e+00,  5.5511e-17, -1.1125e+00],\n",
      "        [ 0.0000e+00,  1.1125e+00,  0.0000e+00]], dtype=torch.float64)\n",
      "tensor([[-1.0483e+00,  8.3267e-17,  0.0000e+00],\n",
      "        [ 0.0000e+00, -1.0604e+00,  1.3878e-17],\n",
      "        [ 0.0000e+00,  0.0000e+00, -1.2573e+00]], dtype=torch.float64)\n",
      "tensor([[-1.0483e+00,  8.3267e-17,  0.0000e+00],\n",
      "        [ 0.0000e+00, -1.0604e+00,  0.0000e+00],\n",
      "        [ 0.0000e+00,  0.0000e+00,  0.0000e+00]], dtype=torch.float64)\n"
     ]
    }
   ],
   "source": [
    "i = 11\n",
    "print(Tb_even[i:, i:].real)\n",
    "print(Tb_2_even[i:, i:].real)\n",
    "print(Tb_even[i:, i:].imag)\n",
    "print(Tb_2_even[i:, i:].imag)"
   ]
  },
  {
   "cell_type": "code",
   "execution_count": 12,
   "metadata": {},
   "outputs": [
    {
     "data": {
      "text/plain": [
       "tensor(5.5511e-17-1.0604j, dtype=torch.complex128)"
      ]
     },
     "execution_count": 12,
     "metadata": {},
     "output_type": "execute_result"
    }
   ],
   "source": [
    "Tb_2_even[12,12]"
   ]
  },
  {
   "cell_type": "code",
   "execution_count": 13,
   "metadata": {},
   "outputs": [
    {
     "name": "stdout",
     "output_type": "stream",
     "text": [
      "tensor(0.9083, dtype=torch.float64)\n"
     ]
    }
   ],
   "source": [
    "Tb_2_odd = Tb_2[1::2,1::2]\n",
    "Tb_odd = Tb[1:Tb_2.shape[0]:2,1:Tb_2.shape[1]:2]\n",
    "print(torch.dist(Tb_2_odd, Tb_odd))"
   ]
  },
  {
   "cell_type": "code",
   "execution_count": 14,
   "metadata": {},
   "outputs": [
    {
     "name": "stdout",
     "output_type": "stream",
     "text": [
      "torch.Size([64, 15])\n",
      "torch.Size([15, 15])\n",
      "tensor(1., dtype=torch.float64)\n",
      "tensor([[-2.7756e-17-9.1751e-01j, -9.0830e-01-1.1276e-17j,\n",
      "          0.0000e+00+0.0000e+00j],\n",
      "        [ 9.0830e-01+0.0000e+00j,  0.0000e+00-6.3227e-01j,\n",
      "          0.0000e+00+0.0000e+00j],\n",
      "        [ 0.0000e+00+0.0000e+00j,  1.0613e+00+0.0000e+00j,\n",
      "          0.0000e+00+0.0000e+00j]], dtype=torch.complex128)\n",
      "torch.Size([15, 15])\n",
      "tensor([[ 6.6353e-17-0.9175j, -9.0830e-01+0.0000j,  0.0000e+00+0.0000j],\n",
      "        [ 9.0830e-01+0.0000j,  0.0000e+00+0.0000j,  0.0000e+00+0.0000j],\n",
      "        [ 0.0000e+00+0.0000j,  1.0000e+00+0.0000j,  0.0000e+00+0.0000j]],\n",
      "       dtype=torch.complex128)\n",
      "tensor(2.8447e-15, dtype=torch.float64)\n"
     ]
    }
   ],
   "source": [
    "import numpy as np\n",
    "\n",
    "def arnoldi_iteration(A, b, n: int):\n",
    "    \"\"\"Compute a basis of the (n + 1)-Krylov subspace of the matrix A.\n",
    "\n",
    "    This is the space spanned by the vectors {b, Ab, ..., A^n b}.\n",
    "\n",
    "    Parameters\n",
    "    ----------\n",
    "    A : array_like\n",
    "        An m × m array.\n",
    "    b : array_like\n",
    "        Initial vector (length m).\n",
    "    n : int\n",
    "        One less than the dimension of the Krylov subspace, or equivalently the *degree* of the Krylov space. Must be >= 1.\n",
    "    \n",
    "    Returns\n",
    "    -------\n",
    "    Q : numpy.array\n",
    "        An m x (n + 1) array, where the columns are an orthonormal basis of the Krylov subspace.\n",
    "    h : numpy.array\n",
    "        An (n + 1) x n array. A on basis Q. It is upper Hessenberg.\n",
    "    \"\"\"\n",
    "    eps = 1e-12\n",
    "    h = torch.zeros(n + 1, n+1, dtype=torch.complex128)\n",
    "    Q = torch.zeros(b.shape[0], n + 1, dtype=torch.complex128)\n",
    "    # Normalize the input vector\n",
    "    Q[:, 0] = b / b.norm()  # Use it as the first Krylov vector\n",
    "    for k in range(1, n + 1):\n",
    "        v = A(Q[:, k - 1])  # Generate a new candidate vector\n",
    "        for j in range(max(0, k-2),k):  # Subtract the projections on previous vectors\n",
    "            h[j, k - 1] = torch.vdot(Q[:, j], v)\n",
    "            v -= h[j, k - 1] * Q[:, j]\n",
    "        nv = v.norm()\n",
    "        h[k, k - 1] = nv\n",
    "        if nv > eps:  # Add the produced vector to the list, unless\n",
    "            Q[:, k] = v / nv\n",
    "        else:  # If that happens, stop iterating.\n",
    "            return Q, h\n",
    "    return Q, h\n",
    "\n",
    "Q,h = arnoldi_iteration(op,state, 14)\n",
    "print(Q.shape)\n",
    "print(h.shape)\n",
    "print(Q[:,-1].norm())\n",
    "print(h[12:, 12:])\n",
    "print(Tb_2_odd.shape)\n",
    "print(Tb_2_odd[12:, 12:])\n",
    "print(torch.dist(h[:13, :13], Tb_2_odd[:13, :13]))"
   ]
  },
  {
   "cell_type": "code",
   "execution_count": 15,
   "metadata": {},
   "outputs": [
    {
     "name": "stdout",
     "output_type": "stream",
     "text": [
      "tensor([[ 5.5511e-17-1.9601e+00j, -1.4666e+00+1.6653e-16j],\n",
      "        [ 1.4666e+00+0.0000e+00j,  0.0000e+00-1.3406e+00j]],\n",
      "       dtype=torch.complex128)\n"
     ]
    }
   ],
   "source": [
    "print(h[3:5,3:5])"
   ]
  }
 ],
 "metadata": {
  "kernelspec": {
   "display_name": ".venv",
   "language": "python",
   "name": "python3"
  },
  "language_info": {
   "codemirror_mode": {
    "name": "ipython",
    "version": 3
   },
   "file_extension": ".py",
   "mimetype": "text/x-python",
   "name": "python",
   "nbconvert_exporter": "python",
   "pygments_lexer": "ipython3",
   "version": "3.10.12"
  }
 },
 "nbformat": 4,
 "nbformat_minor": 2
}
