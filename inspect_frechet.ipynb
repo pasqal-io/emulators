{
 "cells": [
  {
   "cell_type": "code",
   "execution_count": 1,
   "metadata": {},
   "outputs": [],
   "source": [
    "import torch\n",
    "from emu_base.math.double_krylov import double_krylov, double_krylov_2\n",
    "from emu_sv.hamiltonian import RydbergHamiltonian\n",
    "import sys\n",
    "sys.path.append('./test/utils_testing/')\n",
    "from utils_dense_hamiltonians import dense_rydberg_hamiltonian"
   ]
  },
  {
   "cell_type": "code",
   "execution_count": 2,
   "metadata": {},
   "outputs": [],
   "source": [
    "torch.manual_seed(1337)\n",
    "\n",
    "dtype = torch.complex128\n",
    "dtype_params = torch.float64\n",
    "tolerance = 1e-5\n",
    "N = 6\n",
    "dt = 0.5\n",
    "\n",
    "omegas = torch.randn(N, dtype=dtype_params)\n",
    "deltas = torch.randn(N, dtype=dtype_params)\n",
    "phis = torch.randn(N, dtype=dtype_params)\n",
    "interactions = torch.zeros(N, N, dtype=dtype_params)\n",
    "for i in range(N):\n",
    "    for j in range(i + 1, N):\n",
    "        interactions[i, j] = 1 / abs(j - i)\n",
    "\n",
    "state = torch.randn(2**N, dtype=dtype)\n",
    "state = state / state.norm()\n",
    "\n",
    "grad = torch.randn(2**N, dtype=dtype)\n",
    "\n",
    "ham = RydbergHamiltonian(\n",
    "    omegas=omegas,\n",
    "    deltas=deltas,\n",
    "    phis=phis,\n",
    "    interaction_matrix=interactions,\n",
    "    device=state.device,\n",
    ")\n",
    "\n",
    "op = lambda x: -1j * dt * (ham * x)"
   ]
  },
  {
   "cell_type": "code",
   "execution_count": 3,
   "metadata": {},
   "outputs": [
    {
     "name": "stdout",
     "output_type": "stream",
     "text": [
      "odd: torch.Size([65, 64])\n",
      "eT: torch.Size([132, 132]) Hess_L torch.Size([65, 11])\n",
      "even: torch.Size([11, 64])\n",
      "tensor([[ 0.0351+0.0376j, -0.0534-0.0205j,  0.1043-0.0616j,  ...,\n",
      "          0.0273-0.0592j, -0.0576-0.0014j, -0.0324+0.0662j],\n",
      "        [ 0.0753-0.0537j, -0.0491+0.0815j, -0.0661-0.1832j,  ...,\n",
      "         -0.0797-0.0724j, -0.0263+0.0942j,  0.0807+0.0821j],\n",
      "        [ 0.0276-0.0354j, -0.0012+0.0345j, -0.0520-0.0322j,  ...,\n",
      "         -0.0161-0.0134j, -0.0006+0.0281j,  0.0076+0.0087j],\n",
      "        ...,\n",
      "        [-0.0445+0.0193j,  0.0417-0.0262j, -0.0233+0.0966j,  ...,\n",
      "          0.0208+0.0755j,  0.0422-0.0463j, -0.0070-0.0907j],\n",
      "        [-0.0041+0.0435j,  0.0007-0.0531j,  0.0778+0.0846j,  ...,\n",
      "          0.0926+0.0129j, -0.0261-0.0651j, -0.1097-0.0358j],\n",
      "        [-0.0055+0.0342j, -0.0051-0.0238j,  0.0385+0.0158j,  ...,\n",
      "          0.0187+0.0220j,  0.0001-0.0277j, -0.0031-0.0277j]],\n",
      "       dtype=torch.complex128)\n"
     ]
    }
   ],
   "source": [
    "iteration_count = min(2**N, 80)\n",
    "\n",
    "\n",
    "lanczos_vectors_even, odd_block, eT = double_krylov(\n",
    "    op, grad, state, iteration_count, tolerance\n",
    ")\n",
    "\n",
    "even_block = torch.stack(lanczos_vectors_even)\n",
    "Hess_L = eT[1 : 2 * odd_block.shape[0] : 2, : 2 * even_block.shape[0] : 2]\n",
    "# L = V_odd @ Hess_L @ V_even*\n",
    "print(\"odd:\", odd_block.shape)\n",
    "print(\"eT:\", eT.shape, \"Hess_L\", Hess_L.shape)\n",
    "print(\"even:\", even_block.shape)\n",
    "\n",
    "L = odd_block.mT @ Hess_L @ even_block.conj()\n",
    "\n",
    "print(L)"
   ]
  },
  {
   "cell_type": "code",
   "execution_count": 4,
   "metadata": {},
   "outputs": [
    {
     "name": "stdout",
     "output_type": "stream",
     "text": [
      "tensor([[ 0.0351+0.0376j, -0.0534-0.0205j,  0.1043-0.0616j,  ...,\n",
      "          0.0273-0.0592j, -0.0576-0.0014j, -0.0324+0.0662j],\n",
      "        [ 0.0753-0.0537j, -0.0491+0.0815j, -0.0661-0.1832j,  ...,\n",
      "         -0.0797-0.0724j, -0.0263+0.0942j,  0.0807+0.0821j],\n",
      "        [ 0.0276-0.0354j, -0.0012+0.0345j, -0.0520-0.0322j,  ...,\n",
      "         -0.0161-0.0134j, -0.0006+0.0281j,  0.0076+0.0087j],\n",
      "        ...,\n",
      "        [-0.0445+0.0193j,  0.0417-0.0262j, -0.0233+0.0966j,  ...,\n",
      "          0.0208+0.0755j,  0.0422-0.0463j, -0.0070-0.0907j],\n",
      "        [-0.0041+0.0435j,  0.0007-0.0531j,  0.0778+0.0846j,  ...,\n",
      "          0.0926+0.0129j, -0.0261-0.0651j, -0.1097-0.0358j],\n",
      "        [-0.0055+0.0342j, -0.0051-0.0238j,  0.0385+0.0158j,  ...,\n",
      "          0.0187+0.0220j,  0.0001-0.0277j, -0.0031-0.0277j]],\n",
      "       dtype=torch.complex128)\n"
     ]
    }
   ],
   "source": [
    "Hsv = dense_rydberg_hamiltonian(omegas, deltas, phis, interactions)\n",
    "E = state.unsqueeze(-1) @ grad.conj().unsqueeze(0)\n",
    "big_mat = torch.block_diag(-1j * dt * Hsv, -1j * dt * Hsv)\n",
    "sizeH = Hsv.shape[0]\n",
    "big_mat[:sizeH, sizeH:] = E\n",
    "big_exp = torch.linalg.matrix_exp(big_mat)\n",
    "expected_L = big_exp[:sizeH, sizeH:]\n",
    "\n",
    "print(expected_L)"
   ]
  },
  {
   "cell_type": "code",
   "execution_count": 5,
   "metadata": {},
   "outputs": [
    {
     "name": "stdout",
     "output_type": "stream",
     "text": [
      "tensor(6.2744e-07, dtype=torch.float64)\n"
     ]
    }
   ],
   "source": [
    "assert torch.allclose(L, expected_L, atol=tolerance)\n",
    "print(torch.dist(L,expected_L))"
   ]
  },
  {
   "cell_type": "code",
   "execution_count": 6,
   "metadata": {},
   "outputs": [
    {
     "name": "stdout",
     "output_type": "stream",
     "text": [
      "odd: torch.Size([101, 64])\n",
      "eT: torch.Size([204, 204]) Hess_L torch.Size([101, 11])\n",
      "even: torch.Size([11, 64])\n",
      "tensor(6.2744e-07, dtype=torch.float64)\n",
      "tensor([[ 0.0351+0.0376j, -0.0534-0.0205j,  0.1043-0.0616j,  ...,\n",
      "          0.0273-0.0592j, -0.0576-0.0014j, -0.0324+0.0662j],\n",
      "        [ 0.0753-0.0537j, -0.0491+0.0815j, -0.0661-0.1832j,  ...,\n",
      "         -0.0797-0.0724j, -0.0263+0.0942j,  0.0807+0.0821j],\n",
      "        [ 0.0276-0.0354j, -0.0012+0.0345j, -0.0520-0.0322j,  ...,\n",
      "         -0.0161-0.0134j, -0.0006+0.0281j,  0.0076+0.0087j],\n",
      "        ...,\n",
      "        [-0.0445+0.0193j,  0.0417-0.0262j, -0.0233+0.0966j,  ...,\n",
      "          0.0208+0.0755j,  0.0422-0.0463j, -0.0070-0.0907j],\n",
      "        [-0.0041+0.0435j,  0.0007-0.0531j,  0.0778+0.0846j,  ...,\n",
      "          0.0926+0.0129j, -0.0261-0.0651j, -0.1097-0.0358j],\n",
      "        [-0.0055+0.0342j, -0.0051-0.0238j,  0.0385+0.0158j,  ...,\n",
      "          0.0187+0.0220j,  0.0001-0.0277j, -0.0031-0.0277j]],\n",
      "       dtype=torch.complex128)\n"
     ]
    }
   ],
   "source": [
    "op = lambda x: -1j * dt * (ham * x)\n",
    "lanczos_vectors_even, lanczos_vectors_odd, eT = double_krylov_2(\n",
    "    op, grad, state, tolerance\n",
    ")\n",
    "\n",
    "even_block = torch.stack(lanczos_vectors_even)\n",
    "odd_block = torch.stack(lanczos_vectors_odd)\n",
    "\n",
    "Hess_L = eT[1 : 2 * odd_block.shape[0] : 2, : 2 * even_block.shape[0] : 2]\n",
    "# L = V_odd @ Hess_L @ V_even*\n",
    "print(\"odd:\", odd_block.shape)\n",
    "print(\"eT:\", eT.shape, \"Hess_L\", Hess_L.shape)\n",
    "print(\"even:\", even_block.shape)\n",
    "\n",
    "L = odd_block.mT @ Hess_L @ even_block.conj()\n",
    "\n",
    "assert torch.allclose(L, expected_L, atol=tolerance)\n",
    "print(torch.dist(L,expected_L))\n",
    "print(L)"
   ]
  },
  {
   "cell_type": "code",
   "execution_count": 7,
   "metadata": {},
   "outputs": [
    {
     "name": "stdout",
     "output_type": "stream",
     "text": [
      "tensor([[  3.6892e+00-4.2706e+00j,  -1.5690e+00+2.6163e+00j,\n",
      "           8.5068e-01-1.4703e+00j,  ...,\n",
      "           1.4332e-04-4.5069e-04j,  -1.8892e-05+5.2614e-05j,\n",
      "           2.0398e-06-5.4976e-06j],\n",
      "        [  1.9872e+00-2.3117e+00j,  -6.2293e-01+9.7552e-01j,\n",
      "           2.5071e-01-4.1571e-01j,  ...,\n",
      "           1.7000e-05-4.9196e-05j,  -1.9861e-06+5.2104e-06j,\n",
      "           1.9465e-07-4.9840e-07j],\n",
      "        [  5.9526e-01-1.4460e+00j,  -1.5248e-01+4.3774e-01j,\n",
      "           5.3928e-02-1.4786e-01j,  ...,\n",
      "           1.9184e-06-7.4003e-06j,  -2.1348e-07+7.1844e-07j,\n",
      "           1.9716e-08-6.3329e-08j],\n",
      "        ...,\n",
      "        [ 1.9501e-169-3.8074e-169j, -2.1709e-171+4.2666e-171j,\n",
      "          3.5050e-173-6.8942e-173j,  ...,\n",
      "          3.5576e-184-7.2919e-184j, -3.8228e-186+7.7887e-186j,\n",
      "          3.9794e-188-8.1038e-188j],\n",
      "        [ 3.2585e-171-6.2263e-171j, -3.5913e-173+6.9085e-173j,\n",
      "          5.7407e-175-1.1054e-174j,  ...,\n",
      "          5.5032e-186-1.1045e-185j, -5.8575e-188+1.1690e-187j,\n",
      "          6.0409e-190-1.2052e-189j],\n",
      "        [ 3.8875e-173-7.2391e-173j, -4.2426e-175+7.9541e-175j,\n",
      "          6.7148e-177-1.2604e-176j,  ...,\n",
      "          6.0824e-188-1.1905e-187j, -6.4130e-190+1.2486e-189j,\n",
      "          6.5529e-192-1.2757e-191j]], dtype=torch.complex128)\n"
     ]
    }
   ],
   "source": [
    "print(Hess_L)"
   ]
  }
 ],
 "metadata": {
  "kernelspec": {
   "display_name": ".venv",
   "language": "python",
   "name": "python3"
  },
  "language_info": {
   "codemirror_mode": {
    "name": "ipython",
    "version": 3
   },
   "file_extension": ".py",
   "mimetype": "text/x-python",
   "name": "python",
   "nbconvert_exporter": "python",
   "pygments_lexer": "ipython3",
   "version": "3.10.12"
  }
 },
 "nbformat": 4,
 "nbformat_minor": 2
}
