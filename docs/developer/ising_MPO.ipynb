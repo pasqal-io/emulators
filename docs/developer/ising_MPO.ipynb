{
 "cells": [
  {
   "cell_type": "markdown",
   "metadata": {},
   "source": [
    "### Rydberg Hamiltonian to MPO\n",
    "\n",
    "In this notebook, we will demostrate how to construct a Matrix Product Operator (MPO) representation of a Hamiltonian with two-body [Rydberg-Rydberg interaction](https://pulser.readthedocs.io/en/stable/conventions.html#hamiltonians) ,\n",
    "\n",
    "$$H= \\sum _{i} \\biggr(\\frac{\\Omega_i}{2} \\sigma_x - \\delta _i n_i \\biggr) + \\sum_ {i<j} c_ {i,j} n_i n_j, $$\n",
    "\n",
    "\n",
    "This document is intended for developers and curious users who want to understand how to practically implement such a Hamiltonian in a Matrix Product State (MPS) emulator, like Pasqal's emu-mps.\n",
    "\n",
    "We will introduce the concept of operator-valued matrices, which are key to constructing the MPO. Through practical examples, we aim to clarify the procedure.\n",
    "\n",
    "This tutorial is organized as follows: The first section, *Rydberg Hamiltonian to MPO*, will cover the basic theory behind our implementation. The next section, *Code Implementation*, will contain the functions that generate the MPO of the Rydberg Hamiltonian. Finally, the *Examples* section will demonstrate the results for 3 and 5 atoms. "
   ]
  },
  {
   "cell_type": "code",
   "execution_count": 1,
   "metadata": {},
   "outputs": [
    {
     "name": "stdout",
     "output_type": "stream",
     "text": [
      "Requirement already satisfied: sympy in /home/mauro/miniforge3/envs/pulserenv/lib/python3.12/site-packages (1.13.1)\n",
      "Requirement already satisfied: mpmath<1.4,>=1.1.0 in /home/mauro/miniforge3/envs/pulserenv/lib/python3.12/site-packages (from sympy) (1.3.0)\n"
     ]
    }
   ],
   "source": [
    "# import libraries\n",
    "!pip install sympy\n",
    "import sympy as sp\n",
    "from sympy.physics.quantum import TensorProduct as TP\n",
    "from IPython.display import display, Latex"
   ]
  },
  {
   "cell_type": "markdown",
   "metadata": {},
   "source": [
    "We will use Sympy for the symbolic representation of the elements in the MPO. This will help us understand which operators are applied to each site and where to place the constants that represent the interaction terms.\n",
    "\n",
    "In the following section, we will define functions that will assist in constructing the MPO."
   ]
  },
  {
   "cell_type": "code",
   "execution_count": 2,
   "metadata": {},
   "outputs": [],
   "source": [
    "# creation of the identity and number operators\n",
    "def iden_op(i:int):\n",
    "    \"\"\"Single qubit identity operator\"\"\"\n",
    "    return sp.Symbol(f\"𝟙_{i}\", commutative=False)\n",
    "\n",
    "def n_op(i:int):\n",
    "    \"\"\"Single qubit number operator\"\"\"\n",
    "    return sp.Symbol(f\"n_{i}\", commutative=False)"
   ]
  },
  {
   "cell_type": "code",
   "execution_count": 3,
   "metadata": {},
   "outputs": [],
   "source": [
    "#utility functions\n",
    "def gate_at(d: dict[int, sp.Symbol], n: int):\n",
    "    \"\"\"Utility function for filling operators with identities.\"\"\"\n",
    "    return TP(*(\n",
    "        iden_op(i) if i not in d\n",
    "        else d[i]\n",
    "        for i in range(n)\n",
    "    ))\n",
    "\n",
    "\n",
    "def mpo_factors_product_pairwise(a: sp.Matrix, b: sp.Matrix):\n",
    "    \"\"\"Matrix product where element-wise multiplication is the tensor product.\"\"\"\n",
    "\n",
    "    assert sp.shape(a)[1] == sp.shape(b)[0], \"Incompatible matrix dimensions\"\n",
    "\n",
    "    common_dim = sp.shape(a)[1]\n",
    "\n",
    "    res_rows = sp.shape(a)[0]\n",
    "    res_cols = sp.shape(b)[1]\n",
    "\n",
    "    res = sp.Matrix([\n",
    "            [sum(TP(a[row, k], b[k, col]).expand(tensorproduct=True) for k in range(common_dim))\n",
    "                for col in range(res_cols)\n",
    "            ]\n",
    "        for row in range(res_rows)\n",
    "    ])\n",
    "\n",
    "    if res_rows == res_cols == 1:\n",
    "        return res[0, 0]\n",
    "\n",
    "    return res\n",
    "\n",
    "\n",
    "def mpo_factors_product(*args):\n",
    "    \"\"\"n-ary matrix product where element-wise multiplication is the tensor product.\"\"\"\n",
    "\n",
    "    assert len(args) >= 2\n",
    "    if len(args) == 2:\n",
    "        return mpo_factors_product_pairwise(*args)\n",
    "    \n",
    "    return mpo_factors_product_pairwise(args[0], mpo_factors_product(*args[1:]))"
   ]
  },
  {
   "cell_type": "markdown",
   "metadata": {},
   "source": [
    "$\\newcommand\\unity{1\\!\\!1}$\n",
    "### Rydberg Hamiltonian to MPO\n",
    "\n",
    "\n",
    "We aim to represent the Rydberg Hamiltonian, given by:\n",
    "\n",
    "$$H= \\sum _{i} \\biggr(\\frac{\\Omega_i}{2} \\sigma_x - \\delta _i n_i \\biggr) + \\sum_ {i<j} c_ {i,j} n_i n_j, $$\n",
    "\n",
    "where $n$ is the number operator and $\\sigma_x$ is the x pauli operator as a Matrix Product Operator or MPO\n",
    "\n",
    "<div >\n",
    "<img src =\"images/mpofull.png\" width = \"450\" height=\"100\" style=\"display=block; margin:auto\"/>\n",
    "</div>\n",
    "\n",
    "As can be seen, we have set the phase to zero ($\\phi=0$), which cancels out the $\\sigma_y$ term in the original Hamiltonian. However, this will not affect the resulting MPO because, as we will see later, all single-gate terms will be located in a specific position within the MPO.\n",
    "\n",
    "To facilitate the calculations, let us express a rank-4 tensor\n",
    "\n",
    "<div >\n",
    "<img src =\"images/tensor1.png\" width = \"100\" height=\"100\" style=\"display=block; margin:auto\"/>\n",
    "</div> \n",
    "\n",
    "as operator-valued matrices, given by  $\\begin{bmatrix} \n",
    "B_{0,0} & B_{0,1} & \\ldots \\\\ \n",
    "B_{1,0} & B_{1,1} & \\ldots \\\\ \n",
    "\\ldots & \\ldots &\\ddots\n",
    "\\end{bmatrix}$\n",
    "\n",
    "where each $B_{i,j}$ has indices $k,l$. Additionally, we define the multiplication of the inner matrices as the Kronecker product $\\otimes$. Then, an MPO consists of a series of matrices, and performing matrix multiplication is equivalent to contracting the bonds and reshaping all physical input and output indices into a single “fat” index for input and output, respectively.\n",
    "\n",
    "\n",
    "#### Single terms\n",
    "\n",
    "The sum of single-qubit terms such as:\n",
    "$$\n",
    "A_i = \\left( \\frac{\\Omega_i}{2} \\sigma_i^x - \\delta_i n_i \\right),\n",
    "$$\n",
    "\n",
    "we can implement them with a bond dimension of 2. \n",
    "\n",
    "For each qubit $i$, the Hamiltonian term $A_i$​ is represented as a $2\\times 2$ matrix in the MPO at position $i$. Thus, the MPO takes the following structure:\n",
    "\\begin{bmatrix}\\unity_i & 0 \\\\ A_i & \\unity _i \\end{bmatrix}\n",
    "The overall Hamiltonian MPO for multiple qubits is constructed by taking the matrix product of these individual MPOs\n",
    "\n",
    "\n",
    "\n",
    "For example, let’s create the MPOs for the Rydberg Hamiltonian of 3 atoms, where only single operators $A_i = X_i$ are applied to each atom:\n",
    "\n",
    "$$H = \\begin{bmatrix} X_1 & \\unity_1 \\\\ \\end{bmatrix} \\begin{bmatrix}\\unity_2 & 0 \\\\ X_2 & \\unity  \\end{bmatrix}  \\begin{bmatrix}  \\unity_3 \\\\ X_3 \\end{bmatrix} $$\n",
    "\n",
    "$$H = \\begin{bmatrix} X_1 \\otimes  \\unity_2 + \\unity_1  \\otimes X_1 & \\unity_2  \\end{bmatrix}  \\begin{bmatrix}  \\unity_3 \\\\ X_3 \\end{bmatrix}$$\n",
    "\n",
    "$$H = X_1 \\otimes \\unity_2 \\otimes \\unity_3 + \\unity_1 \\otimes X_2 \\otimes \\unity_3 +\\unity_1 \\otimes \\unity_2 \\otimes X_3 $$\n",
    "\n",
    "Thus, we can generalize any given 2x2 matrix $A_i$ for $N$ atoms as follows:\n",
    "\n",
    "$$H = \\begin{bmatrix} A_1 & \\unity \\\\ \\end{bmatrix} \\begin{bmatrix}\\unity & 0 \\\\ A_1 & \\unity  \\end{bmatrix} \\ldots  \\begin{bmatrix}\\unity & 0 \\\\ A_{N-1} & \\unity  \\end{bmatrix} \\begin{bmatrix}  \\unity \\\\ A_N \\end{bmatrix}\n",
    "$$ \n",
    "\n",
    "Note that $0$ is the zero 2x2 matrix, and $\\unity_i$ is the 2x2 identity matrix.\n",
    "\n",
    "In summary, the single operators will always appear in these specific positions in the MPO, regardless of the operator(s) applied."
   ]
  },
  {
   "cell_type": "markdown",
   "metadata": {},
   "source": [
    "### "
   ]
  },
  {
   "cell_type": "markdown",
   "metadata": {},
   "source": [
    "#### Rydberg Hamiltonian\n",
    "\n",
    "There are various ways to obtain the MPO for the Rydberg Hamiltonian ([lecture notes, L08](https://www2.physik.uni-muenchen.de/lehre/vorlesungen/sose_23/tensor_networks_23/skript/index.html) or check [chapter 3, ](https://arxiv.org/pdf/1008.3477)) . However, the most efficient method so far, and the one we use in EMU-MPS, is as follows. The MPO of the Rydberg Hamiltonian can be expressed as a combination of matrices $S$, $L$, $M$, $R$, and $E$:\n",
    "\n",
    "$$H = S L_1 \\ldots L_a M R_b \\ldots R_1 E, $$ \n",
    "\n",
    "where $a+b+3=N$, with $a=\\lfloor \\frac{N-2}{2} \\rfloor$, and $N$ is the number of atoms. The matrices are defined as follows:\n",
    "\n",
    " - $S = \\begin{bmatrix} A_1 & \\unity_1  & n_1  \\end{bmatrix}$ is the first MPO matrix\n",
    "\n",
    " - $E = \\begin{bmatrix}  \\unity_N   \\\\ A_N  \\\\ n_N  \\end{bmatrix}$ unless $N=2$,  $E = \\begin{bmatrix}  \\unity_2   \\\\ A_2  \\\\ C_{12}n_2  \\end{bmatrix}$,  with $\\unity_i$ being the 2x2 identity matrix at atom $i$, $n_i$ is the number operator at atom $i$ and $E$ is always located at the end.\n",
    " \n",
    "\n",
    "The left-term matrices $L_i$ are defined as:\n",
    "\n",
    "$L_i = \\ \\ \\overset{\\text{3+i} \\longrightarrow}{  \\stackrel{2+i \\downarrow}{}{ \\begin{bmatrix} \\unity_{i+1} & \\mathbb{0} & 0 & \\mathbb{0} & 0 & 0 \\\\ A_{i+1} & \\unity_{i+1} &\\mathbb{0} &\\dots& 0 &n_{i+1} \\\\\n",
    "C_{1,i+1} n_{i+1} & 0 & \\unity_{i+1} & 0 & \\ldots &0 \\\\\n",
    " \\vdots & \\vdots & \\vdots & \\ddots &\\ldots & 0 \\\\\n",
    " C_{k,i+1} n_{i+1} & 0& 0 &\\ldots & \\unity_{i+1} &0\n",
    "\\end{bmatrix}}}\n",
    "$ with $k= 1,\\ldots, i$, and $C_{i,j}$ indicates the interaction between atom $i$ and $j$. $L_i$ matrices grow from left to right (until matrix $M$). \n",
    "\n",
    "\n",
    "The right-term matrices $R_i$ are given by:\n",
    "\n",
    "$ R_i = \\ \\ \\ \\ \\overset{\\text{2+i} \\longrightarrow}{ \\stackrel{3+i \\downarrow}{}{ \\begin{bmatrix} \\unity_k & 0 &0&\\ldots &  0 \\\\ \n",
    "A_k & \\unity_k & C_{k,k+1} n_k &\\ldots &C_{k,k+b}n_k \\\\\n",
    "n_k & 0 & 0 & \\dots&0 \\\\\n",
    "0 & 0 &\\unity_k &  \\ldots&0\\\\\n",
    "\\vdots & \\vdots & \\vdots & \\ddots & 0 \\\\\n",
    "0 & 0 & \\dots & \\ldots & \\unity_k\n",
    "\\end{bmatrix} }}\n",
    "$\n",
    "with $k=a+b+i+1$. The $R_i$ matrix grows from right to left (until matrix $M$)\n",
    "\n",
    "\n",
    "The middle matrix $M$ is defined as:\n",
    "\n",
    "$M = \\begin{bmatrix}\\unity_{a+2}  & 0 & 0 \\ldots & 0 &0 \\\\\n",
    "A_{a+2} & \\unity_{a+2} & C_{a+2,a+3}n_{a+2} & \\ldots & C_{a+2,N}n_{a+2}\\\\\n",
    "C_{1,a+2}n_{a+2} & 0 & C_{i,j} \\unity_{a+2} & C_{i,j+1} \\unity_{a+2} &\\ldots\\\\\n",
    "\\vdots & 0 & C_{i+1,j} \\unity_{a+2} & C_{i+1,j+1} \\unity_{a+2} &\\ldots\\\\\n",
    "C_{a+1,a+2} n_{a+2} & 0 &\\vdots & \\ldots &\\ddots\n",
    "\\end{bmatrix}$ where the Bloch of $C_{i,j} \\unity$ with $i<a+2$ and $j>a+2$ are the interaction terms for past and future interactions. \n",
    "\n",
    "These matrices are written in EMU-MPS, however, for this tutorial we are going to use a simplified version of them. \n",
    "\n",
    "#### Code Implementation\n",
    "\n",
    "In the following section, the examples will ilustrate how all these matrices forms the MPO. "
   ]
  },
  {
   "cell_type": "code",
   "execution_count": 4,
   "metadata": {},
   "outputs": [],
   "source": [
    "#implementation of S, E, Li, Rj and E\n",
    "def _first_factor_rydberg(gate: sp.Symbol)->sp.Matrix:\n",
    "    \"\"\"\n",
    "    Creates the first Rydberg Hamiltonian factor.\n",
    "    \"\"\"\n",
    "    fac = sp.zeros(1, 3) \n",
    "    fac[0, 1] = iden_op(0)\n",
    "    fac[0, 2] = n_op(0)  # number operator\n",
    "\n",
    "    fac[0, 0] = gate\n",
    "    return fac\n",
    "\n",
    "\n",
    "def _last_factor_rydberg(gate: sp.Symbol, scale: float | complex, num_atoms: int)->sp.Matrix:\n",
    "    \"\"\"\n",
    "    Creates the last Rydberg Hamiltonian factor.\n",
    "    \"\"\"\n",
    "    fac = sp.zeros(3, 1)\n",
    "    fac[0, 0] = iden_op(num_atoms)\n",
    "    fac[2, 0] = scale * n_op(num_atoms)\n",
    "\n",
    "    fac[1, 0] = gate\n",
    "    return fac\n",
    "\n",
    "\n",
    "def _left_factor_rydberg(gate: sp.Symbol, scales: list[sp.Symbol], num_atom: int)->sp.Matrix:\n",
    "    \"\"\"\n",
    "    Creates the Rydberg Hamiltonian factors in the left half of the MPS, excepted the first factor.\n",
    "    \"\"\"\n",
    "    index = len(scales)\n",
    "    fac = sp.zeros(\n",
    "        index + 2,\n",
    "        index + 3,\n",
    "    )\n",
    "    for i, val in enumerate(scales):\n",
    "        fac[i + 2, 0] = val * n_op(num_atom)  # interaction with previous qubits\n",
    "    fac[1, index + 2] = n_op(num_atom)  #  interaction with next qubits\n",
    "    for i in range(index + 2):\n",
    "        fac[i, i] = iden_op(\n",
    "            num_atom\n",
    "        )  # identity matrix to carry the gates of other qubits\n",
    "\n",
    "    fac[1, 0] = gate\n",
    "    return fac\n",
    "\n",
    "\n",
    "def _right_factor_rydberg(gate: sp.Symbol, scales: list[sp.Symbol], num_atom: int)->sp.Matrix:\n",
    "    \"\"\"\n",
    "    Creates the Rydberg Hamiltonian factors in the right half of the MPS, excepted the last factor.\n",
    "    \"\"\"\n",
    "    index = len(scales)\n",
    "    fac = sp.zeros(index + 3, index + 2)\n",
    "    for i, val in enumerate(scales):\n",
    "        fac[1, i + 2] = val * n_op(num_atom)  # XY interaction with previous qubits\n",
    "    fac[2, 0] = n_op(num_atom)  # XY interaction with next qubits\n",
    "    for i in range(2, index + 2):\n",
    "        fac[i + 1, i] = iden_op(num_atom)\n",
    "    fac[0, 0] = iden_op(\n",
    "        num_atom\n",
    "    )  # identity to carry the next gates to the previous qubits\n",
    "    fac[1, 1] = iden_op(num_atom)  # identity to carry previous gates to next qubits\n",
    "\n",
    "    fac[1, 0] = gate\n",
    "    return fac\n",
    "\n",
    "\n",
    "def _middle_factor_rydberg(\n",
    "    gate: sp.Symbol,\n",
    "    scales_l: list[sp.Symbol],\n",
    "    scales_r: list[sp.Symbol],\n",
    "    scales_mat: list[list[sp.Symbol]],\n",
    "    num_atom:int\n",
    ")->sp.Matrix:\n",
    "    \"\"\"\n",
    "    Creates the Rydberg Hamiltonian factor at index ⌊n/2⌋ of the n-qubit MPO.\n",
    "    \"\"\"\n",
    "    assert len(scales_mat) == len(scales_l)\n",
    "    assert all(len(x) == len(scales_r) for x in scales_mat)\n",
    "\n",
    "    fac = sp.zeros(\n",
    "        len(scales_l) + 2,\n",
    "        len(scales_r) + 2,\n",
    "    )\n",
    "    for i, val in enumerate(scales_r):\n",
    "        fac[1, i + 2] = val * n_op(num_atom)  # rydberg interaction with previous qubits\n",
    "    for i, val in enumerate(scales_l):\n",
    "        fac[i + 2, 0] = val * n_op(num_atom)  # rydberg interaction with next qubits\n",
    "    for i, row in enumerate(scales_mat):\n",
    "        for j, val in enumerate(row):\n",
    "            fac[i + 2, j + 2] = (\n",
    "                val * iden_op(num_atom)\n",
    "            )  # rydberg interaction of previous with next qubits\n",
    "    fac[0, 0] = iden_op(num_atom)  # identity to carry the next gates to the previous qubits\n",
    "    fac[1, 1] = iden_op(num_atom)  # identity to carry previous gates to next qubits\n",
    "\n",
    "    fac[1, 0] = gate\n",
    "    return fac"
   ]
  },
  {
   "cell_type": "code",
   "execution_count": 5,
   "metadata": {},
   "outputs": [],
   "source": [
    "def general_make_H(interaction_matrix:list[list[sp.Symbol]],single_qubit_term:list[sp.Symbol]):\n",
    "    \"\"\"Based on make_H function of emu-mps. \n",
    "    Constains the basics functions that creates the MPO for the \n",
    "    Hamiltonian: H = SL1...La M R1 .... Rb E \"\"\"\n",
    "\n",
    "    \n",
    "    nqubits = interaction_matrix.shape[0]\n",
    "    cores = [_first_factor_rydberg(single_qubit_term[0])]\n",
    "    if nqubits > 2:\n",
    "        for i in range(1, nqubits // 2):\n",
    "\n",
    "            cores.append(\n",
    "                _left_factor_rydberg(\n",
    "                    single_qubit_term[i],\n",
    "                    [interaction_matrix[j, i] for j in range(i)],\n",
    "                i)\n",
    "            )\n",
    "\n",
    "        i = nqubits // 2\n",
    "        cores.append(\n",
    "            _middle_factor_rydberg(\n",
    "                single_qubit_term[i],\n",
    "                [interaction_matrix[j, i] for j in range(i)],\n",
    "                [interaction_matrix[i, j] for j in range(i + 1, nqubits)],\n",
    "                [\n",
    "                    [interaction_matrix[k, j] for j in range(i + 1, nqubits)]\n",
    "                    for k in range(i)\n",
    "                ],\n",
    "            i)\n",
    "        )\n",
    "\n",
    "        for i in range(nqubits // 2 + 1, nqubits - 1):\n",
    "            cores.append(\n",
    "                _right_factor_rydberg(\n",
    "                    single_qubit_term[i],\n",
    "                    [interaction_matrix[i, j] for j in range(i + 1, nqubits)],\n",
    "                i)\n",
    "            )\n",
    "\n",
    "    scale = 1 # int for printing with sympy \n",
    "    if nqubits == 2:\n",
    "        scale = interaction_matrix[0, 1]\n",
    "    cores.append(\n",
    "        _last_factor_rydberg(\n",
    "            single_qubit_term[-1],\n",
    "            scale,nqubits-1\n",
    "        )\n",
    "    )\n",
    "    return cores\n"
   ]
  },
  {
   "cell_type": "code",
   "execution_count": 6,
   "metadata": {},
   "outputs": [],
   "source": [
    "# declaring a symbol A for single site operator and U for the interaction coefficient\n",
    "def A(i: int)->sp.Symbol:\n",
    "    \"\"\"Single qubit terms\"\"\"\n",
    "    return sp.Symbol(f\"A_{i}\", commutative=False)\n",
    "\n",
    "def U(i: int, j: int)->sp.Symbol:\n",
    "    \"\"\"Interaction coefficient for i,j atoms\"\"\"\n",
    "    return sp.Symbol(f\"U_{i}{j}\")"
   ]
  },
  {
   "cell_type": "code",
   "execution_count": 7,
   "metadata": {},
   "outputs": [],
   "source": [
    "#interaction matrix \n",
    "def general_interaction_matrix(num_atoms:int)->sp.Matrix:\n",
    "    \"\"\"\" For this tutorial purpuses: generates a symmetric matrix where its elements Uᵢⱼ represents the Rydberg interaction\n",
    "    between atom i and atom j.\"\"\"\n",
    "    interaction_matrix = sp.zeros(num_atoms,num_atoms)\n",
    "    for numi in range(num_atoms):\n",
    "        for numj in range(numi + 1, num_atoms):\n",
    "            interaction_matrix[numi,numj] = U(numi,numj)\n",
    "            interaction_matrix[numj, numi] = interaction_matrix[numi, numj] # for symmetry \n",
    "    return interaction_matrix"
   ]
  },
  {
   "cell_type": "markdown",
   "metadata": {},
   "source": [
    "### Examples\n",
    "\n",
    "##### Example using 3 atoms\n",
    "The MPO for 3 atoms should contain 3 matrices: $S, M,E$. We should feed the `general_make_H` function with 3 single operators terms like [A(0),A(1),A(2)] that act on each atom and the respective interaction matrix `inter_matri`. "
   ]
  },
  {
   "cell_type": "code",
   "execution_count": 8,
   "metadata": {},
   "outputs": [
    {
     "name": "stdout",
     "output_type": "stream",
     "text": [
      "Matrix S:\n"
     ]
    },
    {
     "data": {
      "text/latex": [
       "$\\displaystyle \\left[\\begin{matrix}A_{0} & 𝟙_{0} & n_{0}\\end{matrix}\\right]$"
      ],
      "text/plain": [
       "Matrix([[A_0, 𝟙_0, n_0]])"
      ]
     },
     "metadata": {},
     "output_type": "display_data"
    },
    {
     "name": "stdout",
     "output_type": "stream",
     "text": [
      "Matrix M:\n"
     ]
    },
    {
     "data": {
      "text/latex": [
       "$\\displaystyle \\left[\\begin{matrix}𝟙_{1} & 0 & 0\\\\A_{1} & 𝟙_{1} & U_{12} n_{1}\\\\U_{01} n_{1} & 0 & U_{02} \\cdot 𝟙_{1}\\end{matrix}\\right]$"
      ],
      "text/plain": [
       "Matrix([\n",
       "[     𝟙_1,   0,        0],\n",
       "[     A_1, 𝟙_1, U_12*n_1],\n",
       "[U_01*n_1,   0, U_02*𝟙_1]])"
      ]
     },
     "metadata": {},
     "output_type": "display_data"
    },
    {
     "name": "stdout",
     "output_type": "stream",
     "text": [
      "Matrix E:\n"
     ]
    },
    {
     "data": {
      "text/latex": [
       "$\\displaystyle \\left[\\begin{matrix}𝟙_{2}\\\\A_{2}\\\\n_{2}\\end{matrix}\\right]$"
      ],
      "text/plain": [
       "Matrix([\n",
       "[𝟙_2],\n",
       "[A_2],\n",
       "[n_2]])"
      ]
     },
     "metadata": {},
     "output_type": "display_data"
    }
   ],
   "source": [
    "single_terms = [A(0),A(1),A(2)]\n",
    "inter_matri = general_interaction_matrix(3)\n",
    "cores = general_make_H(inter_matri,single_terms)\n",
    "print(\"Matrix S:\")\n",
    "display(cores[0])\n",
    "print(\"Matrix M:\")\n",
    "display(cores[1])\n",
    "print(\"Matrix E:\")\n",
    "display(cores[2])"
   ]
  },
  {
   "cell_type": "markdown",
   "metadata": {},
   "source": [
    "The final Rydberg Hamiltonian with all its terms: "
   ]
  },
  {
   "cell_type": "code",
   "execution_count": 9,
   "metadata": {},
   "outputs": [
    {
     "data": {
      "text/latex": [
       "$\\displaystyle U_{01} {n_{0}}\\otimes {{n_{1}}\\otimes {𝟙_{2}}} + U_{02} {n_{0}}\\otimes {{𝟙_{1}}\\otimes {n_{2}}} + U_{12} {𝟙_{0}}\\otimes {{n_{1}}\\otimes {n_{2}}} + {A_{0}}\\otimes {{𝟙_{1}}\\otimes {𝟙_{2}}} + {𝟙_{0}}\\otimes {{A_{1}}\\otimes {𝟙_{2}}} + {𝟙_{0}}\\otimes {{𝟙_{1}}\\otimes {A_{2}}}$"
      ],
      "text/plain": [
       "U_01*n_0xn_1x𝟙_2 + U_02*n_0x𝟙_1xn_2 + U_12*𝟙_0xn_1xn_2 + A_0x𝟙_1x𝟙_2 + 𝟙_0xA_1x𝟙_2 + 𝟙_0x𝟙_1xA_2"
      ]
     },
     "execution_count": 9,
     "metadata": {},
     "output_type": "execute_result"
    }
   ],
   "source": [
    "mpo_factors_product(*cores)"
   ]
  },
  {
   "cell_type": "markdown",
   "metadata": {},
   "source": [
    "##### For testing purposes\n",
    "We are going to create a Rydberg Hamiltonian and test it with our MPO implementation\n"
   ]
  },
  {
   "cell_type": "code",
   "execution_count": 10,
   "metadata": {},
   "outputs": [],
   "source": [
    "def reference_hamiltonian(qubit_count: int):\n",
    "    \"\"\"For testing puruposes: creates the Rydberg Hamiltonian \"\"\"\n",
    "    result = sum(gate_at({i: A(i)}, qubit_count) for i in range(qubit_count))\n",
    "\n",
    "    result += sum(\n",
    "        U(j, i) *\n",
    "        gate_at({\n",
    "            i: n_op(i),\n",
    "            j: n_op(j)\n",
    "        }, qubit_count)\n",
    "        for i in range(qubit_count) for j in range(i)\n",
    "    )\n",
    "\n",
    "    return result"
   ]
  },
  {
   "cell_type": "code",
   "execution_count": 11,
   "metadata": {},
   "outputs": [
    {
     "data": {
      "text/plain": [
       "True"
      ]
     },
     "execution_count": 11,
     "metadata": {},
     "output_type": "execute_result"
    }
   ],
   "source": [
    "## simple testing the MPO for 3 atoms with the reference Hamiltonian\n",
    "str(reference_hamiltonian(3)) == str(mpo_factors_product(*cores))"
   ]
  },
  {
   "cell_type": "markdown",
   "metadata": {},
   "source": [
    "##### Example for 5 atoms\n",
    "The MPO for 5 should contain 5 matrices: $S, L_1, M, R_1,E$"
   ]
  },
  {
   "cell_type": "code",
   "execution_count": 12,
   "metadata": {},
   "outputs": [
    {
     "name": "stdout",
     "output_type": "stream",
     "text": [
      "Matrix S:\n"
     ]
    },
    {
     "data": {
      "text/latex": [
       "$\\displaystyle \\left[\\begin{matrix}A_{0} & 𝟙_{0} & n_{0}\\end{matrix}\\right]$"
      ],
      "text/plain": [
       "Matrix([[A_0, 𝟙_0, n_0]])"
      ]
     },
     "metadata": {},
     "output_type": "display_data"
    },
    {
     "data": {
      "text/latex": [
       "Matrix $L_1$:"
      ],
      "text/plain": [
       "<IPython.core.display.Latex object>"
      ]
     },
     "metadata": {},
     "output_type": "display_data"
    },
    {
     "data": {
      "text/latex": [
       "$\\displaystyle \\left[\\begin{matrix}𝟙_{1} & 0 & 0 & 0\\\\A_{1} & 𝟙_{1} & 0 & n_{1}\\\\U_{01} n_{1} & 0 & 𝟙_{1} & 0\\end{matrix}\\right]$"
      ],
      "text/plain": [
       "Matrix([\n",
       "[     𝟙_1,   0,   0,   0],\n",
       "[     A_1, 𝟙_1,   0, n_1],\n",
       "[U_01*n_1,   0, 𝟙_1,   0]])"
      ]
     },
     "metadata": {},
     "output_type": "display_data"
    },
    {
     "name": "stdout",
     "output_type": "stream",
     "text": [
      "Matrix M:\n"
     ]
    },
    {
     "data": {
      "text/latex": [
       "$\\displaystyle \\left[\\begin{matrix}𝟙_{2} & 0 & 0 & 0\\\\A_{2} & 𝟙_{2} & U_{23} n_{2} & U_{24} n_{2}\\\\U_{02} n_{2} & 0 & U_{03} \\cdot 𝟙_{2} & U_{04} \\cdot 𝟙_{2}\\\\U_{12} n_{2} & 0 & U_{13} \\cdot 𝟙_{2} & U_{14} \\cdot 𝟙_{2}\\end{matrix}\\right]$"
      ],
      "text/plain": [
       "Matrix([\n",
       "[     𝟙_2,   0,        0,        0],\n",
       "[     A_2, 𝟙_2, U_23*n_2, U_24*n_2],\n",
       "[U_02*n_2,   0, U_03*𝟙_2, U_04*𝟙_2],\n",
       "[U_12*n_2,   0, U_13*𝟙_2, U_14*𝟙_2]])"
      ]
     },
     "metadata": {},
     "output_type": "display_data"
    },
    {
     "data": {
      "text/latex": [
       "Matrix $R_1$:"
      ],
      "text/plain": [
       "<IPython.core.display.Latex object>"
      ]
     },
     "metadata": {},
     "output_type": "display_data"
    },
    {
     "data": {
      "text/latex": [
       "$\\displaystyle \\left[\\begin{matrix}𝟙_{3} & 0 & 0\\\\A_{3} & 𝟙_{3} & U_{34} n_{3}\\\\n_{3} & 0 & 0\\\\0 & 0 & 𝟙_{3}\\end{matrix}\\right]$"
      ],
      "text/plain": [
       "Matrix([\n",
       "[𝟙_3,   0,        0],\n",
       "[A_3, 𝟙_3, U_34*n_3],\n",
       "[n_3,   0,        0],\n",
       "[  0,   0,      𝟙_3]])"
      ]
     },
     "metadata": {},
     "output_type": "display_data"
    },
    {
     "name": "stdout",
     "output_type": "stream",
     "text": [
      "Matrix E:\n"
     ]
    },
    {
     "data": {
      "text/latex": [
       "$\\displaystyle \\left[\\begin{matrix}𝟙_{4}\\\\A_{4}\\\\n_{4}\\end{matrix}\\right]$"
      ],
      "text/plain": [
       "Matrix([\n",
       "[𝟙_4],\n",
       "[A_4],\n",
       "[n_4]])"
      ]
     },
     "metadata": {},
     "output_type": "display_data"
    }
   ],
   "source": [
    "single_terms = [A(0),A(1),A(2),A(3),A(4)]\n",
    "inter_matri = general_interaction_matrix(5)\n",
    "cores = general_make_H(inter_matri,single_terms)\n",
    "print(\"Matrix S:\")\n",
    "display(cores[0])\n",
    "display(Latex(f\"Matrix $L_1$:\"))\n",
    "\n",
    "display(cores[1])\n",
    "print(\"Matrix M:\")\n",
    "display(cores[2])\n",
    "display(Latex(f\"Matrix $R_1$:\"))\n",
    "display(cores[3])\n",
    "print(\"Matrix E:\")\n",
    "display(cores[4])"
   ]
  },
  {
   "cell_type": "markdown",
   "metadata": {},
   "source": [
    "The final Rydberg Hamiltonian with all its terms is: "
   ]
  },
  {
   "cell_type": "code",
   "execution_count": 13,
   "metadata": {},
   "outputs": [
    {
     "data": {
      "text/latex": [
       "$\\displaystyle U_{01} {n_{0}}\\otimes {{n_{1}}\\otimes {{𝟙_{2}}\\otimes {{𝟙_{3}}\\otimes {𝟙_{4}}}}} + U_{02} {n_{0}}\\otimes {{𝟙_{1}}\\otimes {{n_{2}}\\otimes {{𝟙_{3}}\\otimes {𝟙_{4}}}}} + U_{03} {n_{0}}\\otimes {{𝟙_{1}}\\otimes {{𝟙_{2}}\\otimes {{n_{3}}\\otimes {𝟙_{4}}}}} + U_{04} {n_{0}}\\otimes {{𝟙_{1}}\\otimes {{𝟙_{2}}\\otimes {{𝟙_{3}}\\otimes {n_{4}}}}} + U_{12} {𝟙_{0}}\\otimes {{n_{1}}\\otimes {{n_{2}}\\otimes {{𝟙_{3}}\\otimes {𝟙_{4}}}}} + U_{13} {𝟙_{0}}\\otimes {{n_{1}}\\otimes {{𝟙_{2}}\\otimes {{n_{3}}\\otimes {𝟙_{4}}}}} + U_{14} {𝟙_{0}}\\otimes {{n_{1}}\\otimes {{𝟙_{2}}\\otimes {{𝟙_{3}}\\otimes {n_{4}}}}} + U_{23} {𝟙_{0}}\\otimes {{𝟙_{1}}\\otimes {{n_{2}}\\otimes {{n_{3}}\\otimes {𝟙_{4}}}}} + U_{24} {𝟙_{0}}\\otimes {{𝟙_{1}}\\otimes {{n_{2}}\\otimes {{𝟙_{3}}\\otimes {n_{4}}}}} + U_{34} {𝟙_{0}}\\otimes {{𝟙_{1}}\\otimes {{𝟙_{2}}\\otimes {{n_{3}}\\otimes {n_{4}}}}} + {A_{0}}\\otimes {{𝟙_{1}}\\otimes {{𝟙_{2}}\\otimes {{𝟙_{3}}\\otimes {𝟙_{4}}}}} + {𝟙_{0}}\\otimes {{A_{1}}\\otimes {{𝟙_{2}}\\otimes {{𝟙_{3}}\\otimes {𝟙_{4}}}}} + {𝟙_{0}}\\otimes {{𝟙_{1}}\\otimes {{A_{2}}\\otimes {{𝟙_{3}}\\otimes {𝟙_{4}}}}} + {𝟙_{0}}\\otimes {{𝟙_{1}}\\otimes {{𝟙_{2}}\\otimes {{A_{3}}\\otimes {𝟙_{4}}}}} + {𝟙_{0}}\\otimes {{𝟙_{1}}\\otimes {{𝟙_{2}}\\otimes {{𝟙_{3}}\\otimes {A_{4}}}}}$"
      ],
      "text/plain": [
       "U_01*n_0xn_1x𝟙_2x𝟙_3x𝟙_4 + U_02*n_0x𝟙_1xn_2x𝟙_3x𝟙_4 + U_03*n_0x𝟙_1x𝟙_2xn_3x𝟙_4 + U_04*n_0x𝟙_1x𝟙_2x𝟙_3xn_4 + U_12*𝟙_0xn_1xn_2x𝟙_3x𝟙_4 + U_13*𝟙_0xn_1x𝟙_2xn_3x𝟙_4 + U_14*𝟙_0xn_1x𝟙_2x𝟙_3xn_4 + U_23*𝟙_0x𝟙_1xn_2xn_3x𝟙_4 + U_24*𝟙_0x𝟙_1xn_2x𝟙_3xn_4 + U_34*𝟙_0x𝟙_1x𝟙_2xn_3xn_4 + A_0x𝟙_1x𝟙_2x𝟙_3x𝟙_4 + 𝟙_0xA_1x𝟙_2x𝟙_3x𝟙_4 + 𝟙_0x𝟙_1xA_2x𝟙_3x𝟙_4 + 𝟙_0x𝟙_1x𝟙_2xA_3x𝟙_4 + 𝟙_0x𝟙_1x𝟙_2x𝟙_3xA_4"
      ]
     },
     "execution_count": 13,
     "metadata": {},
     "output_type": "execute_result"
    }
   ],
   "source": [
    "mpo_factors_product(*cores)"
   ]
  },
  {
   "cell_type": "code",
   "execution_count": 14,
   "metadata": {},
   "outputs": [
    {
     "data": {
      "text/plain": [
       "True"
      ]
     },
     "execution_count": 14,
     "metadata": {},
     "output_type": "execute_result"
    }
   ],
   "source": [
    "#simple testing the Hamiltonian generated\n",
    "str(reference_hamiltonian(5)) == str(mpo_factors_product(*cores))"
   ]
  },
  {
   "cell_type": "code",
   "execution_count": null,
   "metadata": {},
   "outputs": [],
   "source": []
  }
 ],
 "metadata": {
  "kernelspec": {
   "display_name": "pulserenv",
   "language": "python",
   "name": "python3"
  },
  "language_info": {
   "codemirror_mode": {
    "name": "ipython",
    "version": 3
   },
   "file_extension": ".py",
   "mimetype": "text/x-python",
   "name": "python",
   "nbconvert_exporter": "python",
   "pygments_lexer": "ipython3",
   "version": "3.12.4"
  }
 },
 "nbformat": 4,
 "nbformat_minor": 2
}
