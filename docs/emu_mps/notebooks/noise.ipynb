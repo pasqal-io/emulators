{
 "cells": [
  {
   "cell_type": "markdown",
   "metadata": {},
   "source": [
    "# Running noisy simulations\n",
    "\n",
    "The aim of this notebook is to show how to do Monte Carlo simulations of noisy systems in emu-mps. The focus is on demonstrating the API, for information about the algorithm used, runtime and memory characteristics and potential pitfalls, please refer to the documentation.\n",
    "\n",
    "We will run a sequence without driving or interactions, starting from the `11` state, with dephasing and spontaneous emission noise, and show that when enough Monte Carlo runs are performed, the probability to find the first qubit in the `1` state decays with the spontaneous emission rate, as expected. It is impossible to run the simulation for a single qubit, since emu-mps does not support this edge case.\n",
    "\n",
    "First we import the required packages"
   ]
  },
  {
   "cell_type": "code",
   "execution_count": null,
   "metadata": {},
   "outputs": [],
   "source": [
    "import pulser\n",
    "import emu_mps\n",
    "import numpy as np\n",
    "import logging #used to turn of logging in emu_mps"
   ]
  },
  {
   "cell_type": "markdown",
   "metadata": {},
   "source": [
    "Next we define the registers. Since we will turn off interactions, the qubit positions are arbitrarily chosen based on my number of fingers."
   ]
  },
  {
   "cell_type": "code",
   "execution_count": null,
   "metadata": {},
   "outputs": [
    {
     "data": {
      "image/png": "[encoded data removed]",
      "text/plain": [
       "<Figure size 400x200 with 1 Axes>"
      ]
     },
     "metadata": {},
     "output_type": "display_data"
    }
   ],
   "source": [
    "reg = pulser.Register.from_coordinates([[0,0],[10,0]])\n",
    "reg.draw(blockade_radius=1e-10, draw_graph=True, draw_half_radius=True) #draw blockade radius as 0, since we will mask interactions in the MPSConfig"
   ]
  },
  {
   "cell_type": "markdown",
   "metadata": {},
   "source": [
    "Next we define the `Sequence`. It consists of one constant pulse on the Rydberg channel with no amplitude and detuning. The duration of the pulse is taken as `t=1000` since it makes the graphs a nice length. It also has to be a multiple of whatever `dt` we choose below, which we keep at the default `dt=10`."
   ]
  },
  {
   "cell_type": "code",
   "execution_count": null,
   "metadata": {},
   "outputs": [],
   "source": [
    "seq = pulser.Sequence(reg, pulser.devices.MockDevice)\n",
    "t = 1000\n",
    "pulse = pulser.Pulse.ConstantAmplitude(\n",
    "        0., pulser.waveforms.ConstantWaveform(t, 0.), 0.0\n",
    "    )\n",
    "seq.declare_channel(\"ising_global\", \"rydberg_global\")\n",
    "seq.add(pulse, \"ising_global\")"
   ]
  },
  {
   "cell_type": "markdown",
   "metadata": {},
   "source": [
    "We define the noise model to contain both a relaxation and a dephasing. For the system in question, dephasing has no actual influence on the dynamics since the system is always in an eigenstate of the dephasing jump operator. It's interesting to see that the correct relaxation rate still appears in the graphs though, which is why we are adding it. We're putting the rates to `1.` so that all the scaling of the graphs is in `t`"
   ]
  },
  {
   "cell_type": "code",
   "execution_count": null,
   "metadata": {},
   "outputs": [],
   "source": [
    "noise = pulser.NoiseModel(relaxation_rate=1, dephasing_rate=1.)"
   ]
  },
  {
   "cell_type": "markdown",
   "metadata": {},
   "source": [
    "We'll measure the qubit density after each time step. Since we keep the default value of `dt=10` this means the measurements are at each multiple of `10ns`, as defined in `times` below."
   ]
  },
  {
   "cell_type": "code",
   "execution_count": null,
   "metadata": {},
   "outputs": [],
   "source": [
    "times = np.arange(10., 1000.+1e-8, 10) #need to include 1000.\n",
    "times /= seq.get_duration()\n",
    "basis = (\"r\", \"g\")\n",
    "magnetization = emu_mps.Occupation(evaluation_times=times)"
   ]
  },
  {
   "cell_type": "markdown",
   "metadata": {},
   "source": [
    "As described at the start of the notebook, we start from the `11` state."
   ]
  },
  {
   "cell_type": "code",
   "execution_count": null,
   "metadata": {},
   "outputs": [],
   "source": [
    "#define initial state\n",
    "initial_state = emu_mps.MPS.from_state_amplitudes(amplitudes={\"rr\":1.},eigenstates=basis)"
   ]
  },
  {
   "cell_type": "markdown",
   "metadata": {},
   "source": [
    "Now we create the `MPSConfig` and `MPSBackend` for the above."
   ]
  },
  {
   "cell_type": "code",
   "execution_count": null,
   "metadata": {},
   "outputs": [],
   "source": [
    "#define config and backend\n",
    "config = emu_mps.MPSConfig(\n",
    "    noise_model=noise,\n",
    "    num_gpus_to_use=0, #small systems are faster on cpu\n",
    "    interaction_cutoff=1e10, #this will put all interactions to 0, regardless of spacing\n",
    "    initial_state=initial_state,\n",
    "    observables=[magnetization],\n",
    "    log_level = logging.WARN #don't print stuff for the many runs\n",
    ")\n",
    "backend = emu_mps.MPSBackend(seq, config=config)"
   ]
  },
  {
   "cell_type": "markdown",
   "metadata": {},
   "source": [
    "The way to handle results for many runs, is to store all the `Results` objects separately, and compute aggregated statistics from them afterwards."
   ]
  },
  {
   "cell_type": "code",
   "execution_count": null,
   "metadata": {},
   "outputs": [],
   "source": [
    "results = []\n",
    "nruns = 500 #0.125 seconds per run on my machine\n",
    "for _ in range(nruns):\n",
    "    results.append(backend.run())"
   ]
  },
  {
   "cell_type": "markdown",
   "metadata": {},
   "source": [
    "Let's compute the average magnetization of qubit 0 over all the simulation results for each time.\n",
    "This can be done automatically by the `Results` class and its `aggregate` static factory method.\n",
    "For a given callback, the `Observable.default_aggregation_method` attribute indicates how `aggregate` processes the values from different runs. This is only a go-to setting that isn't always available, and can be overriden by the user for specific cases."
   ]
  },
  {
   "cell_type": "code",
   "execution_count": null,
   "metadata": {},
   "outputs": [],
   "source": [
    "magnetization.default_aggregation_method"
   ]
  },
  {
   "cell_type": "markdown",
   "metadata": {},
   "source": [
    "Here we get `AggregationType.MEAN` which indicates that qubit densities are averaged by default. To actually perform this aggregation over all results. Please note that aggregating results creates a new `Observables` in the aggregate, so you cannot access them through the original `Observable` object fed through the config. However, since the `tag` for the aggregated `Observable` is the same, you get it that way."
   ]
  },
  {
   "cell_type": "code",
   "execution_count": null,
   "metadata": {},
   "outputs": [
    {
     "name": "stdout",
     "output_type": "stream",
     "text": [
      "Skipping aggregation of `statistics`\n"
     ]
    },
    {
     "data": {
      "text/plain": [
       "tensor(0.9240, dtype=torch.float64)"
      ]
     },
     "execution_count": 25,
     "metadata": {},
     "output_type": "execute_result"
    }
   ],
   "source": [
    "#this api will be subject to change when the aggregation functionality moves to pulser.\n",
    "aggregated_results = pulser.backend.Results.aggregate(results)\n",
    "aggregated_results.get_result(magnetization.tag, 100/seq.get_duration())[0] # average magnetization of qubit 0 at time 100ns"
   ]
  },
  {
   "cell_type": "markdown",
   "metadata": {},
   "source": [
    "If we were instead to be interested in the _median_ qubit density over the `nruns`, we would have to define our own aggregation method. It would look like below. Note that magnetization values are given as list of lists, where each individual list corresponds to the magnetization values for qubits of a single run, and aggregation needs to happen over all those runs for each qubit separately."
   ]
  },
  {
   "cell_type": "code",
   "execution_count": null,
   "metadata": {},
   "outputs": [
    {
     "name": "stdout",
     "output_type": "stream",
     "text": [
      "Skipping aggregation of `statistics`\n"
     ]
    },
    {
     "data": {
      "text/plain": [
       "tensor(1., dtype=torch.float64)"
      ]
     },
     "execution_count": 26,
     "metadata": {},
     "output_type": "execute_result"
    }
   ],
   "source": [
    "import statistics\n",
    "\n",
    "def median_qubit_density(qubit_density_values: list[list[float]]):\n",
    "    return [statistics.median(qubit_density[qubit_index] for qubit_density in qubit_density_values) for qubit_index in range(2)]\n",
    "\n",
    "# API for kwargs of `Results.aggregate` is `callback_name=callable_aggregator`\n",
    "aggregated_median_qubit_density = pulser.backend.Results.aggregate(results, occupation=median_qubit_density)\n",
    "aggregated_median_qubit_density.get_result(magnetization.tag, 100/seq.get_duration())[0] # median magnetization of qubit 0 at time 100ns"
   ]
  },
  {
   "cell_type": "markdown",
   "metadata": {},
   "source": [
    "The median of the magnetization at time 100ns is 1. This can be a bit surprising, but is in fact perfectly natural given how the Monte Carlo simulation works: in a single run, qubit density is not continuous but randomly jumps from 1 to 0. We can check that e.g. by turning lists of magnetization values into Python sets with only 2 elements 0 and 1:"
   ]
  },
  {
   "cell_type": "code",
   "execution_count": null,
   "metadata": {},
   "outputs": [
    {
     "name": "stdout",
     "output_type": "stream",
     "text": [
      "Skipping aggregation of `statistics`\n"
     ]
    },
    {
     "data": {
      "text/plain": [
       "tensor(1., dtype=torch.float64)"
      ]
     },
     "execution_count": 27,
     "metadata": {},
     "output_type": "execute_result"
    }
   ],
   "source": [
    "def set_density(qubit_density_values: list[list[float]]):\n",
    "    return [set(qubit_density[qubit_index] for qubit_density in qubit_density_values) for qubit_index in range(2)]\n",
    "\n",
    "aggregated_set_qubit_density = pulser.backend.Results.aggregate(results, occupation=set_density)\n",
    "aggregated_median_qubit_density.get_result(magnetization.tag, 100/seq.get_duration())[0]\n",
    "# The extra 0.999 value comes from floating-point maths, Monte-Carlo logic and state renormalization."
   ]
  },
  {
   "cell_type": "markdown",
   "metadata": {},
   "source": [
    "\n",
    "To show the convergence of that quantity as the number of runs grows, we can aggregate only the first `n <= nruns` results. Here's a utility function doing that:"
   ]
  },
  {
   "cell_type": "code",
   "execution_count": null,
   "metadata": {},
   "outputs": [],
   "source": [
    "def densities(results, n):\n",
    "    return [density[0] for density in pulser.backend.Results.aggregate(results[:n]).occupation]"
   ]
  },
  {
   "cell_type": "markdown",
   "metadata": {},
   "source": [
    "Define the true mean of the magnetization towards which the sample statistics should converge as `nruns -> inf`"
   ]
  },
  {
   "cell_type": "code",
   "execution_count": null,
   "metadata": {},
   "outputs": [],
   "source": [
    "expected = [np.exp(-1*t*seq.get_duration()/1000) for t in times]"
   ]
  },
  {
   "cell_type": "markdown",
   "metadata": {},
   "source": [
    "Plot the magnetization. Here we see good agreement with the limit at `n=200` already, but if you're unlucky, even for `n=500` results can differ. "
   ]
  },
  {
   "cell_type": "code",
   "execution_count": null,
   "metadata": {},
   "outputs": [
    {
     "name": "stdout",
     "output_type": "stream",
     "text": [
      "Skipping aggregation of `statistics`\n",
      "Skipping aggregation of `statistics`\n",
      "Skipping aggregation of `statistics`\n"
     ]
    },
    {
     "data": {
      "text/plain": [
       "<matplotlib.legend.Legend at 0x7f6ca3e25ba0>"
      ]
     },
     "execution_count": 30,
     "metadata": {},
     "output_type": "execute_result"
    },
    {
     "data": {
      "image/png": "[encoded data removed]",
      "text/plain": [
       "<Figure size 640x480 with 1 Axes>"
      ]
     },
     "metadata": {},
     "output_type": "display_data"
    }
   ],
   "source": [
    "import matplotlib.pyplot as pl\n",
    "pl.plot(times, expected, label=\"expected\")\n",
    "for n in [100, 200, 500]:\n",
    "    pl.plot(times, densities(results, n), label=f\"n = {n}\")\n",
    "pl.legend(loc=\"upper right\")"
   ]
  }
 ],
 "metadata": {
  "kernelspec": {
   "display_name": "3.12.11",
   "language": "python",
   "name": "python3"
  },
  "language_info": {
   "codemirror_mode": {
    "name": "ipython",
    "version": 3
   },
   "file_extension": ".py",
   "mimetype": "text/x-python",
   "name": "python",
   "nbconvert_exporter": "python",
   "pygments_lexer": "ipython3",
   "version": "3.12.11"
  }
 },
 "nbformat": 4,
 "nbformat_minor": 2
}
