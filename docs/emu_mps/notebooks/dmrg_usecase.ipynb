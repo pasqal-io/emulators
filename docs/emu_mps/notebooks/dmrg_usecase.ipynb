{
 "cells": [
  {
   "cell_type": "markdown",
   "id": "c9ca6bc2",
   "metadata": {},
   "source": [
    "# DMRG tutorial: Getting started\n",
    "\n",
    "The aim of this tutorial is to show how the `DMRG` algorithm can be used to simulate pulser sequences.\n",
    "`DMRG` can be faithfully used to simulate adiabatic pulser sequences. It can also be used for more general tasks, e.g. finding the ground state of a specific Hamiltonian.\n",
    "\n",
    "For more information about the DMRG solver, please refer to the DMRG documentation[I need to put the documentation here]"
   ]
  },
  {
   "cell_type": "markdown",
   "id": "8e5fdf02",
   "metadata": {},
   "source": [
    "Let us import the ingredients needed to run a pulser simulation using the `DMRG` solver\n",
    "- `MPS`: used to construct a matrix product state\n",
    "- `MPSConfig`: used to configure the emu-mps MPSBackend\n",
    "- `MPSBackend`: used as a backend to simulate pulser sequences using MPS\n",
    "- `Bitstrings`, `Fidelity`, `Occupation`: observables that can be extracted at specific `evaluation times` during time evolution\n",
    "- `Solver`: used to choose the particular solver for a specific simulation. Two solvers are currently supported: `TDVP` (default) and `DMRG`.\n",
    "- `pulser`: needed to create the Pulser experiment (creating the register, laser and pulse sequences)."
   ]
  },
  {
   "cell_type": "code",
   "execution_count": 2,
   "id": "405ade29",
   "metadata": {},
   "outputs": [],
   "source": [
    "import matplotlib.pyplot as plt\n",
    "from emu_mps.mps import MPS\n",
    "from emu_mps import (\n",
    "    MPS,\n",
    "    MPSConfig,\n",
    "    MPSBackend,\n",
    "    BitStrings,\n",
    "    Fidelity,\n",
    "    Occupation,\n",
    ")\n",
    "from emu_mps.solver import Solver\n",
    "import math\n",
    "import pulser\n",
    "from pulser.devices import AnalogDevice\n",
    "import numpy as np"
   ]
  },
  {
   "cell_type": "markdown",
   "id": "92c94b0f",
   "metadata": {},
   "source": [
    "## Running a simulation using emu-mps\n",
    "\n",
    "Emu-mps is a Pulser backend, designed to `Emulate` the dynamics of programmable arrays of neutral atoms.\n",
    "The simulation takes place using the method `run`, which requires two arguments:\n",
    "- a valid Pulser sequence\n",
    "- a configuration file\n",
    "\n",
    "The following Notebook provides a step-by-step guide to be able to trigger the `DMRG` algorithm to simulate an AFM sequence. Below you find the workflow necessary to build the experiment successfully: \n",
    "1. Create the atomic `register` using Pulser\n",
    "2. Design a pulse sequence (`sequence`) that produces the AFM state for the given register\n",
    "3. Create an `MPSConfig` object (`MPSConfig_obj`), and add the observables that you wish to study, along with other parameters such as the time step\n",
    "4. Instantiate the backend class (`MPSBackend`) to run the simulation\n",
    "5. Run the simulation using `run(sequence, MPSConfig_obj)`\n",
    "5. Print the results."
   ]
  },
  {
   "cell_type": "markdown",
   "id": "a8ee96b6",
   "metadata": {},
   "source": [
    "### Register and Sequence creation"
   ]
  },
  {
   "cell_type": "markdown",
   "id": "7a6024ef",
   "metadata": {},
   "source": [
    "To make this tutorial focused on the backend functionalities we use two auxiliary functions to quickly create the Pulser object. \n",
    "\n",
    "The function `square_perimeter_points` calculates the coordinates of the atoms located on the perimeter of a square. \n",
    "The qubits will be labeled starting from the bottom-left corner and moving counter-clockwise around the square. Please, notice that the measured bitstrings will depend on the order chosen for the atom locations.\n",
    "\n",
    "The function `afm_sequence_from_register` creates the pulse sequence for the AFM state for the specified register. The sequence will consist of three phases: a rise, a sweep, and a fall where the sweep time is proportional to the rise and fall times. "
   ]
  },
  {
   "cell_type": "code",
   "execution_count": 3,
   "id": "8458feb0",
   "metadata": {},
   "outputs": [],
   "source": [
    "def afm_sequence_from_register(\n",
    "    reg: pulser.Register,\n",
    "    Omega_max: float,\n",
    "    delta_0: float,\n",
    "    delta_f: float,\n",
    "    t_rise: float,\n",
    "    t_fall: float,\n",
    "    factor_sweep: int,\n",
    "    device: pulser.devices = pulser.devices.MockDevice,\n",
    ") -> pulser.Sequence:\n",
    "    \"\"\"Sequence that creates AntiFerromagnetic State (AFM) for 1d chain of atoms using pulser.\n",
    "    This function constructs a sequence of pulses to transition a system of qubits\n",
    "    distributed in a 1d chain (represented by `reg`) into an AFM state using a specified device.\n",
    "    The sequence consists of three phases: a rise, a sweep, and a fall.\n",
    "    For more information, check Pulser\n",
    "    [tutorial](https://pulser.readthedocs.io/en/stable/tutorials/afm_prep.html).\"\"\"\n",
    "\n",
    "    t_sweep = (delta_f - delta_0) / (2 * np.pi * 10) * 1000 * factor_sweep\n",
    "    rise = pulser.Pulse.ConstantDetuning(\n",
    "        pulser.waveforms.RampWaveform(t_rise, 0.0, Omega_max), delta_0, 0.0\n",
    "    )\n",
    "    sweep = pulser.Pulse.ConstantAmplitude(\n",
    "        Omega_max, pulser.waveforms.RampWaveform(t_sweep, delta_0, delta_f), 0.0\n",
    "    )\n",
    "    fall = pulser.Pulse.ConstantDetuning(\n",
    "        pulser.waveforms.RampWaveform(t_fall, Omega_max, 0.0), delta_f, 0.0\n",
    "    )\n",
    "\n",
    "    seq = pulser.Sequence(reg, device)\n",
    "    seq.declare_channel(\"ising_global\", \"rydberg_global\")\n",
    "    seq.add(rise, \"ising_global\")\n",
    "    seq.add(sweep, \"ising_global\")\n",
    "    seq.add(fall, \"ising_global\")\n",
    "\n",
    "    return seq\n",
    "\n",
    "\n",
    "def square_perimeter_points(L: int) -> np.ndarray:\n",
    "    \"\"\"\n",
    "    Calculate the coordinates of the points located on the perimeter of a square of size L.\n",
    "    The square is centered at the origin (0, 0) with sides parallel to the axes.\n",
    "    The points are ordered starting from the bottom-left corner and moving\n",
    "    counter-clockwise around the square. The order is important when measuare the bitstrings\n",
    "\n",
    "    Args:\n",
    "        L (int): The length of the side of the square. L should be a positive integer.\n",
    "\n",
    "    Returns:\n",
    "        np.ndarray: An array of shape (4*L-4, 2) containing the coordinates of the perimeter points.\n",
    "\n",
    "    Example:\n",
    "        >>> square_perimeter_points(3)\n",
    "        array([[-1, -1],\n",
    "               [-1,  0],\n",
    "               [-1,  1],\n",
    "               [ 0,  1],\n",
    "               [ 1,  1],\n",
    "               [ 1,  0],\n",
    "               [ 1, -1],\n",
    "               [ 0, -1]])\n",
    "    \"\"\"\n",
    "    pairOrodd = L % 2\n",
    "    toGrid = int(math.floor(L / 2))\n",
    "    if pairOrodd == 0:\n",
    "        axis = list(range(-toGrid, toGrid, 1))\n",
    "    else:\n",
    "        axis = list(range(-toGrid, toGrid + 1, 1))\n",
    "    coord = []\n",
    "    for i in axis:  # from left, first column of the perimeter\n",
    "        coord.append([axis[0], i])\n",
    "\n",
    "    for i in axis[1:-1]:\n",
    "        coord.append([i, axis[-1]])\n",
    "\n",
    "    for i in reversed(axis):\n",
    "        coord.append([axis[-1], i])\n",
    "\n",
    "    for i in reversed(axis[1:-1]):\n",
    "        coord.append([i, axis[0]])\n",
    "\n",
    "    return np.array(coord)\n"
   ]
  },
  {
   "cell_type": "markdown",
   "id": "676d5796",
   "metadata": {},
   "source": [
    "We start by defining the main physical quantities needed to prepare the system. For the reader's conveninence we recall here their meaning:\n",
    "- `Omega_max` is the peak laser amplitude used in the pulse sequence\n",
    "- `delta_0` is the initial detuning used in the pulse\n",
    "- `delta_f` is the final detuning used in the pulse\n",
    "- `t_rise` is the duration of the rise phase\n",
    "- `t_fall` is the duraction of the fall phase\n",
    "- `sweep_factor` is a scale factor expressing the duration of the sweep phase in terms of `delta_f - delta_0`\n",
    "Note that we make the interatomic distance depend on `Omega_max` so that the interaction strength in the system is relative to the pulse parameters."
   ]
  },
  {
   "cell_type": "code",
   "execution_count": 4,
   "id": "fe902842",
   "metadata": {},
   "outputs": [],
   "source": [
    "Omega_max = 2 * 2 * np.pi\n",
    "delta_0 = -6 * Omega_max / 2\n",
    "delta_f = 1 * Omega_max / 2\n",
    "t_rise = 500\n",
    "t_fall = 1500\n",
    "sweep_factor = 2\n",
    "\n",
    "square_length = 3\n",
    "R_interatomic = AnalogDevice.rydberg_blockade_radius(Omega_max / 2)"
   ]
  },
  {
   "cell_type": "markdown",
   "id": "9c3ca7bd",
   "metadata": {},
   "source": [
    "As discussed above, we start with the first step:\n",
    "\n",
    "`Create the atomic register using Pulser`. This register is a square of 8 atoms"
   ]
  },
  {
   "cell_type": "code",
   "execution_count": 6,
   "id": "dcd0532b",
   "metadata": {},
   "outputs": [
    {
     "data": {
      "image/png": "[encoded data removed]",
      "text/plain": [
       "<Figure size 400x400 with 1 Axes>"
      ]
     },
     "metadata": {},
     "output_type": "display_data"
    }
   ],
   "source": [
    "coords = R_interatomic * square_perimeter_points(square_length)\n",
    "reg = pulser.Register.from_coordinates(coords)\n",
    "reg.draw(blockade_radius=R_interatomic, draw_graph=True, draw_half_radius=True)"
   ]
  },
  {
   "cell_type": "markdown",
   "id": "86df2cb0",
   "metadata": {},
   "source": [
    "Then, we proceed to the next step:\n",
    "\n",
    "`Design a pulse sequence (sequence) that produces the AFM state for the given register`"
   ]
  },
  {
   "cell_type": "code",
   "execution_count": 7,
   "id": "b8d71bf0",
   "metadata": {},
   "outputs": [
    {
     "data": {
      "image/png": "[encoded data removed]",
      "text/plain": [
       "<Figure size 2000x400 with 3 Axes>"
      ]
     },
     "metadata": {},
     "output_type": "display_data"
    }
   ],
   "source": [
    "seq = afm_sequence_from_register(\n",
    "    reg, Omega_max, delta_0, delta_f, t_rise, t_fall, sweep_factor, AnalogDevice\n",
    ")\n",
    "seq.draw(\"input\")"
   ]
  },
  {
   "cell_type": "markdown",
   "id": "ecb41159",
   "metadata": {},
   "source": [
    "### Using emu-mps as backend\n",
    "\n",
    "As mentioned earlier, to run a simulation with emu-mps we need to provide as input a Pulse sequence - which we have just created - and a configuration object. \n",
    "\n",
    "We still have to create the configuration for the emu-mps backend. This is done via an instantiation of the configuration class `MPSConfig` which contains all the observables that we wish to measure and the time step chosen for the simulation, along with various algorithm specific parameters that are explained in the documentation.\n",
    "\n",
    "We start by setting a bigger discretization time than the default one provided ($dt=10$) and enforcing that the times at which we compute the observables are an integer multiple of $dt$. For simplicity, we will measure the observables only at the final time of the simulation.\n",
    "\n",
    "We also fix the basis along which the measurements will be done. For the details regarding the conventions used we refer to the [Pulser documentation](https://pulser.readthedocs.io/en/stable/conventions.html)."
   ]
  },
  {
   "cell_type": "code",
   "execution_count": 8,
   "id": "0eb5579f",
   "metadata": {},
   "outputs": [],
   "source": [
    "dt = 100\n",
    "eval_times = [1.0]\n",
    "\n",
    "basis = (\"r\",\"g\")"
   ]
  },
  {
   "cell_type": "markdown",
   "id": "bb5f881b",
   "metadata": {},
   "source": [
    "### Among the default observables already available in the emu-mps backend, we focus in this particular example on three:\n",
    "- BitString sampling\n",
    "- Fidelity of the state\n",
    "- Qubit density"
   ]
  },
  {
   "cell_type": "markdown",
   "id": "8e1e5ec5",
   "metadata": {},
   "source": [
    "#### BitString samples\n",
    "It samples at desired time steps the evolved state, returning the *bitStrings* in a counter"
   ]
  },
  {
   "cell_type": "code",
   "execution_count": 10,
   "id": "f09ff1a9",
   "metadata": {},
   "outputs": [],
   "source": [
    "sampling_times = 1000\n",
    "bitstrings = BitStrings(evaluation_times=eval_times, num_shots=sampling_times)"
   ]
  },
  {
   "cell_type": "markdown",
   "id": "1daf6a22",
   "metadata": {},
   "source": [
    "#### Fidelity\n",
    "\n",
    "The *fidelity* is computed as $\\langle \\psi_{evolved} | \\phi_{given} \\rangle$ where \n",
    "- $\\psi_{evolved}$ is the system state at desired steps\n",
    "- $\\phi_{given}$ is the state in which we want to project the state system.\n",
    "\n",
    "In this tutorial we will compute the fidelity against the dominant of the two antiferromagnetic states $\\phi_{given} = |rgrgrgrg>$"
   ]
  },
  {
   "cell_type": "code",
   "execution_count": 11,
   "id": "178519af",
   "metadata": {},
   "outputs": [],
   "source": [
    "nqubits = len(seq.register.qubit_ids)\n",
    "\n",
    "afm_string_pure = {\"rgrgrgrg\": 1.0}\n",
    "\n",
    "afm_mps_state = MPS.from_state_amplitudes(\n",
    "    eigenstates=basis, amplitudes=afm_string_pure\n",
    ")\n",
    "fidelity_mps_pure = Fidelity(evaluation_times=eval_times, state=afm_mps_state)"
   ]
  },
  {
   "cell_type": "markdown",
   "id": "82dbbb1b",
   "metadata": {},
   "source": [
    "#### Qubit Density\n",
    "It is computed as $\\langle \\psi_{evolved} |\\frac{(1+Z_i)}{2}|\\psi_{evolved}\\rangle$ and often informally referred to as the *magnetization* at each atom site."
   ]
  },
  {
   "cell_type": "code",
   "execution_count": 12,
   "id": "31e0f334",
   "metadata": {},
   "outputs": [],
   "source": [
    "density = Occupation(\n",
    "    evaluation_times=[x/seq.get_duration() for x in range(0, seq.get_duration(), dt)]\n",
    ")"
   ]
  },
  {
   "cell_type": "markdown",
   "id": "d75a4bfc",
   "metadata": {},
   "source": [
    "##### After choosing the observables that you wish to calculate at the evaluation times, you are ready to create the MPS configuration object.\n",
    "The MPS config has the argument `solver` which takes two values:\n",
    "- `Solver.DMRG` if you require the `DMRG` algorithm to run the simulation\n",
    "- `Solver.TDVP` if you require the `TDVP` algorithm to run the simulation\n",
    "\n",
    "It is important to emphasize that the default solver is `TDVP`."
   ]
  },
  {
   "cell_type": "code",
   "execution_count": 13,
   "id": "1aeebb27",
   "metadata": {},
   "outputs": [],
   "source": [
    "mpsconfig = MPSConfig(\n",
    "    dt=dt,\n",
    "    observables=[\n",
    "        bitstrings,\n",
    "        fidelity_mps_pure,\n",
    "        density,\n",
    "    ],\n",
    "    solver=Solver.DMRG,\n",
    ")"
   ]
  },
  {
   "cell_type": "markdown",
   "id": "6688e94a",
   "metadata": {},
   "source": [
    "### Having all the ingredients needed, it is time to run the simulation\n",
    "\n",
    "We instantiate the backend class `MPSBackend` and use its `run` method where we pass as argument the `sequence` and the `backend configuration` objects."
   ]
  },
  {
   "cell_type": "code",
   "execution_count": 14,
   "id": "ac275bef",
   "metadata": {},
   "outputs": [
    {
     "name": "stdout",
     "output_type": "stream",
     "text": [
      "step = 1/34, χ = 2, |ψ| = 0.001 MB, RSS = 553.736 MB, Δt = 0.117 s\n",
      "step = 2/34, χ = 2, |ψ| = 0.001 MB, RSS = 553.736 MB, Δt = 0.077 s\n",
      "step = 3/34, χ = 2, |ψ| = 0.001 MB, RSS = 553.736 MB, Δt = 0.084 s\n",
      "step = 4/34, χ = 2, |ψ| = 0.001 MB, RSS = 553.736 MB, Δt = 0.057 s\n",
      "step = 5/34, χ = 4, |ψ| = 0.002 MB, RSS = 553.864 MB, Δt = 0.098 s\n",
      "step = 6/34, χ = 4, |ψ| = 0.002 MB, RSS = 553.864 MB, Δt = 0.084 s\n",
      "step = 7/34, χ = 4, |ψ| = 0.002 MB, RSS = 553.864 MB, Δt = 0.079 s\n",
      "step = 8/34, χ = 5, |ψ| = 0.003 MB, RSS = 553.864 MB, Δt = 0.095 s\n",
      "step = 9/34, χ = 5, |ψ| = 0.004 MB, RSS = 553.864 MB, Δt = 0.082 s\n",
      "step = 10/34, χ = 5, |ψ| = 0.004 MB, RSS = 553.864 MB, Δt = 0.083 s\n",
      "step = 11/34, χ = 5, |ψ| = 0.004 MB, RSS = 553.864 MB, Δt = 0.045 s\n",
      "step = 12/34, χ = 5, |ψ| = 0.004 MB, RSS = 553.864 MB, Δt = 0.052 s\n",
      "step = 13/34, χ = 6, |ψ| = 0.004 MB, RSS = 553.992 MB, Δt = 0.039 s\n",
      "step = 14/34, χ = 6, |ψ| = 0.004 MB, RSS = 553.992 MB, Δt = 0.053 s\n",
      "step = 15/34, χ = 7, |ψ| = 0.005 MB, RSS = 553.992 MB, Δt = 0.075 s\n",
      "step = 16/34, χ = 8, |ψ| = 0.006 MB, RSS = 554.504 MB, Δt = 0.073 s\n",
      "step = 17/34, χ = 8, |ψ| = 0.006 MB, RSS = 554.504 MB, Δt = 0.045 s\n",
      "step = 18/34, χ = 8, |ψ| = 0.006 MB, RSS = 554.504 MB, Δt = 0.179 s\n",
      "step = 19/34, χ = 8, |ψ| = 0.006 MB, RSS = 554.504 MB, Δt = 0.068 s\n",
      "step = 20/34, χ = 9, |ψ| = 0.006 MB, RSS = 554.504 MB, Δt = 0.028 s\n",
      "step = 21/34, χ = 10, |ψ| = 0.007 MB, RSS = 554.504 MB, Δt = 0.099 s\n",
      "step = 22/34, χ = 10, |ψ| = 0.007 MB, RSS = 554.504 MB, Δt = 0.111 s\n",
      "step = 23/34, χ = 10, |ψ| = 0.007 MB, RSS = 554.504 MB, Δt = 0.038 s\n",
      "step = 24/34, χ = 10, |ψ| = 0.007 MB, RSS = 554.504 MB, Δt = 0.036 s\n",
      "step = 25/34, χ = 11, |ψ| = 0.008 MB, RSS = 555.144 MB, Δt = 0.037 s\n",
      "step = 26/34, χ = 11, |ψ| = 0.008 MB, RSS = 555.144 MB, Δt = 0.038 s\n",
      "step = 27/34, χ = 12, |ψ| = 0.009 MB, RSS = 555.272 MB, Δt = 0.079 s\n",
      "step = 28/34, χ = 12, |ψ| = 0.009 MB, RSS = 555.272 MB, Δt = 0.114 s\n",
      "step = 29/34, χ = 12, |ψ| = 0.009 MB, RSS = 555.272 MB, Δt = 0.178 s\n",
      "step = 30/34, χ = 13, |ψ| = 0.009 MB, RSS = 555.656 MB, Δt = 0.065 s\n",
      "step = 31/34, χ = 12, |ψ| = 0.009 MB, RSS = 555.656 MB, Δt = 0.036 s\n",
      "step = 32/34, χ = 11, |ψ| = 0.008 MB, RSS = 555.912 MB, Δt = 0.042 s\n",
      "step = 33/34, χ = 7, |ψ| = 0.006 MB, RSS = 555.912 MB, Δt = 0.028 s\n",
      "step = 34/34, χ = 3, |ψ| = 0.002 MB, RSS = 556.808 MB, Δt = 0.070 s\n"
     ]
    }
   ],
   "source": [
    "sim = MPSBackend(seq, config=mpsconfig)\n",
    "results = sim.run()"
   ]
  },
  {
   "cell_type": "markdown",
   "id": "43223428",
   "metadata": {},
   "source": [
    "During simulation time one has access to the following information: \n",
    "- step: the whole sequence is discretized by dt and this generates a number of steps. \n",
    "- $\\chi$ : is the bond dimension\n",
    "- $|\\Psi|$: memory footprint\n",
    "- RSS: max memory allocation\n",
    "- $\\triangle t$: time that the step took to run"
   ]
  },
  {
   "cell_type": "markdown",
   "id": "6999fd5f",
   "metadata": {},
   "source": [
    "## Inspecting the result object\n",
    "\n",
    "In the following lines, we are going to give a brief code examples of how you can get the information from the results object"
   ]
  },
  {
   "cell_type": "code",
   "execution_count": 15,
   "id": "afcdbcaa",
   "metadata": {},
   "outputs": [
    {
     "data": {
      "text/plain": [
       "['occupation', 'statistics', 'bitstrings', 'fidelity']"
      ]
     },
     "execution_count": 15,
     "metadata": {},
     "output_type": "execute_result"
    }
   ],
   "source": [
    "results.get_result_tags()"
   ]
  },
  {
   "cell_type": "markdown",
   "id": "4e198e2a",
   "metadata": {},
   "source": [
    "Notice that the fidelity name contains an index, because it is possible to create several fidelities on different states, and the names must be unique."
   ]
  },
  {
   "cell_type": "markdown",
   "id": "f5ca633f",
   "metadata": {},
   "source": [
    "#### Bitstrings analysis\n",
    "\n",
    "Below, we retrieve the bistrings computed.\n",
    "We observe that they were indeed computed only at a single time $ns = 3400$, and we find those that were sampled the highest number of times with their relative counting."
   ]
  },
  {
   "cell_type": "code",
   "execution_count": null,
   "id": "9f2e2392",
   "metadata": {},
   "outputs": [],
   "source": [
    "results.get_result_times(bitstrings)\n",
    "bitstrings_final = results.get_result(bitstrings, 1.0)\n",
    "\n",
    "max_val = max(bitstrings_final.values())  # max number of counts in the bitstring\n",
    "max_string = [key for key, value in bitstrings_final.items() if value == max_val]\n",
    "print(\n",
    "    \"The most frequent bitstring is {} which was sampled {} times\".format(\n",
    "        max_string, max_val\n",
    "    )\n",
    ")\n",
    "\n",
    "filtered_counts = [count for count in bitstrings_final.values() if count > 20]\n",
    "filtered_bitstrings = [\n",
    "    bitstring for bitstring, count in bitstrings_final.items() if count > 20\n",
    "]\n",
    "x_labels = range(len(filtered_bitstrings))\n",
    "with plt.style.context(\"seaborn-v0_8-darkgrid\"):\n",
    "    fig, ax = plt.subplots()\n",
    "    ax.bar(x_labels, filtered_counts, color=\"teal\", alpha=0.8)\n",
    "    ax.set_xlabel(\"Bitstrings\")\n",
    "    ax.set_ylabel(\"Counts\")\n",
    "    ax.set_title(\"Histogram of Bitstring Counts (Counts > 20)\")\n",
    "    ax.set_xticks(x_labels)\n",
    "    ax.set_xticklabels(filtered_bitstrings, rotation=\"vertical\")\n",
    "    ax.spines[\"top\"].set_visible(False)\n",
    "    ax.spines[\"right\"].set_visible(False)\n",
    "    plt.tight_layout()\n",
    "    plt.show()"
   ]
  },
  {
   "cell_type": "markdown",
   "id": "54495822",
   "metadata": {},
   "source": [
    "#### Fidelity analysis\n",
    "\n",
    "Here we compute the fidelity of the system against the two different AFM state realizations defined above.  "
   ]
  },
  {
   "cell_type": "code",
   "execution_count": null,
   "id": "6a58bfaa",
   "metadata": {},
   "outputs": [],
   "source": [
    "fidelity_pure = results.get_result(fidelity_mps_pure,1.0)\n",
    "\n",
    "print(\n",
    "    \"The fidelity computed for the system final state against the pure state |rgrgrgr> is {}.\\nThe probability of the system being in that sate is equal to {} \".format(\n",
    "        fidelity_pure, abs(fidelity_pure) ** 2\n",
    "    )\n",
    ")"
   ]
  },
  {
   "cell_type": "markdown",
   "id": "34b39c55",
   "metadata": {},
   "source": [
    "### Evolution of the state in time\n",
    "\n",
    "Here, we plot the time evolution of the magnetization of the system sites, and we observe how the system slowly reaches the AFM state."
   ]
  },
  {
   "cell_type": "code",
   "execution_count": null,
   "id": "1c5fb70c",
   "metadata": {},
   "outputs": [],
   "source": [
    "magnetization_values = np.array(list(results.occupation))\n",
    "magnetization_times = results.get_result_times(density)"
   ]
  },
  {
   "cell_type": "code",
   "execution_count": null,
   "id": "a1a06d2f",
   "metadata": {},
   "outputs": [],
   "source": [
    "fig, ax = plt.subplots(figsize=(8, 4), layout=\"constrained\")\n",
    "\n",
    "num_time_points, positions = magnetization_values.shape\n",
    "x, y = np.meshgrid(np.arange(num_time_points), np.arange(1, positions + 1))\n",
    "im = plt.pcolormesh(magnetization_times, y, magnetization_values.T, shading=\"auto\")\n",
    "ax.set_xlabel(\"Time [ns]\")\n",
    "ax.set_ylabel(\"Qubit\")\n",
    "ax.set_title(\"State Density\")\n",
    "ax.set_yticks(np.arange(1, positions + 1))\n",
    "cb = fig.colorbar(im, ax=ax)"
   ]
  }
 ],
 "metadata": {
  "kernelspec": {
   "display_name": "my_github_venv",
   "language": "python",
   "name": "python3"
  },
  "language_info": {
   "codemirror_mode": {
    "name": "ipython",
    "version": 3
   },
   "file_extension": ".py",
   "mimetype": "text/x-python",
   "name": "python",
   "nbconvert_exporter": "python",
   "pygments_lexer": "ipython3",
   "version": "3.10.12"
  }
 },
 "nbformat": 4,
 "nbformat_minor": 5
}
