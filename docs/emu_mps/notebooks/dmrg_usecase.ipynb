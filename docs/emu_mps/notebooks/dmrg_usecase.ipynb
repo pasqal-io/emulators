{
 "cells": [
  {
   "cell_type": "markdown",
   "id": "c9ca6bc2",
   "metadata": {},
   "source": [
    "# DMRG tutorial: Getting started\n",
    "\n",
    "The aim of this tutorial is to show how the **Density Matrix Renormalization Group (DMRG)** algorithm can be used to simulate Pulser sequences.\n",
    "DMRG is a powerful variational method for finding the ground state of 1D and 2D quantum many-body systems. In practice, it can be used to\n",
    "- Simulate adiabatic Pulser sequences.\n",
    "- find the ground state of a specific Hamiltonian\n",
    "\n",
    "For more information about the DMRG solver, please refer to the [DMRG documentation](put the reference later)"
   ]
  },
  {
   "cell_type": "markdown",
   "id": "8e5fdf02",
   "metadata": {},
   "source": [
    "Let us start by importing the main components required to run a Pulser simulation with the `DMRG` solver:\n",
    "- **`MPS`**: a class for constructing a matrix product state MPS\n",
    "- **`MPSConfig`**: a configuration class for setting up the `emu-mps` MPSBackend\n",
    "- **`MPSBackend`**: the backend class that runs pulse sequences using MPS\n",
    "- **`Bitstrings`, `Fidelity`, `Occupation`**: observables that can be measured at specified *evaluation times* during the simulation\n",
    "- **`Solver`**: a class for selecting the algorithm to be used in the simulation. Two solvers are currently supported:\n",
    "    - `TDVP` (default): can be used to simulate any Pulser sequence\n",
    "    - `DMRG`: can be used to efficiently simulate adiabatic Pulser sequences\n",
    "- **`pulser`**: The Pulser library, used to construct the experiment (register, lasers, and pulse sequences).  \n"
   ]
  },
  {
   "cell_type": "code",
   "execution_count": null,
   "id": "405ade29",
   "metadata": {},
   "outputs": [],
   "source": [
    "import matplotlib.pyplot as plt\n",
    "from emu_mps.mps import MPS\n",
    "from emu_mps import (\n",
    "    MPS,\n",
    "    MPSConfig,\n",
    "    MPSBackend,\n",
    "    BitStrings,\n",
    "    Fidelity,\n",
    "    Occupation,\n",
    ")\n",
    "from emu_mps.solver import Solver\n",
    "import math\n",
    "import pulser\n",
    "from pulser.devices import AnalogDevice\n",
    "import numpy as np"
   ]
  },
  {
   "cell_type": "markdown",
   "id": "92c94b0f",
   "metadata": {},
   "source": [
    "## Running a simulation using `emu-mps`\n",
    "\n",
    "`emu-mps` is a Pulser backend designed to **emulate** the dynamics of programmable arrays of neutral atoms.\n",
    "The simulation is executed via the `run` method of the **MPSBackend**, which takes two arguments:\n",
    "- a valid Pulser **sequence**,\n",
    "- an **MPSConfig** object (configuration file)\n",
    "\n",
    "In this tutorial, we demonstrate how to trigger the `DMRG` algorithm to simulate an antiferromagnetic (AFM) sequence.  \n",
    "The workflow proceeds as follows:  \n",
    "1. **Create the atomic register** using Pulser\n",
    "2. **Design a pulse sequence** (`sequence`) that drives the system into the AFM state for the given register\n",
    "3. **Configure the simulation** by creating an MPSConfig object (`mpsconfig_obj`), and specifying observables (e.g, bitstrings, fidelity, occupation) and other parameters such as the time step\n",
    "4. **Instantiate the MPSBackend** (`mps_backend`)\n",
    "5. **Run the simulation** using `mps_backend.run(sequence, mpsconfig_obj)`\n",
    "5. **Extract the results**"
   ]
  },
  {
   "cell_type": "markdown",
   "id": "a8ee96b6",
   "metadata": {},
   "source": [
    "### Register and Sequence creation"
   ]
  },
  {
   "cell_type": "markdown",
   "id": "7a6024ef",
   "metadata": {},
   "source": [
    "To make this tutorial focused on the backend functionalities, we use two auxiliary functions to quickly set up the Pulser object. \n",
    "\n",
    "- **square_perimeter_points**: computes the coordinates of the atoms located on the perimeter of a square.\n",
    "    - the atoms are labeled starting from the bottom-left corner and moving counter-clockwise.  \n",
    "    - note that the ordering of atom positions determines the ordering of the measured bitstrings.  \n",
    "\n",
    "- **afm_sequence_from_register**: creates a pulse sequence that prepares the AFM state for the given register. \n",
    "    - The sequence consists of three phases: **rise**, **sweep**, and **fall**, with the sweep duration chosen proportional to the rise and fall times.  \n"
   ]
  },
  {
   "cell_type": "code",
   "execution_count": null,
   "id": "e9f9e6a6",
   "metadata": {},
   "outputs": [],
   "source": [
    "from utils import square_perimeter_points, afm_sequence_from_register"
   ]
  },
  {
   "cell_type": "markdown",
   "id": "676d5796",
   "metadata": {},
   "source": [
    "We begin by defining the main physical parameters needed to prepare the system. For the reader's conveninence we recall their meaning:\n",
    "- **`Omega_max`**: peak laser amplitude used in the pulse sequence\n",
    "- **`delta_0`**: initial detuning of the pulse\n",
    "- **`delta_f`**: final detuning of the pulse\n",
    "- **`t_rise`**:duration of the rise phase\n",
    "- **`t_fall`**: duraction of the fall phase\n",
    "- **`sweep_factor`**: scale factor expressing the duration of the sweep phase in terms of `delta_f - delta_0`\n",
    "\n",
    "Note that the interatomic distance is chosen to scale with `Omega_max`, so that the interaction strength in the system is relative to the pulse parameters."
   ]
  },
  {
   "cell_type": "code",
   "execution_count": null,
   "id": "fe902842",
   "metadata": {},
   "outputs": [],
   "source": [
    "Omega_max = 2 * 2 * np.pi\n",
    "delta_0 = -6 * Omega_max / 2\n",
    "delta_f = 1 * Omega_max / 2\n",
    "t_rise = 500\n",
    "t_fall = 1500\n",
    "sweep_factor = 2\n",
    "\n",
    "square_length = 3\n",
    "R_interatomic = AnalogDevice.rydberg_blockade_radius(Omega_max / 2)"
   ]
  },
  {
   "cell_type": "markdown",
   "id": "9c3ca7bd",
   "metadata": {},
   "source": [
    "As discussed above, we begin with the first step:\n",
    "\n",
    "**Create the atomic register using Pulser.**\n",
    "\n",
    "In this example, the register consists of a square array of 8 atoms."
   ]
  },
  {
   "cell_type": "code",
   "execution_count": null,
   "id": "dcd0532b",
   "metadata": {},
   "outputs": [],
   "source": [
    "coords = R_interatomic * square_perimeter_points(square_length)\n",
    "reg = pulser.Register.from_coordinates(coords)\n",
    "reg.draw(blockade_radius=R_interatomic, draw_graph=True, draw_half_radius=True)"
   ]
  },
  {
   "cell_type": "markdown",
   "id": "86df2cb0",
   "metadata": {},
   "source": [
    "Next, we proceed to the next step:\n",
    "\n",
    "**Design a pulse sequence (sequence) that produces the AFM state for the given register**\n",
    "\n",
    "We use the utility function `afm_sequence_from_register` to construct the sequence based on the physical parameters defined earlier."
   ]
  },
  {
   "cell_type": "code",
   "execution_count": null,
   "id": "b8d71bf0",
   "metadata": {},
   "outputs": [],
   "source": [
    "seq = afm_sequence_from_register(\n",
    "    reg, Omega_max, delta_0, delta_f, t_rise, t_fall, sweep_factor, AnalogDevice\n",
    ")\n",
    "seq.draw(\"input\")"
   ]
  },
  {
   "cell_type": "markdown",
   "id": "ecb41159",
   "metadata": {},
   "source": [
    "### Using `emu-mps` as backend\n",
    "\n",
    "As mentioned earlier, to run a simulation with emu-mps we need to provide two inputs: a pulse sequence — which we have just created — and a configuration object. \n",
    "\n",
    "The configuration for the `emu-mps` backend is created by instantiating the `MPSConfig` class. This class contains:\n",
    "\n",
    "- the observables that we wish to measure, \n",
    "- the time step chosen for the simulation (`dt`),\n",
    "- the solver algorithm to use (`solver`), which can be `Solver.TDVP` or `Solver.DMRG`,\n",
    "- and various algorithm-specific parameters (explained in the documentation).\n",
    "\n",
    "We start by setting a bigger discretization time than the default one provided ($dt=10$) and enforcing that the times at which we compute the observables are an integer multiple of $dt$. \n",
    "\n",
    "For simplicity, we will measure the observables only at the final time of the simulation.\n",
    "\n",
    "We also fix the basis along which the measurements will be done. For the details regarding the conventions used we refer to the [Pulser documentation](https://pulser.readthedocs.io/en/stable/conventions.html)."
   ]
  },
  {
   "cell_type": "code",
   "execution_count": null,
   "id": "0eb5579f",
   "metadata": {},
   "outputs": [],
   "source": [
    "dt = 100\n",
    "eval_times = [1.0]\n",
    "\n",
    "basis = (\"r\",\"g\")"
   ]
  },
  {
   "cell_type": "markdown",
   "id": "bb5f881b",
   "metadata": {},
   "source": [
    "### Observables in `emu-mps`\n",
    "\n",
    " Among the default observables available in the `emu-mps` backend, we focus on three in this example:\n",
    "- **BitString sampling**\n",
    "- **Fidelity of the evolved state**\n",
    "- **Occupation (Qubit density)**"
   ]
  },
  {
   "cell_type": "markdown",
   "id": "8e1e5ec5",
   "metadata": {},
   "source": [
    "#### BitString samples\n",
    "It samples at desired time steps the evolved state, returning the *bitStrings* in a counter"
   ]
  },
  {
   "cell_type": "code",
   "execution_count": null,
   "id": "f09ff1a9",
   "metadata": {},
   "outputs": [],
   "source": [
    "sampling_times = 1000\n",
    "bitstrings = BitStrings(evaluation_times=eval_times, num_shots=sampling_times)"
   ]
  },
  {
   "cell_type": "markdown",
   "id": "1daf6a22",
   "metadata": {},
   "source": [
    "#### Fidelity\n",
    "\n",
    "The *fidelity* is computed as $\\langle \\psi_{evolved} | \\phi_{given} \\rangle$ where \n",
    "- $\\psi_{evolved}$ is the system state at desired steps\n",
    "- $\\phi_{given}$ is the state in which we want to project the state system.\n",
    "\n",
    "In this tutorial we compute the fidelity against the dominant of the two antiferromagnetic states $\\phi_{given} = |rgrgrgrg>$"
   ]
  },
  {
   "cell_type": "code",
   "execution_count": null,
   "id": "178519af",
   "metadata": {},
   "outputs": [],
   "source": [
    "nqubits = len(seq.register.qubit_ids)\n",
    "\n",
    "afm_string_pure = {\"rgrgrgrg\": 1.0}\n",
    "\n",
    "afm_mps_state = MPS.from_state_amplitudes(\n",
    "    eigenstates=basis, amplitudes=afm_string_pure\n",
    ")\n",
    "fidelity_mps_pure = Fidelity(evaluation_times=eval_times, state=afm_mps_state)"
   ]
  },
  {
   "cell_type": "markdown",
   "id": "82dbbb1b",
   "metadata": {},
   "source": [
    "#### Qubit Density\n",
    "It is computed as $\\langle \\psi_{evolved} |\\frac{(1+Z_i)}{2}|\\psi_{evolved}\\rangle$ and often informally referred to as the *magnetization* at each atom site."
   ]
  },
  {
   "cell_type": "code",
   "execution_count": null,
   "id": "31e0f334",
   "metadata": {},
   "outputs": [],
   "source": [
    "density = Occupation(\n",
    "    evaluation_times=[x/seq.get_duration() for x in range(0, seq.get_duration(), dt)]\n",
    ")"
   ]
  },
  {
   "cell_type": "markdown",
   "id": "d75a4bfc",
   "metadata": {},
   "source": [
    "##### Creating the MPS configuration object\n",
    "\n",
    "After choosing the observables you wish to study, you are ready to create the MPS configuration object `MPSConfig`.\n",
    "\n",
    "The `MPSConfig` class has the `solver` argument, which determines which algorithm will be used for the simulation:\n",
    "- **`Solver.DMRG`**: runs the simulation using the DMRG algorithm.\n",
    "- **`Solver.TDVP`**: runs the simulation using the TDVP algorithm (default). \n",
    "\n",
    "> Note 1: if no solver is specified, `TDVP` will be used by default.\n",
    "\n",
    "> Note 2: the **DMRG** solver should be used **only for adiabatic pulse sequences**, where the system evolves slowly enough for DMRG to produce accurate results. It is not intended for general-purpose Pulser sequence simulations.\n"
   ]
  },
  {
   "cell_type": "code",
   "execution_count": null,
   "id": "1aeebb27",
   "metadata": {},
   "outputs": [],
   "source": [
    "mpsconfig = MPSConfig(\n",
    "    dt=dt,\n",
    "    observables=[\n",
    "        bitstrings,\n",
    "        fidelity_mps_pure,\n",
    "        density,\n",
    "    ],\n",
    "    solver=Solver.DMRG,\n",
    ")"
   ]
  },
  {
   "cell_type": "markdown",
   "id": "6688e94a",
   "metadata": {},
   "source": [
    "### Running the simulation\n",
    "\n",
    "With all the ingredients in place, we can now run the simulation.\n",
    "\n",
    "We instantiate the backend class `MPSBackend` and call its `run` method, where we pass as argument the sequence (`seq`) and the MPSConfig object `mpsconfig`."
   ]
  },
  {
   "cell_type": "code",
   "execution_count": null,
   "id": "ac275bef",
   "metadata": {},
   "outputs": [],
   "source": [
    "sim = MPSBackend(seq, config=mpsconfig)\n",
    "results = sim.run()"
   ]
  },
  {
   "cell_type": "markdown",
   "id": "43223428",
   "metadata": {},
   "source": [
    "During simulation time one has access to the following information: \n",
    "- step: the whole sequence is discretized by dt and this generates a number of steps. \n",
    "- $\\chi$ : is the bond dimension\n",
    "- $|\\Psi|$: memory footprint\n",
    "- RSS: max memory allocation\n",
    "- $\\triangle t$: time that the step took to run"
   ]
  },
  {
   "cell_type": "markdown",
   "id": "6999fd5f",
   "metadata": {},
   "source": [
    "## Inspecting the result object\n",
    "\n",
    "In the following code, we provide brief examples of how to extract information from the `results` object returned by the simulation."
   ]
  },
  {
   "cell_type": "code",
   "execution_count": null,
   "id": "afcdbcaa",
   "metadata": {},
   "outputs": [],
   "source": [
    "results.get_result_tags()"
   ]
  },
  {
   "cell_type": "markdown",
   "id": "f5ca633f",
   "metadata": {},
   "source": [
    "#### Bitstrings analysis\n",
    "\n",
    "Below, we retrieve the bistrings computed in the simulation.\n",
    "\n",
    "Since we measured observables only at the final time (`ns = 3400`), we expect results only for that time. \n",
    "We also find identify the bitstrings that were sampled most frequently and report their relative counts."
   ]
  },
  {
   "cell_type": "code",
   "execution_count": null,
   "id": "9f2e2392",
   "metadata": {},
   "outputs": [],
   "source": [
    "results.get_result_times(bitstrings)\n",
    "bitstrings_final = results.get_result(bitstrings, 1.0)\n",
    "\n",
    "max_val = max(bitstrings_final.values())  # max number of counts in the bitstring\n",
    "max_string = [key for key, value in bitstrings_final.items() if value == max_val]\n",
    "print(\n",
    "    \"The most frequent bitstring is {} which was sampled {} times\".format(\n",
    "        max_string, max_val\n",
    "    )\n",
    ")\n",
    "\n",
    "filtered_counts = [count for count in bitstrings_final.values() if count > 20]\n",
    "filtered_bitstrings = [\n",
    "    bitstring for bitstring, count in bitstrings_final.items() if count > 20\n",
    "]\n",
    "x_labels = range(len(filtered_bitstrings))\n",
    "with plt.style.context(\"seaborn-v0_8-darkgrid\"):\n",
    "    fig, ax = plt.subplots()\n",
    "    ax.bar(x_labels, filtered_counts, color=\"teal\", alpha=0.8)\n",
    "    ax.set_xlabel(\"Bitstrings\")\n",
    "    ax.set_ylabel(\"Counts\")\n",
    "    ax.set_title(\"Histogram of Bitstring Counts (Counts > 20)\")\n",
    "    ax.set_xticks(x_labels)\n",
    "    ax.set_xticklabels(filtered_bitstrings, rotation=\"vertical\")\n",
    "    ax.spines[\"top\"].set_visible(False)\n",
    "    ax.spines[\"right\"].set_visible(False)\n",
    "    plt.tight_layout()\n",
    "    plt.show()"
   ]
  },
  {
   "cell_type": "markdown",
   "id": "acbd8a2a",
   "metadata": {},
   "source": [
    "> **Observation:**  \n",
    "> The DMRG solver successfully found the AFM state at the end of the simulation.  \n",
    "> The bitstring `['10101010']` was sampled 993 times out of 1000, indicating that the system reached the expected AFM state.\n"
   ]
  },
  {
   "cell_type": "markdown",
   "id": "54495822",
   "metadata": {},
   "source": [
    "#### Fidelity analysis\n",
    "\n",
    "Here we compute the fidelity of the system against the two different AFM state realizations defined above.  "
   ]
  },
  {
   "cell_type": "code",
   "execution_count": null,
   "id": "6a58bfaa",
   "metadata": {},
   "outputs": [],
   "source": [
    "fidelity_pure = results.get_result(fidelity_mps_pure,1.0)\n",
    "\n",
    "print(\n",
    "    \"The fidelity computed for the system final state against the pure state |rgrgrgr> is {}.\\nThe probability of the system being in that state is equal to {} \".format(\n",
    "        fidelity_pure, abs(fidelity_pure) ** 2\n",
    "    )\n",
    ")"
   ]
  },
  {
   "cell_type": "markdown",
   "id": "34b39c55",
   "metadata": {},
   "source": [
    "### Evolution of the state in time\n",
    "\n",
    "Here, we plot the time evolution of the magnetization of the system sites, and we observe how the system slowly reaches the AFM state."
   ]
  },
  {
   "cell_type": "code",
   "execution_count": null,
   "id": "1c5fb70c",
   "metadata": {},
   "outputs": [],
   "source": [
    "magnetization_values = np.array(list(results.occupation))\n",
    "magnetization_times = results.get_result_times(density)"
   ]
  },
  {
   "cell_type": "code",
   "execution_count": null,
   "id": "a1a06d2f",
   "metadata": {},
   "outputs": [],
   "source": [
    "fig, ax = plt.subplots(figsize=(8, 4), layout=\"constrained\")\n",
    "\n",
    "num_time_points, positions = magnetization_values.shape\n",
    "x, y = np.meshgrid(np.arange(num_time_points), np.arange(1, positions + 1))\n",
    "im = plt.pcolormesh(magnetization_times, y, magnetization_values.T, shading=\"auto\")\n",
    "ax.set_xlabel(\"Time [ns]\")\n",
    "ax.set_ylabel(\"Qubit\")\n",
    "ax.set_title(\"State Density\")\n",
    "ax.set_yticks(np.arange(1, positions + 1))\n",
    "cb = fig.colorbar(im, ax=ax)"
   ]
  }
 ],
 "metadata": {
  "kernelspec": {
   "display_name": "my_github_venv",
   "language": "python",
   "name": "python3"
  },
  "language_info": {
   "codemirror_mode": {
    "name": "ipython",
    "version": 3
   },
   "file_extension": ".py",
   "mimetype": "text/x-python",
   "name": "python",
   "nbconvert_exporter": "python",
   "pygments_lexer": "ipython3",
   "version": "3.10.12"
  }
 },
 "nbformat": 4,
 "nbformat_minor": 5
}
