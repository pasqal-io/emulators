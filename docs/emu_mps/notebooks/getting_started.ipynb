{
 "cells": [
  {
   "cell_type": "markdown",
   "id": "38d07511-cedb-4486-a2f4-b0ee9e182b4e",
   "metadata": {},
   "source": [
    "# Getting started with emu-mps\n",
    "\n",
    "The aim of this tutorial is to show how emu-mps can be used as a Pulser backend to run a pulse sequence and how to extract the most important information of the system via observables such as magnetization and few more.\n",
    "In this tutorial we show how to emulate step-by-step an antiferromagnetic (AFM) state with a 1D ring of atoms.\n",
    "For more information about this specific pulse sequence, please refer to the [Pulser tutorial](https://pulser.readthedocs.io/en/stable/tutorials/afm_prep.html) dedicated to such experiment."
   ]
  },
  {
   "cell_type": "markdown",
   "id": "2c78d9ad",
   "metadata": {},
   "source": [
    "Let's first import all the needed libraries."
   ]
  },
  {
   "cell_type": "code",
   "execution_count": null,
   "id": "d56493c2-d4a4-49d4-b373-1178d80b08ec",
   "metadata": {},
   "outputs": [],
   "source": [
    "from typing import Any\n",
    "import matplotlib.pyplot as plt\n",
    "from emu_mps import (\n",
    "    MPS,\n",
    "    MPSConfig,\n",
    "    MPSBackend,\n",
    "    BitStrings,\n",
    "    Fidelity,\n",
    "    Occupation,\n",
    ")\n",
    "\n",
    "import pulser\n",
    "from pulser.devices import AnalogDevice\n",
    "import numpy as np\n",
    "import math"
   ]
  },
  {
   "cell_type": "markdown",
   "id": "ed7a8639",
   "metadata": {},
   "source": [
    "## Pulser and emu-mps\n",
    "\n",
    "Emu-mps is a Pulser backend, designed to Emulate the dynamics of programmable arrays of neutral atoms.\n",
    "It works in a very intuitive way: the main method is called `run` which is used to run the simulation. This method requires as argument a Pulser sequence and a configuration file.\n",
    "\n",
    "Here are the steps that we will go through in the following:\n",
    "1. using Pulser we will create first the atomic Register\n",
    "2. again with Pulser we will then generate the Pulse sequence that produce the AFM state for the created register\n",
    "3. we create the configuration object (`MPSConfig`) and we fill it with the needed observables and time step\n",
    "4. we instantiate the backend class (`MPSBackend`) and run the simulation\n",
    "5. we inspect the results obtained"
   ]
  },
  {
   "cell_type": "markdown",
   "id": "7a5ca14f",
   "metadata": {},
   "source": [
    "### Register and Sequence creation"
   ]
  },
  {
   "cell_type": "markdown",
   "id": "d146b5b7",
   "metadata": {},
   "source": [
    "To make this tutorial focused on the backend functionalities we use two auxiliary functions to quickly create the Pulser object. \n",
    "\n",
    "The function `square_perimeter_points` calculates the coordinates of the atoms located on the perimeter of a square. \n",
    "The qubits will be labeled starting from the bottom-left corner and moving counter-clockwise around the square. Please, notice that the measured bitstrings will depend on the order chosen for the atom locations.\n",
    "\n",
    "The function `afm_sequence_from_register` creates the pulse sequence for the AFM state for the specified register. The sequence will consist of three phases: a rise, a sweep, and a fall where the sweep time is proportional to the rise and fall times. "
   ]
  },
  {
   "cell_type": "code",
   "execution_count": null,
   "id": "fdc5de96",
   "metadata": {},
   "outputs": [],
   "source": [
    "def afm_sequence_from_register(\n",
    "    reg: pulser.Register,\n",
    "    Omega_max: float,\n",
    "    delta_0: float,\n",
    "    delta_f: float,\n",
    "    t_rise: int,\n",
    "    t_fall: int,\n",
    "    factor_sweep: int,\n",
    "    device: Any = pulser.devices.MockDevice,\n",
    ") -> pulser.Sequence:\n",
    "    \"\"\"Sequence that creates AntiFerromagnetic State (AFM) for 1d chain of atoms using pulser.\n",
    "    This function constructs a sequence of pulses to transition a system of qubits\n",
    "    distributed in a 1d chain (represented by `reg`) into an AFM state using a specified device.\n",
    "    The sequence consists of three phases: a rise, a sweep, and a fall.\n",
    "    For more information, check Pulser\n",
    "    [tutorial](https://pulser.readthedocs.io/en/stable/tutorials/afm_prep.html).\"\"\"\n",
    "\n",
    "    t_sweep = (delta_f - delta_0) / (2 * np.pi * 10) * 1000 * factor_sweep\n",
    "    rise = pulser.Pulse.ConstantDetuning(\n",
    "        pulser.waveforms.RampWaveform(t_rise, 0.0, Omega_max), delta_0, 0.0\n",
    "    )\n",
    "    sweep = pulser.Pulse.ConstantAmplitude(\n",
    "        Omega_max, pulser.waveforms.RampWaveform(int(t_sweep), delta_0, delta_f), 0.0\n",
    "    )\n",
    "    fall = pulser.Pulse.ConstantDetuning(\n",
    "        pulser.waveforms.RampWaveform(t_fall, Omega_max, 0.0), delta_f, 0.0\n",
    "    )\n",
    "\n",
    "    seq = pulser.Sequence(reg, device)\n",
    "    seq.declare_channel(\"ising_global\", \"rydberg_global\")\n",
    "    seq.add(rise, \"ising_global\")\n",
    "    seq.add(sweep, \"ising_global\")\n",
    "    seq.add(fall, \"ising_global\")\n",
    "\n",
    "    return seq\n",
    "\n",
    "\n",
    "def square_perimeter_points(L: int) -> np.ndarray:\n",
    "    \"\"\"\n",
    "    Calculate the coordinates of the points located on the perimeter of a square of size L.\n",
    "    The square is centered at the origin (0, 0) with sides parallel to the axes.\n",
    "    The points are ordered starting from the bottom-left corner and moving\n",
    "    counter-clockwise around the square. The order is important when measuare the bitstrings\n",
    "\n",
    "    Args:\n",
    "        L (int): The length of the side of the square. L should be a positive integer.\n",
    "\n",
    "    Returns:\n",
    "        np.ndarray: An array of shape (4*L-4, 2) containing the coordinates of the perimeter points.\n",
    "\n",
    "    Example:\n",
    "        >>> square_perimeter_points(3)\n",
    "        array([[-1, -1],\n",
    "               [-1,  0],\n",
    "               [-1,  1],\n",
    "               [ 0,  1],\n",
    "               [ 1,  1],\n",
    "               [ 1,  0],\n",
    "               [ 1, -1],\n",
    "               [ 0, -1]])\n",
    "    \"\"\"\n",
    "    pairOrodd = L % 2\n",
    "    toGrid = int(math.floor(L / 2))\n",
    "    if pairOrodd == 0:\n",
    "        axis = list(range(-toGrid, toGrid, 1))\n",
    "    else:\n",
    "        axis = list(range(-toGrid, toGrid + 1, 1))\n",
    "    coord = []\n",
    "    for i in axis:  # from left, first column of the perimeter\n",
    "        coord.append([axis[0], i])\n",
    "\n",
    "    for i in axis[1:-1]:\n",
    "        coord.append([i, axis[-1]])\n",
    "\n",
    "    for i in reversed(axis):\n",
    "        coord.append([axis[-1], i])\n",
    "\n",
    "    for i in reversed(axis[1:-1]):\n",
    "        coord.append([i, axis[0]])\n",
    "\n",
    "    return np.array(coord)"
   ]
  },
  {
   "cell_type": "markdown",
   "id": "cd3c2e32",
   "metadata": {},
   "source": [
    "We start by defining the main physical quantities needed to prepare the system. For the reader's conveninence we recall here their meaining:\n",
    "- `Omega_max` is the peak laser amplitude used in the pulse sequence\n",
    "- `delta_0` is the initial detuning used in the pulse\n",
    "- `delta_f` is the final detuning used in the pulse\n",
    "- `t_rise` is the duration of the rise phase\n",
    "- `t_fall` is the duraction of the fall phase\n",
    "- `sweep_factor` is a scale factor expressing the duration of the sweep phase in terms of `delta_f - delta_0`\n",
    "Note that we make the interatomic distance depend on `Omega_max` so that the interaction strength in the system is relative to the pulse parameters."
   ]
  },
  {
   "cell_type": "code",
   "execution_count": null,
   "id": "4916042a-2cae-427b-95c8-575f4fea1c81",
   "metadata": {},
   "outputs": [],
   "source": [
    "Omega_max = 2 * 2 * np.pi\n",
    "delta_0 = -6 * Omega_max / 2\n",
    "delta_f = 1 * Omega_max / 2\n",
    "t_rise = 500\n",
    "t_fall = 1500\n",
    "sweep_factor = 2\n",
    "\n",
    "square_length = 3\n",
    "R_interatomic = AnalogDevice.rydberg_blockade_radius(Omega_max / 2)"
   ]
  },
  {
   "cell_type": "markdown",
   "id": "cd656e9b",
   "metadata": {},
   "source": [
    "We can now create the register consisting of 8 atom locations."
   ]
  },
  {
   "cell_type": "code",
   "execution_count": null,
   "id": "3514339d",
   "metadata": {},
   "outputs": [],
   "source": [
    "coords = R_interatomic * square_perimeter_points(square_length)\n",
    "reg = pulser.Register.from_coordinates(coords)\n",
    "reg.draw(blockade_radius=R_interatomic, draw_graph=True, draw_half_radius=True)"
   ]
  },
  {
   "cell_type": "markdown",
   "id": "3ba93b97",
   "metadata": {},
   "source": [
    "And finally the pulse sequence that will realize the AFM state:"
   ]
  },
  {
   "cell_type": "code",
   "execution_count": null,
   "id": "df43e0d1",
   "metadata": {},
   "outputs": [],
   "source": [
    "seq = afm_sequence_from_register(\n",
    "    reg, Omega_max, delta_0, delta_f, t_rise, t_fall, sweep_factor, AnalogDevice\n",
    ")\n",
    "seq.draw(\"input\")"
   ]
  },
  {
   "cell_type": "markdown",
   "id": "619f73cd-f199-4610-a185-c2cd0a9c475b",
   "metadata": {},
   "source": [
    "### Using emu-mps as backend\n",
    "\n",
    "As mentioned earlier, to run a simulation with the emu-mps backend we need to provide as input a Pulse sequence - which we have just created - and a configuration object. \n",
    "\n",
    "We still have to create the configuration for the emu-mps backend. This is done via an instantiation of the configuration class `MPSConfig` which contains all the observables that we wish to measure and the time step chosen for the simulation, along with various algorithm specific parameters that are explained in the documentation.\n",
    "\n",
    "We start by setting a bigger discretization time than the default one provided ($dt=10$) and enforcing that the times at which we compute the observables are an integer multiple of $dt$. For simplicity, we will measure the observables only at the final time of the simulation.\n",
    "\n",
    "We also fix the basis along which the measurements will be done. For the details regarding the conventions used we refer to the [Pulser documentation](https://pulser.readthedocs.io/en/stable/conventions.html)."
   ]
  },
  {
   "cell_type": "code",
   "execution_count": null,
   "id": "6b43b6dc",
   "metadata": {},
   "outputs": [],
   "source": [
    "dt = 100\n",
    "eval_times = [1.0]\n",
    "\n",
    "basis = (\"r\",\"g\")"
   ]
  },
  {
   "cell_type": "markdown",
   "id": "743af440",
   "metadata": {},
   "source": [
    "#### BitString counts\n",
    "It samples at desired time steps the evolved state, returning the *bitStrings* in a counter."
   ]
  },
  {
   "cell_type": "code",
   "execution_count": null,
   "id": "5e07c811",
   "metadata": {},
   "outputs": [],
   "source": [
    "sampling_times = 1000\n",
    "bitstrings = BitStrings(evaluation_times=eval_times, num_shots=sampling_times)"
   ]
  },
  {
   "cell_type": "markdown",
   "id": "13c5a27a",
   "metadata": {},
   "source": [
    "#### Fidelity\n",
    "\n",
    "The *fidelity* is computed as $\\langle \\psi_{evolved} | \\phi_{given} \\rangle$ where \n",
    "- $\\psi_{evolved}$ is the system state at desired steps\n",
    "- $\\phi_{given}$ is the state in which we want to project the state system.\n",
    "\n",
    "In this tutorial we will compute the fidelity against the dominant of the two antiferromagnetic states $\\phi_{given} = |rgrgrgrg>$"
   ]
  },
  {
   "cell_type": "code",
   "execution_count": null,
   "id": "5a4d3bdc",
   "metadata": {},
   "outputs": [],
   "source": [
    "nqubits = len(seq.register.qubit_ids)\n",
    "\n",
    "afm_string_pure = {\"rgrgrgrg\": 1.0}\n",
    "\n",
    "afm_mps_state = MPS.from_state_amplitudes(\n",
    "    eigenstates=basis, amplitudes=afm_string_pure\n",
    ")\n",
    "fidelity_mps_pure = Fidelity(evaluation_times=eval_times, state=afm_mps_state)"
   ]
  },
  {
   "cell_type": "markdown",
   "id": "5dc6234e",
   "metadata": {},
   "source": [
    "#### Qubit Density\n",
    "It is computed as $\\langle \\psi_{evolved} |\\frac{(1+Z_i)}{2}|\\psi_{evolved}\\rangle$ and often informally referred to as the *magnetization* at each atom site."
   ]
  },
  {
   "cell_type": "code",
   "execution_count": null,
   "id": "381abaab",
   "metadata": {},
   "outputs": [],
   "source": [
    "density = Occupation(\n",
    "    evaluation_times=[x/seq.get_duration() for x in range(0, seq.get_duration(), dt)]\n",
    ")"
   ]
  },
  {
   "cell_type": "markdown",
   "id": "f63cbb79",
   "metadata": {},
   "source": [
    "#### Configuration object for emu-mps"
   ]
  },
  {
   "cell_type": "code",
   "execution_count": null,
   "id": "09d71fb6",
   "metadata": {},
   "outputs": [],
   "source": [
    "mpsconfig = MPSConfig(\n",
    "    dt=dt,\n",
    "    observables=[\n",
    "        bitstrings,\n",
    "        fidelity_mps_pure,\n",
    "        density,\n",
    "    ],\n",
    ")"
   ]
  },
  {
   "cell_type": "markdown",
   "id": "a8e70b71",
   "metadata": {},
   "source": [
    "### Finally we run\n",
    "\n",
    "We instantiate the backend class `MPSBackend` and use its `run` method where we pass as argument the `sequence` and the `backend configuration` objects."
   ]
  },
  {
   "cell_type": "code",
   "execution_count": null,
   "id": "3185d7f3-1b55-4efc-9ee9-761a132e78f3",
   "metadata": {},
   "outputs": [],
   "source": [
    "sim = MPSBackend(seq, config=mpsconfig)\n",
    "results = sim.run()"
   ]
  },
  {
   "cell_type": "markdown",
   "id": "e97de582",
   "metadata": {},
   "source": [
    "During simulation time one has access to the following information: \n",
    "- step: the whole sequence is discretized by dt and this generates a number of steps. \n",
    "- $\\chi$ : is the bond dimension\n",
    "- $|\\Psi|$: memory footprint\n",
    "- RSS: max memory allocation\n",
    "- $\\triangle t$: time that the step took to run"
   ]
  },
  {
   "cell_type": "markdown",
   "id": "74469402",
   "metadata": {},
   "source": [
    "## Inspecting the result object\n",
    "\n",
    "In the following lines, we are going to give a brief code examples of how you can get the information from the results object"
   ]
  },
  {
   "cell_type": "code",
   "execution_count": null,
   "id": "780d682c",
   "metadata": {},
   "outputs": [],
   "source": [
    "results.get_result_tags()"
   ]
  },
  {
   "cell_type": "markdown",
   "id": "18d2a95d",
   "metadata": {},
   "source": [
    "Notice that the fidelity name contains an index, because it is possible to create several fidelities on different states, and the names must be unique."
   ]
  },
  {
   "cell_type": "markdown",
   "id": "22e15484",
   "metadata": {},
   "source": [
    "#### Bitstrings analysis\n",
    "\n",
    "Below, we retrieve the bistrings computed.\n",
    "We observe that they were indeed computed only at a single time $ns = 3400$, and we find those that were sampled the highest number of times with their relative counting."
   ]
  },
  {
   "cell_type": "code",
   "execution_count": null,
   "id": "4fb1ccfb-1743-451e-8ad0-d8b257f600cc",
   "metadata": {},
   "outputs": [],
   "source": [
    "results.get_result_times(bitstrings)\n",
    "bitstrings_final = results.get_result(bitstrings, 1.0)\n",
    "\n",
    "max_val = max(bitstrings_final.values())  # max number of counts in the bitstring\n",
    "max_string = [key for key, value in bitstrings_final.items() if value == max_val]\n",
    "print(\n",
    "    \"The most frequent bitstring is {} which was sampled {} times\".format(\n",
    "        max_string, max_val\n",
    "    )\n",
    ")\n",
    "\n",
    "filtered_counts = [count for count in bitstrings_final.values() if count > 20]\n",
    "filtered_bitstrings = [\n",
    "    bitstring for bitstring, count in bitstrings_final.items() if count > 20\n",
    "]\n",
    "x_labels = range(len(filtered_bitstrings))\n",
    "with plt.style.context(\"seaborn-v0_8-darkgrid\"):\n",
    "    fig, ax = plt.subplots()\n",
    "    ax.bar(x_labels, filtered_counts, color=\"teal\", alpha=0.8)\n",
    "    ax.set_xlabel(\"Bitstrings\")\n",
    "    ax.set_ylabel(\"Counts\")\n",
    "    ax.set_title(\"Histogram of Bitstring Counts (Counts > 20)\")\n",
    "    ax.set_xticks(x_labels)\n",
    "    ax.set_xticklabels(filtered_bitstrings, rotation=\"vertical\")\n",
    "    ax.spines[\"top\"].set_visible(False)\n",
    "    ax.spines[\"right\"].set_visible(False)\n",
    "    plt.tight_layout()\n",
    "    plt.show()"
   ]
  },
  {
   "cell_type": "markdown",
   "id": "2450a773",
   "metadata": {},
   "source": [
    "#### Fidelity analysis\n",
    "\n",
    "Here we compute the fidelity of the system against the two different AFM state realizations defined above.  "
   ]
  },
  {
   "cell_type": "code",
   "execution_count": null,
   "id": "cb3e8977",
   "metadata": {},
   "outputs": [],
   "source": [
    "fidelity_pure = results.get_result(fidelity_mps_pure,1.0)\n",
    "\n",
    "print(\n",
    "    \"The fidelity computed for the system final state against the pure state |rgrgrgr> is {}.\\nThe probability of the system being in that sate is equal to {} \".format(\n",
    "        fidelity_pure, abs(fidelity_pure) ** 2\n",
    "    )\n",
    ")"
   ]
  },
  {
   "cell_type": "markdown",
   "id": "bbe1b07d",
   "metadata": {},
   "source": [
    "### Evolution of the state in time\n",
    "\n",
    "Here, we plot the time evolution of the magnetization of the system sites, and we observe how the system slowly reaches the AFM state."
   ]
  },
  {
   "cell_type": "code",
   "execution_count": null,
   "id": "21e1f51a",
   "metadata": {},
   "outputs": [],
   "source": [
    "magnetization_values = np.array(list(results.occupation))\n",
    "magnetization_times = results.get_result_times(density)"
   ]
  },
  {
   "cell_type": "code",
   "execution_count": null,
   "id": "b2cbac0a",
   "metadata": {},
   "outputs": [],
   "source": [
    "fig, ax = plt.subplots(figsize=(8, 4), layout=\"constrained\")\n",
    "\n",
    "num_time_points, positions = magnetization_values.shape\n",
    "x, y = np.meshgrid(np.arange(num_time_points), np.arange(1, positions + 1))\n",
    "im = plt.pcolormesh(magnetization_times, y, magnetization_values.T, shading=\"auto\")\n",
    "ax.set_xlabel(\"Time [ns]\")\n",
    "ax.set_ylabel(\"Qubit\")\n",
    "ax.set_title(\"State Density\")\n",
    "ax.set_yticks(np.arange(1, positions + 1))\n",
    "cb = fig.colorbar(im, ax=ax)"
   ]
  }
 ],
 "metadata": {
  "kernelspec": {
   "display_name": "3.10.11",
   "language": "python",
   "name": "python3"
  },
  "language_info": {
   "codemirror_mode": {
    "name": "ipython",
    "version": 3
   },
   "file_extension": ".py",
   "mimetype": "text/x-python",
   "name": "python",
   "nbconvert_exporter": "python",
   "pygments_lexer": "ipython3",
   "version": "3.10.11"
  }
 },
 "nbformat": 4,
 "nbformat_minor": 5
}
