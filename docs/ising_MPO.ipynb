{
 "cells": [
  {
   "cell_type": "code",
   "execution_count": 396,
   "metadata": {},
   "outputs": [
    {
     "name": "stdout",
     "output_type": "stream",
     "text": [
      "Defaulting to user installation because normal site-packages is not writeable\n",
      "Requirement already satisfied: sympy in /home/pablo/.local/lib/python3.10/site-packages (1.13.2)\n",
      "Requirement already satisfied: mpmath<1.4,>=1.1.0 in /home/pablo/.local/lib/python3.10/site-packages (from sympy) (1.3.0)\n"
     ]
    }
   ],
   "source": [
    "!pip install sympy\n",
    "import sympy as sp\n",
    "from sympy.physics.quantum import TensorProduct as TP\n",
    "from IPython.display import display"
   ]
  },
  {
   "cell_type": "code",
   "execution_count": 397,
   "metadata": {},
   "outputs": [],
   "source": [
    "id = sp.symbols(\"𝟙\", commutative=False)\n",
    "n_op = sp.symbols(\"n\", commutative=False)"
   ]
  },
  {
   "cell_type": "code",
   "execution_count": 398,
   "metadata": {},
   "outputs": [],
   "source": [
    "def gate_at(d: dict[int, sp.Symbol], n: int):\n",
    "    \"\"\"Utility function for filling operators with identities.\"\"\"\n",
    "    return TP(*(\n",
    "        id if i not in d\n",
    "        else d[i]\n",
    "        for i in range(n)\n",
    "    ))"
   ]
  },
  {
   "cell_type": "markdown",
   "metadata": {},
   "source": [
    "#### Implementation of the reference hamiltonian as a sum of terms.\n",
    "\n",
    "The $A_i$ are the single-qubit terms (2*2 matrices):\n",
    "\n",
    "$$\n",
    "A_i = \\frac{\\hbar}{2} \\left( \\Omega_i(t) \\sigma^x - \\delta_i(t) \\sigma^z \\right)\n",
    "$$\n",
    "\n",
    "The $U_{ij}$ are the interaction matrix coefficients."
   ]
  },
  {
   "cell_type": "code",
   "execution_count": 399,
   "metadata": {},
   "outputs": [],
   "source": [
    "def A(i: int):\n",
    "    return sp.Symbol(f\"A_{i}\", commutative=False)\n",
    "\n",
    "def U(i: int, j: int):\n",
    "    return sp.Symbol(f\"U_{i}{j}\")"
   ]
  },
  {
   "cell_type": "code",
   "execution_count": 400,
   "metadata": {},
   "outputs": [],
   "source": [
    "def reference_hamiltonian(qubit_count: int):\n",
    "    result = sum(gate_at({i: A(i)}, qubit_count) for i in range(qubit_count))\n",
    "\n",
    "    result += sum(\n",
    "        U(j, i) *\n",
    "        gate_at({\n",
    "            i: n_op,\n",
    "            j: n_op\n",
    "        }, qubit_count)\n",
    "        for i in range(qubit_count) for j in range(i)\n",
    "    )\n",
    "\n",
    "    return result"
   ]
  },
  {
   "cell_type": "markdown",
   "metadata": {},
   "source": [
    "#### Definition of MPO factor multiplication.\n",
    "\n",
    "MPO factors are seen as matrices containing 2*2 matrices (in the case of qubits).\n",
    "\n",
    "These matrices of matrices are multiplied by using the tensor product for element-wise multiplication.\n"
   ]
  },
  {
   "cell_type": "code",
   "execution_count": 401,
   "metadata": {},
   "outputs": [],
   "source": [
    "def mpo_factors_product_pairwise(a: sp.Matrix, b: sp.Matrix):\n",
    "    \"\"\"Matrix product where element-wise multiplication is the tensor product.\"\"\"\n",
    "\n",
    "    assert sp.shape(a)[1] == sp.shape(b)[0], \"Incompatible matrix dimensions\"\n",
    "\n",
    "    common_dim = sp.shape(a)[1]\n",
    "\n",
    "    res_rows = sp.shape(a)[0]\n",
    "    res_cols = sp.shape(b)[1]\n",
    "\n",
    "    res = sp.Matrix([\n",
    "            [sum(TP(a[row, k], b[k, col]).expand(tensorproduct=True) for k in range(common_dim))\n",
    "                for col in range(res_cols)\n",
    "            ]\n",
    "        for row in range(res_rows)\n",
    "    ])\n",
    "\n",
    "    if res_rows == res_cols == 1:\n",
    "        return res[0, 0]\n",
    "\n",
    "    return res\n",
    "\n",
    "\n",
    "def mpo_factors_product(*args):\n",
    "    \"\"\"n-ary matrix product where element-wise multiplication is the tensor product.\"\"\"\n",
    "\n",
    "    assert len(args) >= 2\n",
    "    if len(args) == 2:\n",
    "        return mpo_factors_product_pairwise(*args)\n",
    "    \n",
    "    return mpo_factors_product_pairwise(args[0], mpo_factors_product(*args[1:]))"
   ]
  },
  {
   "cell_type": "markdown",
   "metadata": {},
   "source": [
    "#### The below is an example of Ising Hamiltonian MPO factors implementation."
   ]
  },
  {
   "cell_type": "code",
   "execution_count": 402,
   "metadata": {},
   "outputs": [],
   "source": [
    "def get_extreme_factor(i):\n",
    "    return sp.Matrix([[A(i), id, n_op, 0]])"
   ]
  },
  {
   "cell_type": "code",
   "execution_count": 403,
   "metadata": {},
   "outputs": [],
   "source": [
    "def get_factor(i, inter_to = 0):\n",
    "    n = abs(i - inter_to)\n",
    "\n",
    "    inters = [U(j, i) for j in range(i)] if inter_to == 0 else [U(i, j) for j in range(inter_to, i, -1)]\n",
    "\n",
    "    assert n >= 1\n",
    "    rows = n + 3\n",
    "    cols = n + 4\n",
    "    # Expressed col by col, then transposed.\n",
    "    return sp.Matrix([\n",
    "        [id, A(i)] + [0] * (rows - 2),\n",
    "        [0, id] + [0] * (rows - 2),\n",
    "        *([0, 0] + [id if x == c else 0 for x in range(rows - 2)]\n",
    "          for c in range(cols - 4)\n",
    "        ),\n",
    "        [0, n_op] + [0] * (rows - 2),\n",
    "        [0, 0] + [inter * n_op for inter in inters] + [id]\n",
    "    ]).T"
   ]
  },
  {
   "cell_type": "code",
   "execution_count": 404,
   "metadata": {},
   "outputs": [],
   "source": [
    "def get_middle_factor(where, qubit_count):\n",
    "    return sp.Matrix([\n",
    "        [0, id, *(0 for _ in range(qubit_count - where))],\n",
    "        [id, A(where), *(U(where, i) * n_op for i in range(qubit_count - 1, where, -1)), id],\n",
    "        *([0, U(i, where) * n_op, *(U(i, j) * id for j in range(qubit_count - 1, where, -1)), 0] for i in range(where)),\n",
    "        [0, id, *(0 for _ in range(qubit_count - where))],\n",
    "    ])"
   ]
  },
  {
   "cell_type": "code",
   "execution_count": 405,
   "metadata": {},
   "outputs": [],
   "source": [
    "def get_ising_mpo_factors(qubit_count: int):\n",
    "    \"\"\"Returns all the Ising MPO factors for all qubits.\"\"\"\n",
    "    middle = qubit_count // 2\n",
    "    return ([get_extreme_factor(0)] +\n",
    "            [get_factor(i, inter_to=0) for i in range(1, middle)]\n",
    "            + [get_middle_factor(middle, qubit_count=qubit_count)] +\n",
    "            [get_factor(i, inter_to=qubit_count - 1).T for i in range(middle + 1, qubit_count - 1)]\n",
    "            + [get_extreme_factor(qubit_count - 1).T]\n",
    "        )"
   ]
  },
  {
   "cell_type": "markdown",
   "metadata": {},
   "source": [
    "#### Testing by comparing the product of the MPO factors and the reference Hamiltonian"
   ]
  },
  {
   "cell_type": "code",
   "execution_count": 406,
   "metadata": {},
   "outputs": [
    {
     "data": {
      "text/latex": [
       "$\\displaystyle \\left[\\begin{matrix}A_{0} & 𝟙 & n & 0\\end{matrix}\\right]$"
      ],
      "text/plain": [
       "Matrix([[A_0, 𝟙, n, 0]])"
      ]
     },
     "metadata": {},
     "output_type": "display_data"
    },
    {
     "data": {
      "text/latex": [
       "$\\displaystyle \\left[\\begin{matrix}𝟙 & 0 & 0 & 0 & 0\\\\A_{1} & 𝟙 & 0 & n & 0\\\\0 & 0 & 𝟙 & 0 & U_{01} n\\\\0 & 0 & 0 & 0 & 𝟙\\end{matrix}\\right]$"
      ],
      "text/plain": [
       "Matrix([\n",
       "[  𝟙, 0, 0, 0,      0],\n",
       "[A_1, 𝟙, 0, n,      0],\n",
       "[  0, 0, 𝟙, 0, U_01*n],\n",
       "[  0, 0, 0, 0,      𝟙]])"
      ]
     },
     "metadata": {},
     "output_type": "display_data"
    },
    {
     "data": {
      "text/latex": [
       "$\\displaystyle \\left[\\begin{matrix}𝟙 & 0 & 0 & 0 & 0 & 0\\\\A_{2} & 𝟙 & 0 & 0 & n & 0\\\\0 & 0 & 𝟙 & 0 & 0 & U_{02} n\\\\0 & 0 & 0 & 𝟙 & 0 & U_{12} n\\\\0 & 0 & 0 & 0 & 0 & 𝟙\\end{matrix}\\right]$"
      ],
      "text/plain": [
       "Matrix([\n",
       "[  𝟙, 0, 0, 0, 0,      0],\n",
       "[A_2, 𝟙, 0, 0, n,      0],\n",
       "[  0, 0, 𝟙, 0, 0, U_02*n],\n",
       "[  0, 0, 0, 𝟙, 0, U_12*n],\n",
       "[  0, 0, 0, 0, 0,      𝟙]])"
      ]
     },
     "metadata": {},
     "output_type": "display_data"
    },
    {
     "data": {
      "text/latex": [
       "$\\displaystyle \\left[\\begin{matrix}𝟙 & 0 & 0 & 0 & 0 & 0 & 0\\\\A_{3} & 𝟙 & 0 & 0 & 0 & n & 0\\\\0 & 0 & 𝟙 & 0 & 0 & 0 & U_{03} n\\\\0 & 0 & 0 & 𝟙 & 0 & 0 & U_{13} n\\\\0 & 0 & 0 & 0 & 𝟙 & 0 & U_{23} n\\\\0 & 0 & 0 & 0 & 0 & 0 & 𝟙\\end{matrix}\\right]$"
      ],
      "text/plain": [
       "Matrix([\n",
       "[  𝟙, 0, 0, 0, 0, 0,      0],\n",
       "[A_3, 𝟙, 0, 0, 0, n,      0],\n",
       "[  0, 0, 𝟙, 0, 0, 0, U_03*n],\n",
       "[  0, 0, 0, 𝟙, 0, 0, U_13*n],\n",
       "[  0, 0, 0, 0, 𝟙, 0, U_23*n],\n",
       "[  0, 0, 0, 0, 0, 0,      𝟙]])"
      ]
     },
     "metadata": {},
     "output_type": "display_data"
    },
    {
     "data": {
      "text/latex": [
       "$\\displaystyle \\left[\\begin{matrix}𝟙 & 0 & 0 & 0 & 0 & 0 & 0 & 0\\\\A_{4} & 𝟙 & 0 & 0 & 0 & 0 & n & 0\\\\0 & 0 & 𝟙 & 0 & 0 & 0 & 0 & U_{04} n\\\\0 & 0 & 0 & 𝟙 & 0 & 0 & 0 & U_{14} n\\\\0 & 0 & 0 & 0 & 𝟙 & 0 & 0 & U_{24} n\\\\0 & 0 & 0 & 0 & 0 & 𝟙 & 0 & U_{34} n\\\\0 & 0 & 0 & 0 & 0 & 0 & 0 & 𝟙\\end{matrix}\\right]$"
      ],
      "text/plain": [
       "Matrix([\n",
       "[  𝟙, 0, 0, 0, 0, 0, 0,      0],\n",
       "[A_4, 𝟙, 0, 0, 0, 0, n,      0],\n",
       "[  0, 0, 𝟙, 0, 0, 0, 0, U_04*n],\n",
       "[  0, 0, 0, 𝟙, 0, 0, 0, U_14*n],\n",
       "[  0, 0, 0, 0, 𝟙, 0, 0, U_24*n],\n",
       "[  0, 0, 0, 0, 0, 𝟙, 0, U_34*n],\n",
       "[  0, 0, 0, 0, 0, 0, 0,      𝟙]])"
      ]
     },
     "metadata": {},
     "output_type": "display_data"
    },
    {
     "data": {
      "text/latex": [
       "$\\displaystyle \\left[\\begin{matrix}0 & 𝟙 & 0 & 0 & 0 & 0 & 0\\\\𝟙 & A_{5} & U_{59} n & U_{58} n & U_{57} n & U_{56} n & 𝟙\\\\0 & U_{05} n & U_{09} \\cdot 𝟙 & U_{08} \\cdot 𝟙 & U_{07} \\cdot 𝟙 & U_{06} \\cdot 𝟙 & 0\\\\0 & U_{15} n & U_{19} \\cdot 𝟙 & U_{18} \\cdot 𝟙 & U_{17} \\cdot 𝟙 & U_{16} \\cdot 𝟙 & 0\\\\0 & U_{25} n & U_{29} \\cdot 𝟙 & U_{28} \\cdot 𝟙 & U_{27} \\cdot 𝟙 & U_{26} \\cdot 𝟙 & 0\\\\0 & U_{35} n & U_{39} \\cdot 𝟙 & U_{38} \\cdot 𝟙 & U_{37} \\cdot 𝟙 & U_{36} \\cdot 𝟙 & 0\\\\0 & U_{45} n & U_{49} \\cdot 𝟙 & U_{48} \\cdot 𝟙 & U_{47} \\cdot 𝟙 & U_{46} \\cdot 𝟙 & 0\\\\0 & 𝟙 & 0 & 0 & 0 & 0 & 0\\end{matrix}\\right]$"
      ],
      "text/plain": [
       "Matrix([\n",
       "[0,      𝟙,      0,      0,      0,      0, 0],\n",
       "[𝟙,    A_5, U_59*n, U_58*n, U_57*n, U_56*n, 𝟙],\n",
       "[0, U_05*n, U_09*𝟙, U_08*𝟙, U_07*𝟙, U_06*𝟙, 0],\n",
       "[0, U_15*n, U_19*𝟙, U_18*𝟙, U_17*𝟙, U_16*𝟙, 0],\n",
       "[0, U_25*n, U_29*𝟙, U_28*𝟙, U_27*𝟙, U_26*𝟙, 0],\n",
       "[0, U_35*n, U_39*𝟙, U_38*𝟙, U_37*𝟙, U_36*𝟙, 0],\n",
       "[0, U_45*n, U_49*𝟙, U_48*𝟙, U_47*𝟙, U_46*𝟙, 0],\n",
       "[0,      𝟙,      0,      0,      0,      0, 0]])"
      ]
     },
     "metadata": {},
     "output_type": "display_data"
    },
    {
     "data": {
      "text/latex": [
       "$\\displaystyle \\left[\\begin{matrix}𝟙 & A_{6} & 0 & 0 & 0 & 0\\\\0 & 𝟙 & 0 & 0 & 0 & 0\\\\0 & 0 & 𝟙 & 0 & 0 & 0\\\\0 & 0 & 0 & 𝟙 & 0 & 0\\\\0 & 0 & 0 & 0 & 𝟙 & 0\\\\0 & n & 0 & 0 & 0 & 0\\\\0 & 0 & U_{69} n & U_{68} n & U_{67} n & 𝟙\\end{matrix}\\right]$"
      ],
      "text/plain": [
       "Matrix([\n",
       "[𝟙, A_6,      0,      0,      0, 0],\n",
       "[0,   𝟙,      0,      0,      0, 0],\n",
       "[0,   0,      𝟙,      0,      0, 0],\n",
       "[0,   0,      0,      𝟙,      0, 0],\n",
       "[0,   0,      0,      0,      𝟙, 0],\n",
       "[0,   n,      0,      0,      0, 0],\n",
       "[0,   0, U_69*n, U_68*n, U_67*n, 𝟙]])"
      ]
     },
     "metadata": {},
     "output_type": "display_data"
    },
    {
     "data": {
      "text/latex": [
       "$\\displaystyle \\left[\\begin{matrix}𝟙 & A_{7} & 0 & 0 & 0\\\\0 & 𝟙 & 0 & 0 & 0\\\\0 & 0 & 𝟙 & 0 & 0\\\\0 & 0 & 0 & 𝟙 & 0\\\\0 & n & 0 & 0 & 0\\\\0 & 0 & U_{79} n & U_{78} n & 𝟙\\end{matrix}\\right]$"
      ],
      "text/plain": [
       "Matrix([\n",
       "[𝟙, A_7,      0,      0, 0],\n",
       "[0,   𝟙,      0,      0, 0],\n",
       "[0,   0,      𝟙,      0, 0],\n",
       "[0,   0,      0,      𝟙, 0],\n",
       "[0,   n,      0,      0, 0],\n",
       "[0,   0, U_79*n, U_78*n, 𝟙]])"
      ]
     },
     "metadata": {},
     "output_type": "display_data"
    },
    {
     "data": {
      "text/latex": [
       "$\\displaystyle \\left[\\begin{matrix}𝟙 & A_{8} & 0 & 0\\\\0 & 𝟙 & 0 & 0\\\\0 & 0 & 𝟙 & 0\\\\0 & n & 0 & 0\\\\0 & 0 & U_{89} n & 𝟙\\end{matrix}\\right]$"
      ],
      "text/plain": [
       "Matrix([\n",
       "[𝟙, A_8,      0, 0],\n",
       "[0,   𝟙,      0, 0],\n",
       "[0,   0,      𝟙, 0],\n",
       "[0,   n,      0, 0],\n",
       "[0,   0, U_89*n, 𝟙]])"
      ]
     },
     "metadata": {},
     "output_type": "display_data"
    },
    {
     "data": {
      "text/latex": [
       "$\\displaystyle \\left[\\begin{matrix}A_{9}\\\\𝟙\\\\n\\\\0\\end{matrix}\\right]$"
      ],
      "text/plain": [
       "Matrix([\n",
       "[A_9],\n",
       "[  𝟙],\n",
       "[  n],\n",
       "[  0]])"
      ]
     },
     "metadata": {},
     "output_type": "display_data"
    }
   ],
   "source": [
    "for factor in get_ising_mpo_factors(10):\n",
    "    display(factor)"
   ]
  },
  {
   "cell_type": "code",
   "execution_count": 407,
   "metadata": {},
   "outputs": [
    {
     "data": {
      "text/latex": [
       "$\\displaystyle U_{01} {n}\\otimes {{n}\\otimes {{𝟙}\\otimes {{𝟙}\\otimes {{𝟙}\\otimes {{𝟙}\\otimes {{𝟙}\\otimes {{𝟙}\\otimes {{𝟙}\\otimes {𝟙}}}}}}}}} + U_{02} {n}\\otimes {{𝟙}\\otimes {{n}\\otimes {{𝟙}\\otimes {{𝟙}\\otimes {{𝟙}\\otimes {{𝟙}\\otimes {{𝟙}\\otimes {{𝟙}\\otimes {𝟙}}}}}}}}} + U_{03} {n}\\otimes {{𝟙}\\otimes {{𝟙}\\otimes {{n}\\otimes {{𝟙}\\otimes {{𝟙}\\otimes {{𝟙}\\otimes {{𝟙}\\otimes {{𝟙}\\otimes {𝟙}}}}}}}}} + U_{04} {n}\\otimes {{𝟙}\\otimes {{𝟙}\\otimes {{𝟙}\\otimes {{n}\\otimes {{𝟙}\\otimes {{𝟙}\\otimes {{𝟙}\\otimes {{𝟙}\\otimes {𝟙}}}}}}}}} + U_{05} {n}\\otimes {{𝟙}\\otimes {{𝟙}\\otimes {{𝟙}\\otimes {{𝟙}\\otimes {{n}\\otimes {{𝟙}\\otimes {{𝟙}\\otimes {{𝟙}\\otimes {𝟙}}}}}}}}} + U_{06} {n}\\otimes {{𝟙}\\otimes {{𝟙}\\otimes {{𝟙}\\otimes {{𝟙}\\otimes {{𝟙}\\otimes {{n}\\otimes {{𝟙}\\otimes {{𝟙}\\otimes {𝟙}}}}}}}}} + U_{07} {n}\\otimes {{𝟙}\\otimes {{𝟙}\\otimes {{𝟙}\\otimes {{𝟙}\\otimes {{𝟙}\\otimes {{𝟙}\\otimes {{n}\\otimes {{𝟙}\\otimes {𝟙}}}}}}}}} + U_{08} {n}\\otimes {{𝟙}\\otimes {{𝟙}\\otimes {{𝟙}\\otimes {{𝟙}\\otimes {{𝟙}\\otimes {{𝟙}\\otimes {{𝟙}\\otimes {{n}\\otimes {𝟙}}}}}}}}} + U_{09} {n}\\otimes {{𝟙}\\otimes {{𝟙}\\otimes {{𝟙}\\otimes {{𝟙}\\otimes {{𝟙}\\otimes {{𝟙}\\otimes {{𝟙}\\otimes {{𝟙}\\otimes {n}}}}}}}}} + U_{12} {𝟙}\\otimes {{n}\\otimes {{n}\\otimes {{𝟙}\\otimes {{𝟙}\\otimes {{𝟙}\\otimes {{𝟙}\\otimes {{𝟙}\\otimes {{𝟙}\\otimes {𝟙}}}}}}}}} + U_{13} {𝟙}\\otimes {{n}\\otimes {{𝟙}\\otimes {{n}\\otimes {{𝟙}\\otimes {{𝟙}\\otimes {{𝟙}\\otimes {{𝟙}\\otimes {{𝟙}\\otimes {𝟙}}}}}}}}} + U_{14} {𝟙}\\otimes {{n}\\otimes {{𝟙}\\otimes {{𝟙}\\otimes {{n}\\otimes {{𝟙}\\otimes {{𝟙}\\otimes {{𝟙}\\otimes {{𝟙}\\otimes {𝟙}}}}}}}}} + U_{15} {𝟙}\\otimes {{n}\\otimes {{𝟙}\\otimes {{𝟙}\\otimes {{𝟙}\\otimes {{n}\\otimes {{𝟙}\\otimes {{𝟙}\\otimes {{𝟙}\\otimes {𝟙}}}}}}}}} + U_{16} {𝟙}\\otimes {{n}\\otimes {{𝟙}\\otimes {{𝟙}\\otimes {{𝟙}\\otimes {{𝟙}\\otimes {{n}\\otimes {{𝟙}\\otimes {{𝟙}\\otimes {𝟙}}}}}}}}} + U_{17} {𝟙}\\otimes {{n}\\otimes {{𝟙}\\otimes {{𝟙}\\otimes {{𝟙}\\otimes {{𝟙}\\otimes {{𝟙}\\otimes {{n}\\otimes {{𝟙}\\otimes {𝟙}}}}}}}}} + U_{18} {𝟙}\\otimes {{n}\\otimes {{𝟙}\\otimes {{𝟙}\\otimes {{𝟙}\\otimes {{𝟙}\\otimes {{𝟙}\\otimes {{𝟙}\\otimes {{n}\\otimes {𝟙}}}}}}}}} + U_{19} {𝟙}\\otimes {{n}\\otimes {{𝟙}\\otimes {{𝟙}\\otimes {{𝟙}\\otimes {{𝟙}\\otimes {{𝟙}\\otimes {{𝟙}\\otimes {{𝟙}\\otimes {n}}}}}}}}} + U_{23} {𝟙}\\otimes {{𝟙}\\otimes {{n}\\otimes {{n}\\otimes {{𝟙}\\otimes {{𝟙}\\otimes {{𝟙}\\otimes {{𝟙}\\otimes {{𝟙}\\otimes {𝟙}}}}}}}}} + U_{24} {𝟙}\\otimes {{𝟙}\\otimes {{n}\\otimes {{𝟙}\\otimes {{n}\\otimes {{𝟙}\\otimes {{𝟙}\\otimes {{𝟙}\\otimes {{𝟙}\\otimes {𝟙}}}}}}}}} + U_{25} {𝟙}\\otimes {{𝟙}\\otimes {{n}\\otimes {{𝟙}\\otimes {{𝟙}\\otimes {{n}\\otimes {{𝟙}\\otimes {{𝟙}\\otimes {{𝟙}\\otimes {𝟙}}}}}}}}} + U_{26} {𝟙}\\otimes {{𝟙}\\otimes {{n}\\otimes {{𝟙}\\otimes {{𝟙}\\otimes {{𝟙}\\otimes {{n}\\otimes {{𝟙}\\otimes {{𝟙}\\otimes {𝟙}}}}}}}}} + U_{27} {𝟙}\\otimes {{𝟙}\\otimes {{n}\\otimes {{𝟙}\\otimes {{𝟙}\\otimes {{𝟙}\\otimes {{𝟙}\\otimes {{n}\\otimes {{𝟙}\\otimes {𝟙}}}}}}}}} + U_{28} {𝟙}\\otimes {{𝟙}\\otimes {{n}\\otimes {{𝟙}\\otimes {{𝟙}\\otimes {{𝟙}\\otimes {{𝟙}\\otimes {{𝟙}\\otimes {{n}\\otimes {𝟙}}}}}}}}} + U_{29} {𝟙}\\otimes {{𝟙}\\otimes {{n}\\otimes {{𝟙}\\otimes {{𝟙}\\otimes {{𝟙}\\otimes {{𝟙}\\otimes {{𝟙}\\otimes {{𝟙}\\otimes {n}}}}}}}}} + U_{34} {𝟙}\\otimes {{𝟙}\\otimes {{𝟙}\\otimes {{n}\\otimes {{n}\\otimes {{𝟙}\\otimes {{𝟙}\\otimes {{𝟙}\\otimes {{𝟙}\\otimes {𝟙}}}}}}}}} + U_{35} {𝟙}\\otimes {{𝟙}\\otimes {{𝟙}\\otimes {{n}\\otimes {{𝟙}\\otimes {{n}\\otimes {{𝟙}\\otimes {{𝟙}\\otimes {{𝟙}\\otimes {𝟙}}}}}}}}} + U_{36} {𝟙}\\otimes {{𝟙}\\otimes {{𝟙}\\otimes {{n}\\otimes {{𝟙}\\otimes {{𝟙}\\otimes {{n}\\otimes {{𝟙}\\otimes {{𝟙}\\otimes {𝟙}}}}}}}}} + U_{37} {𝟙}\\otimes {{𝟙}\\otimes {{𝟙}\\otimes {{n}\\otimes {{𝟙}\\otimes {{𝟙}\\otimes {{𝟙}\\otimes {{n}\\otimes {{𝟙}\\otimes {𝟙}}}}}}}}} + U_{38} {𝟙}\\otimes {{𝟙}\\otimes {{𝟙}\\otimes {{n}\\otimes {{𝟙}\\otimes {{𝟙}\\otimes {{𝟙}\\otimes {{𝟙}\\otimes {{n}\\otimes {𝟙}}}}}}}}} + U_{39} {𝟙}\\otimes {{𝟙}\\otimes {{𝟙}\\otimes {{n}\\otimes {{𝟙}\\otimes {{𝟙}\\otimes {{𝟙}\\otimes {{𝟙}\\otimes {{𝟙}\\otimes {n}}}}}}}}} + U_{45} {𝟙}\\otimes {{𝟙}\\otimes {{𝟙}\\otimes {{𝟙}\\otimes {{n}\\otimes {{n}\\otimes {{𝟙}\\otimes {{𝟙}\\otimes {{𝟙}\\otimes {𝟙}}}}}}}}} + U_{46} {𝟙}\\otimes {{𝟙}\\otimes {{𝟙}\\otimes {{𝟙}\\otimes {{n}\\otimes {{𝟙}\\otimes {{n}\\otimes {{𝟙}\\otimes {{𝟙}\\otimes {𝟙}}}}}}}}} + U_{47} {𝟙}\\otimes {{𝟙}\\otimes {{𝟙}\\otimes {{𝟙}\\otimes {{n}\\otimes {{𝟙}\\otimes {{𝟙}\\otimes {{n}\\otimes {{𝟙}\\otimes {𝟙}}}}}}}}} + U_{48} {𝟙}\\otimes {{𝟙}\\otimes {{𝟙}\\otimes {{𝟙}\\otimes {{n}\\otimes {{𝟙}\\otimes {{𝟙}\\otimes {{𝟙}\\otimes {{n}\\otimes {𝟙}}}}}}}}} + U_{49} {𝟙}\\otimes {{𝟙}\\otimes {{𝟙}\\otimes {{𝟙}\\otimes {{n}\\otimes {{𝟙}\\otimes {{𝟙}\\otimes {{𝟙}\\otimes {{𝟙}\\otimes {n}}}}}}}}} + U_{56} {𝟙}\\otimes {{𝟙}\\otimes {{𝟙}\\otimes {{𝟙}\\otimes {{𝟙}\\otimes {{n}\\otimes {{n}\\otimes {{𝟙}\\otimes {{𝟙}\\otimes {𝟙}}}}}}}}} + U_{57} {𝟙}\\otimes {{𝟙}\\otimes {{𝟙}\\otimes {{𝟙}\\otimes {{𝟙}\\otimes {{n}\\otimes {{𝟙}\\otimes {{n}\\otimes {{𝟙}\\otimes {𝟙}}}}}}}}} + U_{58} {𝟙}\\otimes {{𝟙}\\otimes {{𝟙}\\otimes {{𝟙}\\otimes {{𝟙}\\otimes {{n}\\otimes {{𝟙}\\otimes {{𝟙}\\otimes {{n}\\otimes {𝟙}}}}}}}}} + U_{59} {𝟙}\\otimes {{𝟙}\\otimes {{𝟙}\\otimes {{𝟙}\\otimes {{𝟙}\\otimes {{n}\\otimes {{𝟙}\\otimes {{𝟙}\\otimes {{𝟙}\\otimes {n}}}}}}}}} + U_{67} {𝟙}\\otimes {{𝟙}\\otimes {{𝟙}\\otimes {{𝟙}\\otimes {{𝟙}\\otimes {{𝟙}\\otimes {{n}\\otimes {{n}\\otimes {{𝟙}\\otimes {𝟙}}}}}}}}} + U_{68} {𝟙}\\otimes {{𝟙}\\otimes {{𝟙}\\otimes {{𝟙}\\otimes {{𝟙}\\otimes {{𝟙}\\otimes {{n}\\otimes {{𝟙}\\otimes {{n}\\otimes {𝟙}}}}}}}}} + U_{69} {𝟙}\\otimes {{𝟙}\\otimes {{𝟙}\\otimes {{𝟙}\\otimes {{𝟙}\\otimes {{𝟙}\\otimes {{n}\\otimes {{𝟙}\\otimes {{𝟙}\\otimes {n}}}}}}}}} + U_{78} {𝟙}\\otimes {{𝟙}\\otimes {{𝟙}\\otimes {{𝟙}\\otimes {{𝟙}\\otimes {{𝟙}\\otimes {{𝟙}\\otimes {{n}\\otimes {{n}\\otimes {𝟙}}}}}}}}} + U_{79} {𝟙}\\otimes {{𝟙}\\otimes {{𝟙}\\otimes {{𝟙}\\otimes {{𝟙}\\otimes {{𝟙}\\otimes {{𝟙}\\otimes {{n}\\otimes {{𝟙}\\otimes {n}}}}}}}}} + U_{89} {𝟙}\\otimes {{𝟙}\\otimes {{𝟙}\\otimes {{𝟙}\\otimes {{𝟙}\\otimes {{𝟙}\\otimes {{𝟙}\\otimes {{𝟙}\\otimes {{n}\\otimes {n}}}}}}}}} + {A_{0}}\\otimes {{𝟙}\\otimes {{𝟙}\\otimes {{𝟙}\\otimes {{𝟙}\\otimes {{𝟙}\\otimes {{𝟙}\\otimes {{𝟙}\\otimes {{𝟙}\\otimes {𝟙}}}}}}}}} + {𝟙}\\otimes {{A_{1}}\\otimes {{𝟙}\\otimes {{𝟙}\\otimes {{𝟙}\\otimes {{𝟙}\\otimes {{𝟙}\\otimes {{𝟙}\\otimes {{𝟙}\\otimes {𝟙}}}}}}}}} + {𝟙}\\otimes {{𝟙}\\otimes {{A_{2}}\\otimes {{𝟙}\\otimes {{𝟙}\\otimes {{𝟙}\\otimes {{𝟙}\\otimes {{𝟙}\\otimes {{𝟙}\\otimes {𝟙}}}}}}}}} + {𝟙}\\otimes {{𝟙}\\otimes {{𝟙}\\otimes {{A_{3}}\\otimes {{𝟙}\\otimes {{𝟙}\\otimes {{𝟙}\\otimes {{𝟙}\\otimes {{𝟙}\\otimes {𝟙}}}}}}}}} + {𝟙}\\otimes {{𝟙}\\otimes {{𝟙}\\otimes {{𝟙}\\otimes {{A_{4}}\\otimes {{𝟙}\\otimes {{𝟙}\\otimes {{𝟙}\\otimes {{𝟙}\\otimes {𝟙}}}}}}}}} + {𝟙}\\otimes {{𝟙}\\otimes {{𝟙}\\otimes {{𝟙}\\otimes {{𝟙}\\otimes {{A_{5}}\\otimes {{𝟙}\\otimes {{𝟙}\\otimes {{𝟙}\\otimes {𝟙}}}}}}}}} + {𝟙}\\otimes {{𝟙}\\otimes {{𝟙}\\otimes {{𝟙}\\otimes {{𝟙}\\otimes {{𝟙}\\otimes {{A_{6}}\\otimes {{𝟙}\\otimes {{𝟙}\\otimes {𝟙}}}}}}}}} + {𝟙}\\otimes {{𝟙}\\otimes {{𝟙}\\otimes {{𝟙}\\otimes {{𝟙}\\otimes {{𝟙}\\otimes {{𝟙}\\otimes {{A_{7}}\\otimes {{𝟙}\\otimes {𝟙}}}}}}}}} + {𝟙}\\otimes {{𝟙}\\otimes {{𝟙}\\otimes {{𝟙}\\otimes {{𝟙}\\otimes {{𝟙}\\otimes {{𝟙}\\otimes {{𝟙}\\otimes {{A_{8}}\\otimes {𝟙}}}}}}}}} + {𝟙}\\otimes {{𝟙}\\otimes {{𝟙}\\otimes {{𝟙}\\otimes {{𝟙}\\otimes {{𝟙}\\otimes {{𝟙}\\otimes {{𝟙}\\otimes {{𝟙}\\otimes {A_{9}}}}}}}}}}$"
      ],
      "text/plain": [
       "U_01*nxnx𝟙x𝟙x𝟙x𝟙x𝟙x𝟙x𝟙x𝟙 + U_02*nx𝟙xnx𝟙x𝟙x𝟙x𝟙x𝟙x𝟙x𝟙 + U_03*nx𝟙x𝟙xnx𝟙x𝟙x𝟙x𝟙x𝟙x𝟙 + U_04*nx𝟙x𝟙x𝟙xnx𝟙x𝟙x𝟙x𝟙x𝟙 + U_05*nx𝟙x𝟙x𝟙x𝟙xnx𝟙x𝟙x𝟙x𝟙 + U_06*nx𝟙x𝟙x𝟙x𝟙x𝟙xnx𝟙x𝟙x𝟙 + U_07*nx𝟙x𝟙x𝟙x𝟙x𝟙x𝟙xnx𝟙x𝟙 + U_08*nx𝟙x𝟙x𝟙x𝟙x𝟙x𝟙x𝟙xnx𝟙 + U_09*nx𝟙x𝟙x𝟙x𝟙x𝟙x𝟙x𝟙x𝟙xn + U_12*𝟙xnxnx𝟙x𝟙x𝟙x𝟙x𝟙x𝟙x𝟙 + U_13*𝟙xnx𝟙xnx𝟙x𝟙x𝟙x𝟙x𝟙x𝟙 + U_14*𝟙xnx𝟙x𝟙xnx𝟙x𝟙x𝟙x𝟙x𝟙 + U_15*𝟙xnx𝟙x𝟙x𝟙xnx𝟙x𝟙x𝟙x𝟙 + U_16*𝟙xnx𝟙x𝟙x𝟙x𝟙xnx𝟙x𝟙x𝟙 + U_17*𝟙xnx𝟙x𝟙x𝟙x𝟙x𝟙xnx𝟙x𝟙 + U_18*𝟙xnx𝟙x𝟙x𝟙x𝟙x𝟙x𝟙xnx𝟙 + U_19*𝟙xnx𝟙x𝟙x𝟙x𝟙x𝟙x𝟙x𝟙xn + U_23*𝟙x𝟙xnxnx𝟙x𝟙x𝟙x𝟙x𝟙x𝟙 + U_24*𝟙x𝟙xnx𝟙xnx𝟙x𝟙x𝟙x𝟙x𝟙 + U_25*𝟙x𝟙xnx𝟙x𝟙xnx𝟙x𝟙x𝟙x𝟙 + U_26*𝟙x𝟙xnx𝟙x𝟙x𝟙xnx𝟙x𝟙x𝟙 + U_27*𝟙x𝟙xnx𝟙x𝟙x𝟙x𝟙xnx𝟙x𝟙 + U_28*𝟙x𝟙xnx𝟙x𝟙x𝟙x𝟙x𝟙xnx𝟙 + U_29*𝟙x𝟙xnx𝟙x𝟙x𝟙x𝟙x𝟙x𝟙xn + U_34*𝟙x𝟙x𝟙xnxnx𝟙x𝟙x𝟙x𝟙x𝟙 + U_35*𝟙x𝟙x𝟙xnx𝟙xnx𝟙x𝟙x𝟙x𝟙 + U_36*𝟙x𝟙x𝟙xnx𝟙x𝟙xnx𝟙x𝟙x𝟙 + U_37*𝟙x𝟙x𝟙xnx𝟙x𝟙x𝟙xnx𝟙x𝟙 + U_38*𝟙x𝟙x𝟙xnx𝟙x𝟙x𝟙x𝟙xnx𝟙 + U_39*𝟙x𝟙x𝟙xnx𝟙x𝟙x𝟙x𝟙x𝟙xn + U_45*𝟙x𝟙x𝟙x𝟙xnxnx𝟙x𝟙x𝟙x𝟙 + U_46*𝟙x𝟙x𝟙x𝟙xnx𝟙xnx𝟙x𝟙x𝟙 + U_47*𝟙x𝟙x𝟙x𝟙xnx𝟙x𝟙xnx𝟙x𝟙 + U_48*𝟙x𝟙x𝟙x𝟙xnx𝟙x𝟙x𝟙xnx𝟙 + U_49*𝟙x𝟙x𝟙x𝟙xnx𝟙x𝟙x𝟙x𝟙xn + U_56*𝟙x𝟙x𝟙x𝟙x𝟙xnxnx𝟙x𝟙x𝟙 + U_57*𝟙x𝟙x𝟙x𝟙x𝟙xnx𝟙xnx𝟙x𝟙 + U_58*𝟙x𝟙x𝟙x𝟙x𝟙xnx𝟙x𝟙xnx𝟙 + U_59*𝟙x𝟙x𝟙x𝟙x𝟙xnx𝟙x𝟙x𝟙xn + U_67*𝟙x𝟙x𝟙x𝟙x𝟙x𝟙xnxnx𝟙x𝟙 + U_68*𝟙x𝟙x𝟙x𝟙x𝟙x𝟙xnx𝟙xnx𝟙 + U_69*𝟙x𝟙x𝟙x𝟙x𝟙x𝟙xnx𝟙x𝟙xn + U_78*𝟙x𝟙x𝟙x𝟙x𝟙x𝟙x𝟙xnxnx𝟙 + U_79*𝟙x𝟙x𝟙x𝟙x𝟙x𝟙x𝟙xnx𝟙xn + U_89*𝟙x𝟙x𝟙x𝟙x𝟙x𝟙x𝟙x𝟙xnxn + A_0x𝟙x𝟙x𝟙x𝟙x𝟙x𝟙x𝟙x𝟙x𝟙 + 𝟙xA_1x𝟙x𝟙x𝟙x𝟙x𝟙x𝟙x𝟙x𝟙 + 𝟙x𝟙xA_2x𝟙x𝟙x𝟙x𝟙x𝟙x𝟙x𝟙 + 𝟙x𝟙x𝟙xA_3x𝟙x𝟙x𝟙x𝟙x𝟙x𝟙 + 𝟙x𝟙x𝟙x𝟙xA_4x𝟙x𝟙x𝟙x𝟙x𝟙 + 𝟙x𝟙x𝟙x𝟙x𝟙xA_5x𝟙x𝟙x𝟙x𝟙 + 𝟙x𝟙x𝟙x𝟙x𝟙x𝟙xA_6x𝟙x𝟙x𝟙 + 𝟙x𝟙x𝟙x𝟙x𝟙x𝟙x𝟙xA_7x𝟙x𝟙 + 𝟙x𝟙x𝟙x𝟙x𝟙x𝟙x𝟙x𝟙xA_8x𝟙 + 𝟙x𝟙x𝟙x𝟙x𝟙x𝟙x𝟙x𝟙x𝟙xA_9"
      ]
     },
     "execution_count": 407,
     "metadata": {},
     "output_type": "execute_result"
    }
   ],
   "source": [
    "mpo_factors_product(*get_ising_mpo_factors(10))"
   ]
  },
  {
   "cell_type": "code",
   "execution_count": 408,
   "metadata": {},
   "outputs": [
    {
     "data": {
      "text/latex": [
       "$\\displaystyle U_{01} {n}\\otimes {n}\\otimes {𝟙}\\otimes {𝟙}\\otimes {𝟙}\\otimes {𝟙}\\otimes {𝟙}\\otimes {𝟙}\\otimes {𝟙}\\otimes {𝟙} + U_{02} {n}\\otimes {𝟙}\\otimes {n}\\otimes {𝟙}\\otimes {𝟙}\\otimes {𝟙}\\otimes {𝟙}\\otimes {𝟙}\\otimes {𝟙}\\otimes {𝟙} + U_{03} {n}\\otimes {𝟙}\\otimes {𝟙}\\otimes {n}\\otimes {𝟙}\\otimes {𝟙}\\otimes {𝟙}\\otimes {𝟙}\\otimes {𝟙}\\otimes {𝟙} + U_{04} {n}\\otimes {𝟙}\\otimes {𝟙}\\otimes {𝟙}\\otimes {n}\\otimes {𝟙}\\otimes {𝟙}\\otimes {𝟙}\\otimes {𝟙}\\otimes {𝟙} + U_{05} {n}\\otimes {𝟙}\\otimes {𝟙}\\otimes {𝟙}\\otimes {𝟙}\\otimes {n}\\otimes {𝟙}\\otimes {𝟙}\\otimes {𝟙}\\otimes {𝟙} + U_{06} {n}\\otimes {𝟙}\\otimes {𝟙}\\otimes {𝟙}\\otimes {𝟙}\\otimes {𝟙}\\otimes {n}\\otimes {𝟙}\\otimes {𝟙}\\otimes {𝟙} + U_{07} {n}\\otimes {𝟙}\\otimes {𝟙}\\otimes {𝟙}\\otimes {𝟙}\\otimes {𝟙}\\otimes {𝟙}\\otimes {n}\\otimes {𝟙}\\otimes {𝟙} + U_{08} {n}\\otimes {𝟙}\\otimes {𝟙}\\otimes {𝟙}\\otimes {𝟙}\\otimes {𝟙}\\otimes {𝟙}\\otimes {𝟙}\\otimes {n}\\otimes {𝟙} + U_{09} {n}\\otimes {𝟙}\\otimes {𝟙}\\otimes {𝟙}\\otimes {𝟙}\\otimes {𝟙}\\otimes {𝟙}\\otimes {𝟙}\\otimes {𝟙}\\otimes {n} + U_{12} {𝟙}\\otimes {n}\\otimes {n}\\otimes {𝟙}\\otimes {𝟙}\\otimes {𝟙}\\otimes {𝟙}\\otimes {𝟙}\\otimes {𝟙}\\otimes {𝟙} + U_{13} {𝟙}\\otimes {n}\\otimes {𝟙}\\otimes {n}\\otimes {𝟙}\\otimes {𝟙}\\otimes {𝟙}\\otimes {𝟙}\\otimes {𝟙}\\otimes {𝟙} + U_{14} {𝟙}\\otimes {n}\\otimes {𝟙}\\otimes {𝟙}\\otimes {n}\\otimes {𝟙}\\otimes {𝟙}\\otimes {𝟙}\\otimes {𝟙}\\otimes {𝟙} + U_{15} {𝟙}\\otimes {n}\\otimes {𝟙}\\otimes {𝟙}\\otimes {𝟙}\\otimes {n}\\otimes {𝟙}\\otimes {𝟙}\\otimes {𝟙}\\otimes {𝟙} + U_{16} {𝟙}\\otimes {n}\\otimes {𝟙}\\otimes {𝟙}\\otimes {𝟙}\\otimes {𝟙}\\otimes {n}\\otimes {𝟙}\\otimes {𝟙}\\otimes {𝟙} + U_{17} {𝟙}\\otimes {n}\\otimes {𝟙}\\otimes {𝟙}\\otimes {𝟙}\\otimes {𝟙}\\otimes {𝟙}\\otimes {n}\\otimes {𝟙}\\otimes {𝟙} + U_{18} {𝟙}\\otimes {n}\\otimes {𝟙}\\otimes {𝟙}\\otimes {𝟙}\\otimes {𝟙}\\otimes {𝟙}\\otimes {𝟙}\\otimes {n}\\otimes {𝟙} + U_{19} {𝟙}\\otimes {n}\\otimes {𝟙}\\otimes {𝟙}\\otimes {𝟙}\\otimes {𝟙}\\otimes {𝟙}\\otimes {𝟙}\\otimes {𝟙}\\otimes {n} + U_{23} {𝟙}\\otimes {𝟙}\\otimes {n}\\otimes {n}\\otimes {𝟙}\\otimes {𝟙}\\otimes {𝟙}\\otimes {𝟙}\\otimes {𝟙}\\otimes {𝟙} + U_{24} {𝟙}\\otimes {𝟙}\\otimes {n}\\otimes {𝟙}\\otimes {n}\\otimes {𝟙}\\otimes {𝟙}\\otimes {𝟙}\\otimes {𝟙}\\otimes {𝟙} + U_{25} {𝟙}\\otimes {𝟙}\\otimes {n}\\otimes {𝟙}\\otimes {𝟙}\\otimes {n}\\otimes {𝟙}\\otimes {𝟙}\\otimes {𝟙}\\otimes {𝟙} + U_{26} {𝟙}\\otimes {𝟙}\\otimes {n}\\otimes {𝟙}\\otimes {𝟙}\\otimes {𝟙}\\otimes {n}\\otimes {𝟙}\\otimes {𝟙}\\otimes {𝟙} + U_{27} {𝟙}\\otimes {𝟙}\\otimes {n}\\otimes {𝟙}\\otimes {𝟙}\\otimes {𝟙}\\otimes {𝟙}\\otimes {n}\\otimes {𝟙}\\otimes {𝟙} + U_{28} {𝟙}\\otimes {𝟙}\\otimes {n}\\otimes {𝟙}\\otimes {𝟙}\\otimes {𝟙}\\otimes {𝟙}\\otimes {𝟙}\\otimes {n}\\otimes {𝟙} + U_{29} {𝟙}\\otimes {𝟙}\\otimes {n}\\otimes {𝟙}\\otimes {𝟙}\\otimes {𝟙}\\otimes {𝟙}\\otimes {𝟙}\\otimes {𝟙}\\otimes {n} + U_{34} {𝟙}\\otimes {𝟙}\\otimes {𝟙}\\otimes {n}\\otimes {n}\\otimes {𝟙}\\otimes {𝟙}\\otimes {𝟙}\\otimes {𝟙}\\otimes {𝟙} + U_{35} {𝟙}\\otimes {𝟙}\\otimes {𝟙}\\otimes {n}\\otimes {𝟙}\\otimes {n}\\otimes {𝟙}\\otimes {𝟙}\\otimes {𝟙}\\otimes {𝟙} + U_{36} {𝟙}\\otimes {𝟙}\\otimes {𝟙}\\otimes {n}\\otimes {𝟙}\\otimes {𝟙}\\otimes {n}\\otimes {𝟙}\\otimes {𝟙}\\otimes {𝟙} + U_{37} {𝟙}\\otimes {𝟙}\\otimes {𝟙}\\otimes {n}\\otimes {𝟙}\\otimes {𝟙}\\otimes {𝟙}\\otimes {n}\\otimes {𝟙}\\otimes {𝟙} + U_{38} {𝟙}\\otimes {𝟙}\\otimes {𝟙}\\otimes {n}\\otimes {𝟙}\\otimes {𝟙}\\otimes {𝟙}\\otimes {𝟙}\\otimes {n}\\otimes {𝟙} + U_{39} {𝟙}\\otimes {𝟙}\\otimes {𝟙}\\otimes {n}\\otimes {𝟙}\\otimes {𝟙}\\otimes {𝟙}\\otimes {𝟙}\\otimes {𝟙}\\otimes {n} + U_{45} {𝟙}\\otimes {𝟙}\\otimes {𝟙}\\otimes {𝟙}\\otimes {n}\\otimes {n}\\otimes {𝟙}\\otimes {𝟙}\\otimes {𝟙}\\otimes {𝟙} + U_{46} {𝟙}\\otimes {𝟙}\\otimes {𝟙}\\otimes {𝟙}\\otimes {n}\\otimes {𝟙}\\otimes {n}\\otimes {𝟙}\\otimes {𝟙}\\otimes {𝟙} + U_{47} {𝟙}\\otimes {𝟙}\\otimes {𝟙}\\otimes {𝟙}\\otimes {n}\\otimes {𝟙}\\otimes {𝟙}\\otimes {n}\\otimes {𝟙}\\otimes {𝟙} + U_{48} {𝟙}\\otimes {𝟙}\\otimes {𝟙}\\otimes {𝟙}\\otimes {n}\\otimes {𝟙}\\otimes {𝟙}\\otimes {𝟙}\\otimes {n}\\otimes {𝟙} + U_{49} {𝟙}\\otimes {𝟙}\\otimes {𝟙}\\otimes {𝟙}\\otimes {n}\\otimes {𝟙}\\otimes {𝟙}\\otimes {𝟙}\\otimes {𝟙}\\otimes {n} + U_{56} {𝟙}\\otimes {𝟙}\\otimes {𝟙}\\otimes {𝟙}\\otimes {𝟙}\\otimes {n}\\otimes {n}\\otimes {𝟙}\\otimes {𝟙}\\otimes {𝟙} + U_{57} {𝟙}\\otimes {𝟙}\\otimes {𝟙}\\otimes {𝟙}\\otimes {𝟙}\\otimes {n}\\otimes {𝟙}\\otimes {n}\\otimes {𝟙}\\otimes {𝟙} + U_{58} {𝟙}\\otimes {𝟙}\\otimes {𝟙}\\otimes {𝟙}\\otimes {𝟙}\\otimes {n}\\otimes {𝟙}\\otimes {𝟙}\\otimes {n}\\otimes {𝟙} + U_{59} {𝟙}\\otimes {𝟙}\\otimes {𝟙}\\otimes {𝟙}\\otimes {𝟙}\\otimes {n}\\otimes {𝟙}\\otimes {𝟙}\\otimes {𝟙}\\otimes {n} + U_{67} {𝟙}\\otimes {𝟙}\\otimes {𝟙}\\otimes {𝟙}\\otimes {𝟙}\\otimes {𝟙}\\otimes {n}\\otimes {n}\\otimes {𝟙}\\otimes {𝟙} + U_{68} {𝟙}\\otimes {𝟙}\\otimes {𝟙}\\otimes {𝟙}\\otimes {𝟙}\\otimes {𝟙}\\otimes {n}\\otimes {𝟙}\\otimes {n}\\otimes {𝟙} + U_{69} {𝟙}\\otimes {𝟙}\\otimes {𝟙}\\otimes {𝟙}\\otimes {𝟙}\\otimes {𝟙}\\otimes {n}\\otimes {𝟙}\\otimes {𝟙}\\otimes {n} + U_{78} {𝟙}\\otimes {𝟙}\\otimes {𝟙}\\otimes {𝟙}\\otimes {𝟙}\\otimes {𝟙}\\otimes {𝟙}\\otimes {n}\\otimes {n}\\otimes {𝟙} + U_{79} {𝟙}\\otimes {𝟙}\\otimes {𝟙}\\otimes {𝟙}\\otimes {𝟙}\\otimes {𝟙}\\otimes {𝟙}\\otimes {n}\\otimes {𝟙}\\otimes {n} + U_{89} {𝟙}\\otimes {𝟙}\\otimes {𝟙}\\otimes {𝟙}\\otimes {𝟙}\\otimes {𝟙}\\otimes {𝟙}\\otimes {𝟙}\\otimes {n}\\otimes {n} + {A_{0}}\\otimes {𝟙}\\otimes {𝟙}\\otimes {𝟙}\\otimes {𝟙}\\otimes {𝟙}\\otimes {𝟙}\\otimes {𝟙}\\otimes {𝟙}\\otimes {𝟙} + {𝟙}\\otimes {A_{1}}\\otimes {𝟙}\\otimes {𝟙}\\otimes {𝟙}\\otimes {𝟙}\\otimes {𝟙}\\otimes {𝟙}\\otimes {𝟙}\\otimes {𝟙} + {𝟙}\\otimes {𝟙}\\otimes {A_{2}}\\otimes {𝟙}\\otimes {𝟙}\\otimes {𝟙}\\otimes {𝟙}\\otimes {𝟙}\\otimes {𝟙}\\otimes {𝟙} + {𝟙}\\otimes {𝟙}\\otimes {𝟙}\\otimes {A_{3}}\\otimes {𝟙}\\otimes {𝟙}\\otimes {𝟙}\\otimes {𝟙}\\otimes {𝟙}\\otimes {𝟙} + {𝟙}\\otimes {𝟙}\\otimes {𝟙}\\otimes {𝟙}\\otimes {A_{4}}\\otimes {𝟙}\\otimes {𝟙}\\otimes {𝟙}\\otimes {𝟙}\\otimes {𝟙} + {𝟙}\\otimes {𝟙}\\otimes {𝟙}\\otimes {𝟙}\\otimes {𝟙}\\otimes {A_{5}}\\otimes {𝟙}\\otimes {𝟙}\\otimes {𝟙}\\otimes {𝟙} + {𝟙}\\otimes {𝟙}\\otimes {𝟙}\\otimes {𝟙}\\otimes {𝟙}\\otimes {𝟙}\\otimes {A_{6}}\\otimes {𝟙}\\otimes {𝟙}\\otimes {𝟙} + {𝟙}\\otimes {𝟙}\\otimes {𝟙}\\otimes {𝟙}\\otimes {𝟙}\\otimes {𝟙}\\otimes {𝟙}\\otimes {A_{7}}\\otimes {𝟙}\\otimes {𝟙} + {𝟙}\\otimes {𝟙}\\otimes {𝟙}\\otimes {𝟙}\\otimes {𝟙}\\otimes {𝟙}\\otimes {𝟙}\\otimes {𝟙}\\otimes {A_{8}}\\otimes {𝟙} + {𝟙}\\otimes {𝟙}\\otimes {𝟙}\\otimes {𝟙}\\otimes {𝟙}\\otimes {𝟙}\\otimes {𝟙}\\otimes {𝟙}\\otimes {𝟙}\\otimes {A_{9}}$"
      ],
      "text/plain": [
       "U_01*nxnx𝟙x𝟙x𝟙x𝟙x𝟙x𝟙x𝟙x𝟙 + U_02*nx𝟙xnx𝟙x𝟙x𝟙x𝟙x𝟙x𝟙x𝟙 + U_03*nx𝟙x𝟙xnx𝟙x𝟙x𝟙x𝟙x𝟙x𝟙 + U_04*nx𝟙x𝟙x𝟙xnx𝟙x𝟙x𝟙x𝟙x𝟙 + U_05*nx𝟙x𝟙x𝟙x𝟙xnx𝟙x𝟙x𝟙x𝟙 + U_06*nx𝟙x𝟙x𝟙x𝟙x𝟙xnx𝟙x𝟙x𝟙 + U_07*nx𝟙x𝟙x𝟙x𝟙x𝟙x𝟙xnx𝟙x𝟙 + U_08*nx𝟙x𝟙x𝟙x𝟙x𝟙x𝟙x𝟙xnx𝟙 + U_09*nx𝟙x𝟙x𝟙x𝟙x𝟙x𝟙x𝟙x𝟙xn + U_12*𝟙xnxnx𝟙x𝟙x𝟙x𝟙x𝟙x𝟙x𝟙 + U_13*𝟙xnx𝟙xnx𝟙x𝟙x𝟙x𝟙x𝟙x𝟙 + U_14*𝟙xnx𝟙x𝟙xnx𝟙x𝟙x𝟙x𝟙x𝟙 + U_15*𝟙xnx𝟙x𝟙x𝟙xnx𝟙x𝟙x𝟙x𝟙 + U_16*𝟙xnx𝟙x𝟙x𝟙x𝟙xnx𝟙x𝟙x𝟙 + U_17*𝟙xnx𝟙x𝟙x𝟙x𝟙x𝟙xnx𝟙x𝟙 + U_18*𝟙xnx𝟙x𝟙x𝟙x𝟙x𝟙x𝟙xnx𝟙 + U_19*𝟙xnx𝟙x𝟙x𝟙x𝟙x𝟙x𝟙x𝟙xn + U_23*𝟙x𝟙xnxnx𝟙x𝟙x𝟙x𝟙x𝟙x𝟙 + U_24*𝟙x𝟙xnx𝟙xnx𝟙x𝟙x𝟙x𝟙x𝟙 + U_25*𝟙x𝟙xnx𝟙x𝟙xnx𝟙x𝟙x𝟙x𝟙 + U_26*𝟙x𝟙xnx𝟙x𝟙x𝟙xnx𝟙x𝟙x𝟙 + U_27*𝟙x𝟙xnx𝟙x𝟙x𝟙x𝟙xnx𝟙x𝟙 + U_28*𝟙x𝟙xnx𝟙x𝟙x𝟙x𝟙x𝟙xnx𝟙 + U_29*𝟙x𝟙xnx𝟙x𝟙x𝟙x𝟙x𝟙x𝟙xn + U_34*𝟙x𝟙x𝟙xnxnx𝟙x𝟙x𝟙x𝟙x𝟙 + U_35*𝟙x𝟙x𝟙xnx𝟙xnx𝟙x𝟙x𝟙x𝟙 + U_36*𝟙x𝟙x𝟙xnx𝟙x𝟙xnx𝟙x𝟙x𝟙 + U_37*𝟙x𝟙x𝟙xnx𝟙x𝟙x𝟙xnx𝟙x𝟙 + U_38*𝟙x𝟙x𝟙xnx𝟙x𝟙x𝟙x𝟙xnx𝟙 + U_39*𝟙x𝟙x𝟙xnx𝟙x𝟙x𝟙x𝟙x𝟙xn + U_45*𝟙x𝟙x𝟙x𝟙xnxnx𝟙x𝟙x𝟙x𝟙 + U_46*𝟙x𝟙x𝟙x𝟙xnx𝟙xnx𝟙x𝟙x𝟙 + U_47*𝟙x𝟙x𝟙x𝟙xnx𝟙x𝟙xnx𝟙x𝟙 + U_48*𝟙x𝟙x𝟙x𝟙xnx𝟙x𝟙x𝟙xnx𝟙 + U_49*𝟙x𝟙x𝟙x𝟙xnx𝟙x𝟙x𝟙x𝟙xn + U_56*𝟙x𝟙x𝟙x𝟙x𝟙xnxnx𝟙x𝟙x𝟙 + U_57*𝟙x𝟙x𝟙x𝟙x𝟙xnx𝟙xnx𝟙x𝟙 + U_58*𝟙x𝟙x𝟙x𝟙x𝟙xnx𝟙x𝟙xnx𝟙 + U_59*𝟙x𝟙x𝟙x𝟙x𝟙xnx𝟙x𝟙x𝟙xn + U_67*𝟙x𝟙x𝟙x𝟙x𝟙x𝟙xnxnx𝟙x𝟙 + U_68*𝟙x𝟙x𝟙x𝟙x𝟙x𝟙xnx𝟙xnx𝟙 + U_69*𝟙x𝟙x𝟙x𝟙x𝟙x𝟙xnx𝟙x𝟙xn + U_78*𝟙x𝟙x𝟙x𝟙x𝟙x𝟙x𝟙xnxnx𝟙 + U_79*𝟙x𝟙x𝟙x𝟙x𝟙x𝟙x𝟙xnx𝟙xn + U_89*𝟙x𝟙x𝟙x𝟙x𝟙x𝟙x𝟙x𝟙xnxn + A_0x𝟙x𝟙x𝟙x𝟙x𝟙x𝟙x𝟙x𝟙x𝟙 + 𝟙xA_1x𝟙x𝟙x𝟙x𝟙x𝟙x𝟙x𝟙x𝟙 + 𝟙x𝟙xA_2x𝟙x𝟙x𝟙x𝟙x𝟙x𝟙x𝟙 + 𝟙x𝟙x𝟙xA_3x𝟙x𝟙x𝟙x𝟙x𝟙x𝟙 + 𝟙x𝟙x𝟙x𝟙xA_4x𝟙x𝟙x𝟙x𝟙x𝟙 + 𝟙x𝟙x𝟙x𝟙x𝟙xA_5x𝟙x𝟙x𝟙x𝟙 + 𝟙x𝟙x𝟙x𝟙x𝟙x𝟙xA_6x𝟙x𝟙x𝟙 + 𝟙x𝟙x𝟙x𝟙x𝟙x𝟙x𝟙xA_7x𝟙x𝟙 + 𝟙x𝟙x𝟙x𝟙x𝟙x𝟙x𝟙x𝟙xA_8x𝟙 + 𝟙x𝟙x𝟙x𝟙x𝟙x𝟙x𝟙x𝟙x𝟙xA_9"
      ]
     },
     "execution_count": 408,
     "metadata": {},
     "output_type": "execute_result"
    }
   ],
   "source": [
    "reference_hamiltonian(10)"
   ]
  },
  {
   "cell_type": "code",
   "execution_count": 409,
   "metadata": {},
   "outputs": [
    {
     "data": {
      "text/plain": [
       "True"
      ]
     },
     "execution_count": 409,
     "metadata": {},
     "output_type": "execute_result"
    }
   ],
   "source": [
    "str(reference_hamiltonian(10)) == str(mpo_factors_product(*get_ising_mpo_factors(10)))"
   ]
  }
 ],
 "metadata": {
  "kernelspec": {
   "display_name": "Python 3",
   "language": "python",
   "name": "python3"
  },
  "language_info": {
   "codemirror_mode": {
    "name": "ipython",
    "version": 3
   },
   "file_extension": ".py",
   "mimetype": "text/x-python",
   "name": "python",
   "nbconvert_exporter": "python",
   "pygments_lexer": "ipython3",
   "version": "3.10.12"
  }
 },
 "nbformat": 4,
 "nbformat_minor": 2
}
