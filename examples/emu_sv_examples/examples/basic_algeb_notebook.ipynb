{
 "cells": [
  {
   "cell_type": "code",
   "execution_count": 1,
   "id": "fd102175-e349-4dd4-a577-da0ee85fb40d",
   "metadata": {},
   "outputs": [],
   "source": [
    "## EMU-SV: StateVector class testing api\n",
    "\n",
    "import torch \n",
    "from IPython.display import Latex \n",
    "\n",
    "from emu_sv import StateVector, inner\n",
    "from emu_sv.hamiltonian import RydbergHamiltonian\n",
    "from emu_sv.dense_operator import DenseOperator\n",
    "dtype = torch.complex128\n",
    "\n",
    "import math"
   ]
  },
  {
   "cell_type": "markdown",
   "id": "4ce3dc4a",
   "metadata": {},
   "source": [
    "#### The basics function related to StateVector class in EMU-SV\n",
    "\n",
    "We are going to define 2 states: \n",
    "\n",
    "\n",
    "$ |\\psi\\rangle = \\frac{1}{\\sqrt 2}(|00\\rangle+|11\\rangle)$ and $|\\phi\\rangle = \\frac{1}{\\sqrt 2}(|01\\rangle+|11\\rangle)$"
   ]
  },
  {
   "cell_type": "code",
   "execution_count": 2,
   "id": "36d96500",
   "metadata": {},
   "outputs": [],
   "source": [
    "\n",
    "factor = math.sqrt(2.0)\n",
    "\n",
    "basis = (\"r\",\"g\")\n",
    "nqubits = 2\n",
    "string_state1 = {\"gg\":1.0,\"rr\":1.0}\n",
    "state1 = StateVector.from_state_string(basis=basis, nqubits=nqubits,strings=string_state1)\n",
    "\n",
    "\n",
    "string_state2 = {\"gr\":1.0/factor,\"rr\":1.0/factor}\n",
    "state2 = StateVector.from_state_string(basis=basis,nqubits=nqubits,strings=string_state2)"
   ]
  },
  {
   "cell_type": "code",
   "execution_count": 3,
   "id": "3c293dc5",
   "metadata": {},
   "outputs": [
    {
     "data": {
      "text/plain": [
       "tensor([0.7071+0.j, 0.0000+0.j, 0.0000+0.j, 0.7071+0.j],\n",
       "       dtype=torch.complex128)"
      ]
     },
     "execution_count": 3,
     "metadata": {},
     "output_type": "execute_result"
    }
   ],
   "source": [
    "# representation of state 1\n",
    "state1"
   ]
  },
  {
   "cell_type": "code",
   "execution_count": 4,
   "id": "a9743898",
   "metadata": {},
   "outputs": [
    {
     "name": "stdout",
     "output_type": "stream",
     "text": [
      "\n",
      "Shape:  4\n",
      "\n",
      "norm: tensor(1.0000, dtype=torch.float64)\n"
     ]
    },
    {
     "data": {
      "text/latex": [
       "Sampling $|\\psi\\rangle$:"
      ],
      "text/plain": [
       "<IPython.core.display.Latex object>"
      ]
     },
     "metadata": {},
     "output_type": "display_data"
    },
    {
     "data": {
      "text/plain": [
       "Counter({'00': 503, '11': 497})"
      ]
     },
     "execution_count": 4,
     "metadata": {},
     "output_type": "execute_result"
    }
   ],
   "source": [
    "#shape of the tensor and sample\n",
    "print(\"\\nShape: \",state1.vector.shape[0])\n",
    "#norm of the state\n",
    "print(\"\\nnorm:\",state1.norm())\n",
    "display(Latex(r\"Sampling $|\\psi\\rangle$:\"))\n",
    "state1.sample() # sampling the state"
   ]
  },
  {
   "cell_type": "code",
   "execution_count": 5,
   "id": "0361acca",
   "metadata": {},
   "outputs": [
    {
     "data": {
      "text/latex": [
       "Inner product $\\langle\\psi|\\phi \\rangle :$"
      ],
      "text/plain": [
       "<IPython.core.display.Latex object>"
      ]
     },
     "metadata": {},
     "output_type": "display_data"
    },
    {
     "name": "stdout",
     "output_type": "stream",
     "text": [
      "(0.4999999999999999+0j)\n"
     ]
    },
    {
     "data": {
      "text/latex": [
       "norm of $|\\psi\\rangle:$ "
      ],
      "text/plain": [
       "<IPython.core.display.Latex object>"
      ]
     },
     "metadata": {},
     "output_type": "display_data"
    },
    {
     "name": "stdout",
     "output_type": "stream",
     "text": [
      "0.9999999999999999\n"
     ]
    },
    {
     "data": {
      "text/latex": [
       "$ |\\delta\\rangle=|\\phi\\rangle+2 e^{\\pi i} |\\psi\\rangle:$"
      ],
      "text/plain": [
       "<IPython.core.display.Latex object>"
      ]
     },
     "metadata": {},
     "output_type": "display_data"
    },
    {
     "name": "stdout",
     "output_type": "stream",
     "text": [
      "\n",
      "Final state: tensor([ 0.7071+0.0000e+00j, -1.4142+3.5853e-06j,  0.0000+0.0000e+00j,\n",
      "        -0.7071+3.5853e-06j], dtype=torch.complex128)\n",
      "\n",
      "sampling the resulting state\n",
      "Counter({'01': 660, '00': 174, '11': 166})\n"
     ]
    }
   ],
   "source": [
    "display(Latex(r\"Inner product $\\langle\\psi|\\phi \\rangle :$\"))\n",
    "print(inner(state1,state2).item())\n",
    "display(Latex(r\"norm of $|\\psi\\rangle:$ \"))\n",
    "print(state1.norm().item())\n",
    "display(Latex(r\"$ |\\delta\\rangle=|\\phi\\rangle+2 e^{\\pi i} |\\psi\\rangle:$\"))\n",
    "result = state1 + 2*torch.exp(torch.tensor(3.14159j))*state2\n",
    "print(\"\\nFinal state:\",result)\n",
    "print(\"\\nsampling the resulting state\")\n",
    "print(result.sample(1000))\n"
   ]
  },
  {
   "cell_type": "code",
   "execution_count": 6,
   "id": "44f374f7",
   "metadata": {},
   "outputs": [
    {
     "name": "stdout",
     "output_type": "stream",
     "text": [
      "Counter({'11': 516, '01': 484})\n"
     ]
    },
    {
     "data": {
      "text/plain": [
       "516"
      ]
     },
     "execution_count": 6,
     "metadata": {},
     "output_type": "execute_result"
    }
   ],
   "source": [
    "# sampling the other state\n",
    "sampling = state2.sample(1000)\n",
    "print(sampling)\n",
    "sampling[\"11\"]"
   ]
  },
  {
   "cell_type": "code",
   "execution_count": 7,
   "id": "8dd008b1",
   "metadata": {},
   "outputs": [
    {
     "data": {
      "text/plain": [
       "Counter({'111': 513, '000': 487})"
      ]
     },
     "execution_count": 7,
     "metadata": {},
     "output_type": "execute_result"
    }
   ],
   "source": [
    "# sampling the state |111>+|000>\n",
    "nqubits = 3\n",
    "string_state = {\"rrr\":1.0, \"ggg\":1.0}\n",
    "state3 = StateVector.from_state_string(basis=basis,nqubits=nqubits,strings=string_state)\n",
    "state3.sample(1000)"
   ]
  },
  {
   "cell_type": "code",
   "execution_count": 8,
   "id": "40e681c6",
   "metadata": {},
   "outputs": [
    {
     "data": {
      "text/plain": [
       "Counter({'111': 515, '000': 485})"
      ]
     },
     "execution_count": 8,
     "metadata": {},
     "output_type": "execute_result"
    }
   ],
   "source": [
    "# sampling the state |111>+|000>\n",
    "nqubits = 3\n",
    "string_state = {\"rrr\":1.0, \"ggg\":1.0}\n",
    "state3 = StateVector.from_state_string(basis=basis,nqubits=nqubits,strings=string_state)\n",
    "state3.sample(1000)"
   ]
  },
  {
   "cell_type": "code",
   "execution_count": 9,
   "id": "1fe32d8d",
   "metadata": {},
   "outputs": [
    {
     "data": {
      "text/plain": [
       "Counter({'0000000000': 1000})"
      ]
     },
     "execution_count": 9,
     "metadata": {},
     "output_type": "execute_result"
    }
   ],
   "source": [
    "# 10 atoms in the ground state using the make function\n",
    "n=10\n",
    "ground = StateVector.make(n)\n",
    "ground.sample()\n"
   ]
  },
  {
   "cell_type": "markdown",
   "id": "c4ddbc6f",
   "metadata": {},
   "source": [
    "### Custom sparse Rydberg Hamiltonian\n",
    "\n",
    "Implementation of Rydberg Hamiltonian in sparse format and multiplication with a random vector\n",
    "\n",
    "\n"
   ]
  },
  {
   "cell_type": "code",
   "execution_count": 10,
   "id": "290de4a9",
   "metadata": {},
   "outputs": [
    {
     "name": "stdout",
     "output_type": "stream",
     "text": [
      "\n",
      "Custom multiplication: sparse matrix with random vector tensor([-1.9323-1.3664j,  0.2566+1.8306j, -0.3390+1.0845j, -0.2470-0.7743j,\n",
      "         0.4235-0.8698j,  0.4089+0.2061j, -0.3048-0.3941j,  0.8510-4.2901j,\n",
      "         0.9998-1.7926j,  3.1959+1.0241j], dtype=torch.complex128)\n"
     ]
    }
   ],
   "source": [
    "N = 8\n",
    "device = \"cpu\"\n",
    "\n",
    "omega = torch.randn(N, dtype=dtype, device=device)\n",
    "delta = torch.randn(N, dtype=dtype, device=device)\n",
    "interaction_matrix = torch.randn((N, N))\n",
    "v = torch.randn((2,)*N, dtype=dtype, device=device)\n",
    "h_custom = RydbergHamiltonian(\n",
    "    omegas=omega, deltas=delta, interaction_matrix=interaction_matrix, device=device\n",
    ")\n",
    "res_sparse = h_custom @ v\n",
    "print(\"\\nCustom multiplication: sparse matrix with random vector\", res_sparse[0:10])"
   ]
  },
  {
   "cell_type": "code",
   "execution_count": 11,
   "id": "8d92722f",
   "metadata": {},
   "outputs": [
    {
     "data": {
      "text/plain": [
       "tensor([1.+0.j, 0.+0.j, 0.+0.j, 0.+0.j], dtype=torch.complex128)"
      ]
     },
     "execution_count": 11,
     "metadata": {},
     "output_type": "execute_result"
    }
   ],
   "source": [
    "## use make in order to generate a ground state |000000..0>\n",
    "\n",
    "StateVector.make(2)"
   ]
  },
  {
   "cell_type": "code",
   "execution_count": 13,
   "id": "2792a87c",
   "metadata": {},
   "outputs": [
    {
     "data": {
      "text/plain": [
       "tensor([0.0576+0.j, 0.5764+0.j, 0.5764+0.j, 0.5764+0.j],\n",
       "       dtype=torch.complex128)"
      ]
     },
     "execution_count": 13,
     "metadata": {},
     "output_type": "execute_result"
    }
   ],
   "source": [
    "vector = torch.tensor([0.1,1.0,1.0,1.0])\n",
    "state = StateVector(vector)\n",
    "state._normalize()\n"
   ]
  },
  {
   "cell_type": "code",
   "execution_count": null,
   "id": "5ed3a7eb",
   "metadata": {},
   "outputs": [],
   "source": []
  },
  {
   "cell_type": "markdown",
   "id": "4428d746",
   "metadata": {},
   "source": [
    "Operators in Emu-SV\n",
    "\n",
    "Creating and algebra related to operators"
   ]
  },
  {
   "cell_type": "code",
   "execution_count": null,
   "id": "78a06bcd",
   "metadata": {},
   "outputs": [],
   "source": [
    "x = {\"g\"+\"r\":1.0, \"r\"+\"g\":1.0}\n",
    "z = {\"g\"+\"g\":1.0, \"r\"+\"r\":-1.0}\n",
    "operators = {\"X\": x, \"Z\": z}\n",
    "operations = [\n",
    "        (\n",
    "            1.0,\n",
    "            [\n",
    "                ({\"X\": 2.0}, [0, 2]),\n",
    "                ({\"Z\": 3.0}, [1]),\n",
    "            ],\n",
    "        )\n",
    "    ]\n",
    "\n",
    "basis = {\"r\",\"g\"}\n",
    "N= 3\n",
    "oper_a = DenseOperator.from_operator_string(basis,N,operations,operators)\n",
    "oper_a\n",
    "\n"
   ]
  },
  {
   "cell_type": "code",
   "execution_count": 36,
   "id": "73712109",
   "metadata": {},
   "outputs": [],
   "source": [
    "expected_op = torch.zeros(2**N,2**N,dtype=torch.complex128)\n",
    "expected_op[0,5] = 12.+0.j\n",
    "expected_op[1,4] = 12.+0.j\n",
    "expected_op[2,7]= -12.0+0j\n",
    "expected_op[3,6] = -12.+0.j\n",
    "expected_op[4,1] = 12.+0.j\n",
    "expected_op[5,0] = 12.+0j\n",
    "expected_op[6,3] = -12.+0.j\n",
    "expected_op[7,2] = -12.+0.j\n",
    "\n",
    "assert torch.allclose(expected_op,oper_a.matrix)"
   ]
  },
  {
   "cell_type": "code",
   "execution_count": null,
   "id": "fe7a2eb8",
   "metadata": {},
   "outputs": [],
   "source": [
    "x = {\"g\"+\"r\":1.0, \"r\"+\"g\":1.0}\n",
    "y = {\"g\"+\"r\":-1.0j, \"r\"+\"g\":1.0j}\n",
    "operators = {\"X\": x, \"Y\": y}\n",
    "operations = [\n",
    "        (\n",
    "            2.0,\n",
    "            [\n",
    "                ({\"X\": 2.0}, [0, 2]),\n",
    "                ({\"Y\": 3.0}, [1]),\n",
    "            ],\n",
    "        )\n",
    "    ]\n",
    "\n",
    "basis = {\"r\",\"g\"}\n",
    "N = 3\n",
    "oper_b = DenseOperator.from_operator_string(basis,N,operations,operators)\n",
    "oper_b \n"
   ]
  },
  {
   "cell_type": "code",
   "execution_count": null,
   "id": "86129cc9",
   "metadata": {},
   "outputs": [],
   "source": [
    "#summing 2 operators\n",
    "oper_a+oper_b"
   ]
  },
  {
   "cell_type": "code",
   "execution_count": null,
   "id": "c241eff2",
   "metadata": {},
   "outputs": [],
   "source": [
    "#scalar multiplication\n",
    "5.0*oper_a"
   ]
  },
  {
   "cell_type": "code",
   "execution_count": null,
   "id": "bc8bc349",
   "metadata": {},
   "outputs": [],
   "source": [
    "#operator applied to a StateVector\n",
    "state = StateVector.make(3) #|000>\n",
    "oper_a * state"
   ]
  },
  {
   "cell_type": "code",
   "execution_count": null,
   "id": "75d2c16e",
   "metadata": {},
   "outputs": [],
   "source": [
    "# expectation value\n",
    "expectation_000 = oper_a.expect(state)\n",
    "expectation_000"
   ]
  },
  {
   "cell_type": "code",
   "execution_count": null,
   "id": "f679f77d",
   "metadata": {},
   "outputs": [],
   "source": [
    "# aplication of an operator to a StateVector\n",
    "\n",
    "\n",
    "basis = (\"r\", \"g\")\n",
    "state = {\"rrr\": 1.0, \"ggg\": 1.0}\n",
    "nqubits = 3\n",
    "from_string = StateVector.from_state_string(\n",
    "    basis=basis, nqubits=nqubits, strings=state\n",
    ")\n",
    "\n",
    "oper_a * from_string "
   ]
  },
  {
   "cell_type": "code",
   "execution_count": null,
   "id": "b74a1316",
   "metadata": {},
   "outputs": [],
   "source": [
    "#expectation value\n",
    "print(oper_a.expect(from_string))\n",
    "print(oper_b.expect(from_string))"
   ]
  },
  {
   "cell_type": "code",
   "execution_count": null,
   "id": "bd3cb100",
   "metadata": {},
   "outputs": [],
   "source": [
    "## operator - operator multipliation\n",
    "\n",
    "oper_a @ oper_b"
   ]
  },
  {
   "cell_type": "code",
   "execution_count": null,
   "id": "a90b2997",
   "metadata": {},
   "outputs": [],
   "source": []
  },
  {
   "cell_type": "code",
   "execution_count": null,
   "id": "d51d59b8",
   "metadata": {},
   "outputs": [],
   "source": []
  },
  {
   "cell_type": "code",
   "execution_count": 8,
   "id": "92a51346",
   "metadata": {},
   "outputs": [],
   "source": [
    "import random\n",
    "\n",
    "lst= []\n",
    "\n",
    "lst1 = random.sample(range(0,10),10)\n",
    "lst.append(lst1)\n",
    "lst2 = random.sample(range(0,10),10)\n",
    "lst.append(lst2)"
   ]
  },
  {
   "cell_type": "code",
   "execution_count": 9,
   "id": "94f45a70",
   "metadata": {},
   "outputs": [
    {
     "data": {
      "text/plain": [
       "[[0, 4, 7, 2, 3, 8, 6, 9, 1, 5], [2, 6, 1, 5, 3, 9, 8, 4, 7, 0]]"
      ]
     },
     "execution_count": 9,
     "metadata": {},
     "output_type": "execute_result"
    }
   ],
   "source": [
    "lst"
   ]
  },
  {
   "cell_type": "code",
   "execution_count": null,
   "id": "e18a7fcf",
   "metadata": {},
   "outputs": [],
   "source": []
  }
 ],
 "metadata": {
  "kernelspec": {
   "display_name": ".venv",
   "language": "python",
   "name": "python3"
  },
  "language_info": {
   "codemirror_mode": {
    "name": "ipython",
    "version": 3
   },
   "file_extension": ".py",
   "mimetype": "text/x-python",
   "name": "python",
   "nbconvert_exporter": "python",
   "pygments_lexer": "ipython3",
   "version": "3.10.14"
  }
 },
 "nbformat": 4,
 "nbformat_minor": 5
}
