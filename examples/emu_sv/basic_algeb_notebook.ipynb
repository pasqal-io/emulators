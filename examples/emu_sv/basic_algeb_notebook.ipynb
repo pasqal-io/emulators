{
 "cells": [
  {
   "cell_type": "code",
   "execution_count": 27,
   "id": "fd102175-e349-4dd4-a577-da0ee85fb40d",
   "metadata": {},
   "outputs": [],
   "source": [
    "## EMU-SV: StateVector class testing api\n",
    "\n",
    "import torch \n",
    "from IPython.display import Latex \n",
    "\n",
    "from emu_sv import StateVector, inner, DenseOperator\n",
    "dtype = torch.complex128\n",
    "\n",
    "import math"
   ]
  },
  {
   "cell_type": "markdown",
   "id": "4ce3dc4a",
   "metadata": {},
   "source": [
    "#### The basics function related to StateVector class in EMU-SV\n",
    "\n",
    "We are going to define 2 states: \n",
    "\n",
    "\n",
    "$ |\\psi\\rangle = \\frac{1}{\\sqrt 2}(|00\\rangle+|11\\rangle)$ and $|\\phi\\rangle = \\frac{1}{\\sqrt 2}(|01\\rangle+|11\\rangle)$"
   ]
  },
  {
   "cell_type": "code",
   "execution_count": 28,
   "id": "36d96500",
   "metadata": {},
   "outputs": [],
   "source": [
    "\n",
    "factor = math.sqrt(2.0)\n",
    "\n",
    "basis = (\"r\",\"g\")\n",
    "nqubits = 2\n",
    "string_state1 = {\"gg\":1.0,\"rr\":1.0}\n",
    "state1 = StateVector.from_state_amplitudes(eigenstates=basis, amplitudes=string_state1)\n",
    "\n",
    "\n",
    "string_state2 = {\"gr\":1.0/factor,\"rr\":1.0/factor}\n",
    "state2 = StateVector.from_state_amplitudes(eigenstates=basis, amplitudes=string_state2)"
   ]
  },
  {
   "cell_type": "code",
   "execution_count": 29,
   "id": "3c293dc5",
   "metadata": {},
   "outputs": [
    {
     "data": {
      "text/plain": [
       "tensor([0.7071+0.j, 0.0000+0.j, 0.0000+0.j, 0.7071+0.j], device='cuda:0',\n",
       "       dtype=torch.complex128)"
      ]
     },
     "execution_count": 29,
     "metadata": {},
     "output_type": "execute_result"
    }
   ],
   "source": [
    "# representation of state 1\n",
    "state1"
   ]
  },
  {
   "cell_type": "code",
   "execution_count": 30,
   "id": "a9743898",
   "metadata": {},
   "outputs": [
    {
     "name": "stdout",
     "output_type": "stream",
     "text": [
      "\n",
      "Shape:  4\n",
      "\n",
      "norm: tensor(1.0000, dtype=torch.float64)\n"
     ]
    },
    {
     "data": {
      "text/latex": [
       "Sampling $|\\psi\\rangle$:"
      ],
      "text/plain": [
       "<IPython.core.display.Latex object>"
      ]
     },
     "metadata": {},
     "output_type": "display_data"
    },
    {
     "data": {
      "text/plain": [
       "Counter({'00': 510, '11': 490})"
      ]
     },
     "execution_count": 30,
     "metadata": {},
     "output_type": "execute_result"
    }
   ],
   "source": [
    "#shape of the tensor and sample\n",
    "print(\"\\nShape: \",state1.vector.shape[0])\n",
    "#norm of the state\n",
    "print(\"\\nnorm:\",state1.norm())\n",
    "display(Latex(r\"Sampling $|\\psi\\rangle$:\"))\n",
    "state1.sample() # sampling the state"
   ]
  },
  {
   "cell_type": "code",
   "execution_count": 31,
   "id": "0361acca",
   "metadata": {},
   "outputs": [
    {
     "data": {
      "text/latex": [
       "Inner product $\\langle\\psi|\\phi \\rangle :$"
      ],
      "text/plain": [
       "<IPython.core.display.Latex object>"
      ]
     },
     "metadata": {},
     "output_type": "display_data"
    },
    {
     "name": "stdout",
     "output_type": "stream",
     "text": [
      "(0.49999999144286444+0j)\n"
     ]
    },
    {
     "data": {
      "text/latex": [
       "norm of $|\\psi\\rangle:$ "
      ],
      "text/plain": [
       "<IPython.core.display.Latex object>"
      ]
     },
     "metadata": {},
     "output_type": "display_data"
    },
    {
     "name": "stdout",
     "output_type": "stream",
     "text": [
      "tensor(1.0000, dtype=torch.float64)\n"
     ]
    },
    {
     "data": {
      "text/latex": [
       "$ |\\delta\\rangle=|\\phi\\rangle+2 e^{\\pi i} |\\psi\\rangle:$"
      ],
      "text/plain": [
       "<IPython.core.display.Latex object>"
      ]
     },
     "metadata": {},
     "output_type": "display_data"
    },
    {
     "name": "stdout",
     "output_type": "stream",
     "text": [
      "\n",
      "Final state: tensor([ 0.7071+0.0000e+00j, -1.4142+3.5853e-06j,  0.0000+0.0000e+00j,\n",
      "        -0.7071+3.5853e-06j], device='cuda:0', dtype=torch.complex128)\n",
      "\n",
      "sampling the resulting state\n",
      "Counter({'01': 681, '11': 160, '00': 159})\n"
     ]
    }
   ],
   "source": [
    "display(Latex(r\"Inner product $\\langle\\psi|\\phi \\rangle :$\"))\n",
    "print(inner(state1,state2).item())\n",
    "display(Latex(r\"norm of $|\\psi\\rangle:$ \"))\n",
    "print(state1.norm())\n",
    "display(Latex(r\"$ |\\delta\\rangle=|\\phi\\rangle+2 e^{\\pi i} |\\psi\\rangle:$\"))\n",
    "result_state = state1 + 2*torch.exp(torch.tensor(3.14159j))*state2\n",
    "print(\"\\nFinal state:\",result_state)\n",
    "print(\"\\nsampling the resulting state\")\n",
    "print(result_state.sample(num_shots=1000))\n"
   ]
  },
  {
   "cell_type": "code",
   "execution_count": 32,
   "id": "44f374f7",
   "metadata": {},
   "outputs": [
    {
     "name": "stdout",
     "output_type": "stream",
     "text": [
      "Counter({'01': 507, '11': 493})\n"
     ]
    },
    {
     "data": {
      "text/plain": [
       "493"
      ]
     },
     "execution_count": 32,
     "metadata": {},
     "output_type": "execute_result"
    }
   ],
   "source": [
    "# sampling the other state\n",
    "sampling = state2.sample(num_shots=1000)\n",
    "print(sampling)\n",
    "sampling[\"11\"]"
   ]
  },
  {
   "cell_type": "code",
   "execution_count": 33,
   "id": "8dd008b1",
   "metadata": {},
   "outputs": [
    {
     "data": {
      "text/plain": [
       "Counter({'000': 503, '111': 497})"
      ]
     },
     "execution_count": 33,
     "metadata": {},
     "output_type": "execute_result"
    }
   ],
   "source": [
    "# sampling the state |111>+|000>\n",
    "nqubits = 3\n",
    "string_state = {\"rrr\":1.0, \"ggg\":1.0}\n",
    "state3 = StateVector.from_state_amplitudes(eigenstates=basis, amplitudes=string_state)\n",
    "state3.sample(num_shots=1000)"
   ]
  },
  {
   "cell_type": "code",
   "execution_count": 34,
   "id": "40e681c6",
   "metadata": {},
   "outputs": [
    {
     "data": {
      "text/plain": [
       "Counter({'111': 515, '000': 485})"
      ]
     },
     "execution_count": 34,
     "metadata": {},
     "output_type": "execute_result"
    }
   ],
   "source": [
    "# sampling the state |111>+|000>\n",
    "nqubits = 3\n",
    "string_state = {\"rrr\":1.0, \"ggg\":1.0}\n",
    "state3 = StateVector.from_state_amplitudes(eigenstates=basis, amplitudes=string_state)\n",
    "state3.sample(num_shots=1000)"
   ]
  },
  {
   "cell_type": "code",
   "execution_count": 35,
   "id": "1fe32d8d",
   "metadata": {},
   "outputs": [
    {
     "data": {
      "text/plain": [
       "Counter({'0000000000': 1000})"
      ]
     },
     "execution_count": 35,
     "metadata": {},
     "output_type": "execute_result"
    }
   ],
   "source": [
    "# 10 atoms in the ground state using the make function\n",
    "n=10\n",
    "ground = StateVector.make(n)\n",
    "ground.sample()\n"
   ]
  },
  {
   "cell_type": "code",
   "execution_count": 36,
   "id": "8d92722f",
   "metadata": {},
   "outputs": [
    {
     "data": {
      "text/plain": [
       "tensor([1.+0.j, 0.+0.j, 0.+0.j, 0.+0.j], device='cuda:0',\n",
       "       dtype=torch.complex128)"
      ]
     },
     "execution_count": 36,
     "metadata": {},
     "output_type": "execute_result"
    }
   ],
   "source": [
    "## use make in order to generate a ground state |000000..0>\n",
    "\n",
    "StateVector.make(2)"
   ]
  },
  {
   "cell_type": "code",
   "execution_count": 37,
   "id": "2792a87c",
   "metadata": {},
   "outputs": [],
   "source": [
    "vector = torch.tensor([0.1,1.0,1.0,1.0])\n",
    "state = StateVector(vector)\n",
    "state._normalize()\n"
   ]
  },
  {
   "cell_type": "markdown",
   "id": "4428d746",
   "metadata": {},
   "source": [
    "Operators in Emu-SV\n",
    "\n",
    "Creating and algebra related to operators"
   ]
  },
  {
   "cell_type": "code",
   "execution_count": 38,
   "id": "78a06bcd",
   "metadata": {},
   "outputs": [
    {
     "data": {
      "text/plain": [
       "tensor([[ 0.0000+0.j,  0.0000+0.j,  0.0000+0.j,  0.0000+0.j,  0.0000+0.j,  1.3000+0.j,\n",
       "          0.0000+0.j,  0.0000+0.j],\n",
       "        [ 0.0000+0.j,  0.0000+0.j,  0.0000+0.j,  0.0000+0.j,  1.3000+0.j,  0.0000+0.j,\n",
       "          0.0000+0.j,  0.0000+0.j],\n",
       "        [ 0.0000+0.j,  0.0000+0.j,  0.0000+0.j,  0.0000+0.j,  0.0000+0.j,  0.0000+0.j,\n",
       "          0.0000+0.j, -1.3000+0.j],\n",
       "        [ 0.0000+0.j,  0.0000+0.j,  0.0000+0.j,  0.0000+0.j,  0.0000+0.j,  0.0000+0.j,\n",
       "         -1.3000+0.j,  0.0000+0.j],\n",
       "        [ 0.0000+0.j,  1.3000+0.j,  0.0000+0.j,  0.0000+0.j,  0.0000+0.j,  0.0000+0.j,\n",
       "          0.0000+0.j,  0.0000+0.j],\n",
       "        [ 1.3000+0.j,  0.0000+0.j,  0.0000+0.j,  0.0000+0.j,  0.0000+0.j,  0.0000+0.j,\n",
       "          0.0000+0.j,  0.0000+0.j],\n",
       "        [ 0.0000+0.j,  0.0000+0.j,  0.0000+0.j, -1.3000+0.j,  0.0000+0.j,  0.0000+0.j,\n",
       "          0.0000+0.j,  0.0000+0.j],\n",
       "        [ 0.0000+0.j,  0.0000+0.j, -1.3000+0.j,  0.0000+0.j,  0.0000+0.j,  0.0000+0.j,\n",
       "          0.0000+0.j,  0.0000+0.j]], device='cuda:0', dtype=torch.complex128)"
      ]
     },
     "execution_count": 38,
     "metadata": {},
     "output_type": "execute_result"
    }
   ],
   "source": [
    "z_coeff = 1.3\n",
    "ops_1 = [\n",
    "    (\n",
    "        1.0,\n",
    "        [\n",
    "            ({\"gr\": 1.0, \"rg\": 1.0}, {0, 2}),  # X\n",
    "            ({\"gg\": z_coeff, \"rr\": -z_coeff}, {1}),  # z_coeff*Z\n",
    "        ],\n",
    "    )\n",
    "]\n",
    "\n",
    "basis = (\"r\",\"g\")\n",
    "N = 3\n",
    "operator_1 = DenseOperator.from_operator_repr(\n",
    "    eigenstates=basis,\n",
    "    n_qudits=N,\n",
    "    operations=ops_1,\n",
    ")\n",
    "\n",
    "operator_1\n",
    "\n"
   ]
  },
  {
   "cell_type": "code",
   "execution_count": 39,
   "id": "73712109",
   "metadata": {},
   "outputs": [],
   "source": [
    "X = torch.tensor([[0, 1], [1, 0]], dtype=dtype)\n",
    "Z = torch.tensor([[1, 0], [0, -1]], dtype=dtype)\n",
    "\n",
    "expected = torch.kron(torch.kron(X, z_coeff * Z), X)\n",
    "assert torch.allclose(operator_1.matrix.cpu(), expected)"
   ]
  },
  {
   "cell_type": "code",
   "execution_count": 40,
   "id": "fe7a2eb8",
   "metadata": {},
   "outputs": [],
   "source": [
    "ops_2 = [\n",
    "        (\n",
    "            2.0,\n",
    "            [\n",
    "                ({\"g\"+\"r\":1.0, \"r\"+\"g\":1.0}, [0, 2]),\n",
    "                ({\"g\"+\"r\":-1.0j, \"r\"+\"g\":1.0j}, [1]),\n",
    "            ],\n",
    "        )\n",
    "    ]\n",
    "\n",
    "basis = (\"r\",\"g\")\n",
    "N = 3\n",
    "operator_2 = DenseOperator.from_operator_repr(\n",
    "    eigenstates=basis,\n",
    "    n_qudits=N,\n",
    "    operations=ops_2,\n",
    ")\n"
   ]
  },
  {
   "cell_type": "code",
   "execution_count": 41,
   "id": "86129cc9",
   "metadata": {},
   "outputs": [
    {
     "data": {
      "text/plain": [
       "tensor([[ 0.0000+0.j,  0.0000+0.j,  0.0000+0.j,  0.0000+0.j,  0.0000+0.j,\n",
       "          1.3000+0.j,  0.0000+0.j,  0.0000+2.j],\n",
       "        [ 0.0000+0.j,  0.0000+0.j,  0.0000+0.j,  0.0000+0.j,  1.3000+0.j,\n",
       "          0.0000+0.j,  0.0000+2.j,  0.0000+0.j],\n",
       "        [ 0.0000+0.j,  0.0000+0.j,  0.0000+0.j,  0.0000+0.j,  0.0000+0.j,\n",
       "          0.0000-2.j,  0.0000+0.j, -1.3000+0.j],\n",
       "        [ 0.0000+0.j,  0.0000+0.j,  0.0000+0.j,  0.0000+0.j,  0.0000-2.j,\n",
       "          0.0000+0.j, -1.3000+0.j,  0.0000+0.j],\n",
       "        [ 0.0000+0.j,  1.3000+0.j,  0.0000+0.j,  0.0000+2.j,  0.0000+0.j,\n",
       "          0.0000+0.j,  0.0000+0.j,  0.0000+0.j],\n",
       "        [ 1.3000+0.j,  0.0000+0.j,  0.0000+2.j,  0.0000+0.j,  0.0000+0.j,\n",
       "          0.0000+0.j,  0.0000+0.j,  0.0000+0.j],\n",
       "        [ 0.0000+0.j,  0.0000-2.j,  0.0000+0.j, -1.3000+0.j,  0.0000+0.j,\n",
       "          0.0000+0.j,  0.0000+0.j,  0.0000+0.j],\n",
       "        [ 0.0000-2.j,  0.0000+0.j, -1.3000+0.j,  0.0000+0.j,  0.0000+0.j,\n",
       "          0.0000+0.j,  0.0000+0.j,  0.0000+0.j]], device='cuda:0',\n",
       "       dtype=torch.complex128)"
      ]
     },
     "execution_count": 41,
     "metadata": {},
     "output_type": "execute_result"
    }
   ],
   "source": [
    "#summing 2 operators\n",
    "operator_1 + operator_2"
   ]
  },
  {
   "cell_type": "code",
   "execution_count": 42,
   "id": "c241eff2",
   "metadata": {},
   "outputs": [
    {
     "data": {
      "text/plain": [
       "tensor([[0.+0.j, 0.+0.j, 0.+0.j, 0.+0.j, 0.+0.j, 0.+0.j, 0.+0.j, 0.+10.j],\n",
       "        [0.+0.j, 0.+0.j, 0.+0.j, 0.+0.j, 0.+0.j, 0.+0.j, 0.+10.j, 0.+0.j],\n",
       "        [0.+0.j, 0.+0.j, 0.+0.j, 0.+0.j, 0.+0.j, 0.-10.j, 0.+0.j, 0.+0.j],\n",
       "        [0.+0.j, 0.+0.j, 0.+0.j, 0.+0.j, 0.-10.j, 0.+0.j, 0.+0.j, 0.+0.j],\n",
       "        [0.+0.j, 0.+0.j, 0.+0.j, 0.+10.j, 0.+0.j, 0.+0.j, 0.+0.j, 0.+0.j],\n",
       "        [0.+0.j, 0.+0.j, 0.+10.j, 0.+0.j, 0.+0.j, 0.+0.j, 0.+0.j, 0.+0.j],\n",
       "        [0.+0.j, 0.-10.j, 0.+0.j, 0.+0.j, 0.+0.j, 0.+0.j, 0.+0.j, 0.+0.j],\n",
       "        [0.-10.j, 0.+0.j, 0.+0.j, 0.+0.j, 0.+0.j, 0.+0.j, 0.+0.j, 0.+0.j]],\n",
       "       device='cuda:0', dtype=torch.complex128)"
      ]
     },
     "execution_count": 42,
     "metadata": {},
     "output_type": "execute_result"
    }
   ],
   "source": [
    "#scalar multiplication\n",
    "5.0*operator_2"
   ]
  },
  {
   "cell_type": "code",
   "execution_count": 43,
   "id": "bc8bc349",
   "metadata": {},
   "outputs": [
    {
     "data": {
      "text/plain": [
       "tensor([0.0000+0.j, 0.0000+0.j, 0.0000+0.j, 0.0000+0.j, 0.0000+0.j, 1.3000+0.j, 0.0000+0.j,\n",
       "        0.0000+0.j], device='cuda:0', dtype=torch.complex128)"
      ]
     },
     "execution_count": 43,
     "metadata": {},
     "output_type": "execute_result"
    }
   ],
   "source": [
    "#operator applied to a StateVector\n",
    "state = StateVector.make(3) #|000>\n",
    "operator_1.apply_to(state)"
   ]
  },
  {
   "cell_type": "code",
   "execution_count": 44,
   "id": "75d2c16e",
   "metadata": {},
   "outputs": [
    {
     "data": {
      "text/plain": [
       "tensor(0.+0.j, dtype=torch.complex128)"
      ]
     },
     "execution_count": 44,
     "metadata": {},
     "output_type": "execute_result"
    }
   ],
   "source": [
    "# expectation value\n",
    "expectation_000 = operator_1.expect(state)\n",
    "expectation_000"
   ]
  },
  {
   "cell_type": "code",
   "execution_count": 45,
   "id": "f679f77d",
   "metadata": {},
   "outputs": [
    {
     "data": {
      "text/plain": [
       "tensor([ 0.0000+0.j,  0.0000+0.j, -0.9192+0.j,  0.0000+0.j,  0.0000+0.j,  0.9192+0.j,\n",
       "         0.0000+0.j,  0.0000+0.j], device='cuda:0', dtype=torch.complex128)"
      ]
     },
     "execution_count": 45,
     "metadata": {},
     "output_type": "execute_result"
    }
   ],
   "source": [
    "# aplication of an operator to a StateVector\n",
    "\n",
    "basis = (\"r\", \"g\")\n",
    "state = {\"rrr\": 1.0, \"ggg\": 1.0}\n",
    "nqubits = 3\n",
    "\n",
    "state_from_ampl = StateVector.from_state_amplitudes(\n",
    "    eigenstates=basis,\n",
    "    amplitudes=state,\n",
    ")\n",
    "\n",
    "operator_1.apply_to(state_from_ampl)"
   ]
  },
  {
   "cell_type": "code",
   "execution_count": 46,
   "id": "b74a1316",
   "metadata": {},
   "outputs": [
    {
     "name": "stdout",
     "output_type": "stream",
     "text": [
      "tensor(0.+0.j, dtype=torch.complex128)\n",
      "tensor(0.+0.j, dtype=torch.complex128)\n"
     ]
    }
   ],
   "source": [
    "#expectation value\n",
    "print(operator_1.expect(state_from_ampl))\n",
    "\n",
    "print(operator_2.expect(state_from_ampl))"
   ]
  },
  {
   "cell_type": "code",
   "execution_count": 47,
   "id": "bd3cb100",
   "metadata": {},
   "outputs": [
    {
     "data": {
      "text/plain": [
       "tensor([[0.+0.0000j, 0.+0.0000j, 0.+2.6000j, 0.+0.0000j, 0.+0.0000j, 0.+0.0000j, 0.+0.0000j,\n",
       "         0.+0.0000j],\n",
       "        [0.+0.0000j, 0.+0.0000j, 0.+0.0000j, 0.+2.6000j, 0.+0.0000j, 0.+0.0000j, 0.+0.0000j,\n",
       "         0.+0.0000j],\n",
       "        [0.+2.6000j, 0.+0.0000j, 0.+0.0000j, 0.+0.0000j, 0.+0.0000j, 0.+0.0000j, 0.+0.0000j,\n",
       "         0.+0.0000j],\n",
       "        [0.+0.0000j, 0.+2.6000j, 0.+0.0000j, 0.+0.0000j, 0.+0.0000j, 0.+0.0000j, 0.+0.0000j,\n",
       "         0.+0.0000j],\n",
       "        [0.+0.0000j, 0.+0.0000j, 0.+0.0000j, 0.+0.0000j, 0.+0.0000j, 0.+0.0000j, 0.+2.6000j,\n",
       "         0.+0.0000j],\n",
       "        [0.+0.0000j, 0.+0.0000j, 0.+0.0000j, 0.+0.0000j, 0.+0.0000j, 0.+0.0000j, 0.+0.0000j,\n",
       "         0.+2.6000j],\n",
       "        [0.+0.0000j, 0.+0.0000j, 0.+0.0000j, 0.+0.0000j, 0.+2.6000j, 0.+0.0000j, 0.+0.0000j,\n",
       "         0.+0.0000j],\n",
       "        [0.+0.0000j, 0.+0.0000j, 0.+0.0000j, 0.+0.0000j, 0.+0.0000j, 0.+2.6000j, 0.+0.0000j,\n",
       "         0.+0.0000j]], device='cuda:0', dtype=torch.complex128)"
      ]
     },
     "execution_count": 47,
     "metadata": {},
     "output_type": "execute_result"
    }
   ],
   "source": [
    "## operator - operator multipliation\n",
    "\n",
    "operator_1 @ operator_2"
   ]
  }
 ],
 "metadata": {
  "kernelspec": {
   "display_name": "3.10.11",
   "language": "python",
   "name": "python3"
  },
  "language_info": {
   "codemirror_mode": {
    "name": "ipython",
    "version": 3
   },
   "file_extension": ".py",
   "mimetype": "text/x-python",
   "name": "python",
   "nbconvert_exporter": "python",
   "pygments_lexer": "ipython3",
   "version": "3.10.11"
  }
 },
 "nbformat": 4,
 "nbformat_minor": 5
}
