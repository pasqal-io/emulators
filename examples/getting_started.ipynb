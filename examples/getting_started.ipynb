{
 "cells": [
  {
   "cell_type": "markdown",
   "id": "38d07511-cedb-4486-a2f4-b0ee9e182b4e",
   "metadata": {},
   "source": [
    "## Tutorial: Getting started with Emu_mps\n",
    "\n",
    "In this tutorial, we will show step-by-step how to use Emu_mps to create an antiferromagnetic (AFM) state with a 1D chain of atoms. We will also assess the quality of the final quantum state using the spin-correlation function. The aim of this tutorial is to demonstrate how to use Emu_mps, how to run a sequence, and how to extract important observables such as magnetization, the correlation matrix, fidelity with a given state, and more.\n",
    "\n",
    "For more information, one can see this [pulser tutorial](https://pulser.readthedocs.io/en/stable/tutorials/afm_prep.html)"
   ]
  },
  {
   "cell_type": "code",
   "execution_count": 1,
   "id": "06a68c8e",
   "metadata": {},
   "outputs": [
    {
     "data": {
      "text/html": [
       "\n",
       "                <script type=\"application/javascript\" id=\"jupyter_black\">\n",
       "                (function() {\n",
       "                    if (window.IPython === undefined) {\n",
       "                        return\n",
       "                    }\n",
       "                    var msg = \"WARNING: it looks like you might have loaded \" +\n",
       "                        \"jupyter_black in a non-lab notebook with \" +\n",
       "                        \"`is_lab=True`. Please double check, and if \" +\n",
       "                        \"loading with `%load_ext` please review the README!\"\n",
       "                    console.log(msg)\n",
       "                    alert(msg)\n",
       "                })()\n",
       "                </script>\n",
       "                "
      ],
      "text/plain": [
       "<IPython.core.display.HTML object>"
      ]
     },
     "metadata": {},
     "output_type": "display_data"
    }
   ],
   "source": [
    "import jupyter_black\n",
    "\n",
    "jupyter_black.load()  # formatting\n",
    "plot = False"
   ]
  },
  {
   "cell_type": "code",
   "execution_count": 2,
   "id": "d56493c2-d4a4-49d4-b373-1178d80b08ec",
   "metadata": {},
   "outputs": [],
   "source": [
    "# import libraries\n",
    "import matplotlib.pyplot as plt\n",
    "\n",
    "# emu_mps backend, confing and observables\n",
    "from emu_mps import (\n",
    "    MPS,\n",
    "    MPSConfig,\n",
    "    MPSBackend,\n",
    "    StateResult,\n",
    "    BitStrings,\n",
    "    Fidelity,\n",
    "    QubitDensity,\n",
    "    CorrelationMatrix,\n",
    ")\n",
    "from utils_examples.square_perimeter_reg import square_perimeter_points\n",
    "from utils_examples.afm_state_ring_reg import afm_sequence_from_register\n",
    "\n",
    "# pulser\n",
    "import pulser\n",
    "from pulser.devices import AnalogDevice\n",
    "\n",
    "import math\n",
    "import numpy as np\n",
    "\n",
    "from matplotlib.pyplot import pcolormesh"
   ]
  },
  {
   "cell_type": "markdown",
   "id": "ed7a8639",
   "metadata": {},
   "source": [
    "### Pulser and emp_mps\n",
    "\n",
    "\n",
    "In general terms, the first step is to generate the pulses with Pulser. Then, instantiate the backend class ( `MPSBackend`) and the BackendConfig (`MPSConfig`) with their respective observables. After this, pass the sequence from Pulser and the config instance to the `run` method. Finally, the user retrieves the observables specified in the config.\n",
    "\n",
    "We will use Pulser to generate the perimeter of a square with an odd number of atoms and then create the sequence that will yield an antiferromagnetic (AFM) state."
   ]
  },
  {
   "cell_type": "code",
   "execution_count": 3,
   "id": "4916042a-2cae-427b-95c8-575f4fea1c81",
   "metadata": {},
   "outputs": [],
   "source": [
    "# Pulser setup for AFM state\n",
    "\n",
    "Omega_max = 2 * 2 * np.pi\n",
    "U = Omega_max / 2\n",
    "\n",
    "delta_0 = -6 * U\n",
    "delta_f = 1 * U\n",
    "\n",
    "t_rise = 500\n",
    "t_fall = 1500\n",
    "sweep_factor = 2  # time for the sweep\n",
    "\n",
    "R_interatomic = AnalogDevice.rydberg_blockade_radius(U)  # separation between atoms"
   ]
  },
  {
   "cell_type": "markdown",
   "id": "51eb8e8a",
   "metadata": {},
   "source": [
    "#### Register creation\n",
    "\n",
    "The function `square_perimeter_points` will calculate the coordinates of the points located on the perimeter of a square of size L. The points are ordered starting from the bottom-left corner and moving \n",
    "    counter-clockwise around the square. The order is important when measuare the bitstrings"
   ]
  },
  {
   "cell_type": "code",
   "execution_count": 4,
   "id": "3514339d",
   "metadata": {},
   "outputs": [],
   "source": [
    "N_side = 3  # for this tutorial, we choose impair number of atoms and R_interatomic is the units\n",
    "\n",
    "### we use the interatomic distance R_interatomic as the unit of length.\n",
    "coords = R_interatomic * square_perimeter_points(N_side)\n",
    "reg = pulser.Register.from_coordinates(coords)\n",
    "if plot:\n",
    "    reg.draw(blockade_radius=R_interatomic, draw_graph=True, draw_half_radius=True)"
   ]
  },
  {
   "cell_type": "markdown",
   "id": "2f5265a7",
   "metadata": {},
   "source": [
    "### Pulse creation \n",
    "\n",
    "The following function `afm_sequence_from_register` gives us the pulses for the AFM state. The sequence consists of three phases: a rise, a sweep, and a fall. The sweep time is given in proportion of rise and fall times. \n",
    "\n"
   ]
  },
  {
   "cell_type": "code",
   "execution_count": 5,
   "id": "df43e0d1",
   "metadata": {},
   "outputs": [],
   "source": [
    "seq = afm_sequence_from_register(\n",
    "    reg, Omega_max, delta_0, delta_f, t_rise, t_fall, sweep_factor, AnalogDevice\n",
    ")\n",
    "if plot:\n",
    "    seq.draw(\"input\")"
   ]
  },
  {
   "cell_type": "markdown",
   "id": "619f73cd-f199-4610-a185-c2cd0a9c475b",
   "metadata": {},
   "source": [
    "### Using Emu-ct\n",
    "\n",
    "In general, one has to instantiate the backend class and instantiate a config class. The Config class will contain the configuration of the backend and the observables (as callbacks)."
   ]
  },
  {
   "cell_type": "code",
   "execution_count": 6,
   "id": "0d3578d6-6536-4ecf-befb-aa8e883fc041",
   "metadata": {},
   "outputs": [],
   "source": [
    "# we initialize a Backend instance\n",
    "sim = MPSBackend()"
   ]
  },
  {
   "cell_type": "code",
   "execution_count": 7,
   "id": "b3ac6133",
   "metadata": {},
   "outputs": [],
   "source": [
    "# Configuration for the Backend and for observables\n",
    "dt = 100  # time step for discretization, by the default: dt =10\n",
    "\n",
    "# information for the observables\n",
    "\n",
    "final_time = seq.get_duration() // dt * dt\n",
    "# Calculate the final time of the sequence. Some observables will be measured at time steps\n",
    "# that are multiples of dt.  Using integer division // ensures time steps align with dt.\n",
    "# NOTE: The sequence is discretized by dt, so the state evolves at these time steps.\n",
    "\n",
    "times = [final_time]  # final step for an observable to be measure\n",
    "# all the times have to be a multiple of dt\n",
    "\n",
    "times_qubit_density = [\n",
    "    x for x in range(0, final_time, dt)\n",
    "]  # a list of time steps for an observable to be measured\n",
    "\n",
    "\n",
    "# As an example, we are going to create an antiferromagnetic (afm) state (mps) and\n",
    "# a suporpostion of afm states in order to calculate the\n",
    "# fidelity against the evolved state\n",
    "\n",
    "basis = {\n",
    "    \"r\",\n",
    "    \"g\",\n",
    "}  # basis that the observables are going to be measured.\n",
    "# At the moment, we are only accepting the rydberg basis\n",
    "\n",
    "nqubits = len(seq.register.qubit_ids)  # qubit_ids, for all observables\n",
    "\n",
    "afm_string_state = {\"rgrgrgrg\": 1}  # string state as key and amplitud as value |rgrgrgrg>\n",
    "\n",
    "another_afm = {\n",
    "    \"rg\" * int(nqubits / 2): 1.0 / math.sqrt(2),\n",
    "    \"gr\" * int(nqubits / 2): 1.0 / math.sqrt(2),\n",
    "}  # 1/sqrt(2)(|rgrgrgrg>+|grgrgrgr>)\n",
    "\n",
    "afm_mps_state = MPS.from_state_string(\n",
    "    basis=basis, nqubits=nqubits, strings=afm_string_state\n",
    ")\n",
    "another_afm_mps = MPS.from_state_string(basis=basis, nqubits=nqubits, strings=another_afm)"
   ]
  },
  {
   "cell_type": "markdown",
   "id": "57988be8-a5af-421c-8012-23bee5bc8ef6",
   "metadata": {},
   "source": [
    "### Information about the config class in emu_mps\n",
    "\n",
    "\n",
    "$$\\renewcommand{\\ket}[1]{\\left|{#1}\\right\\rangle}$$\n",
    "$$\\renewcommand{\\bra}[1]{\\left\\langle{#1}\\right|}$$\n",
    "$$\\renewcommand{\\braket}[2]{\\left\\langle{#1}\\middle|{#2}\\right\\rangle}$$\n",
    "\n",
    "The setting for the config class and information related to observables:\n",
    "\n",
    "- dt: discretization step of the pulse. In this config instance, we are discretising the sequence each 100 $ns$\n",
    "- precision: is the truncation presicion of the MPS. We retain singular values greater than the precision value\n",
    "- observables: we support \n",
    "    - StateResult: MPS at a defined time step\n",
    "    - BitStrings: sampling of the MPS at a de|sired time step\n",
    "    - Fidelity: $\\braket{\\psi_{evolved}}{\\phi_{given}}$\n",
    "    - QubitDenisty: magnetization of the state $\\langle n_i \\rangle = \\langle (1+Z_i)/2 \\rangle$ which gives the probability that each qubit is in the excited state at a given time step. \n",
    "    - CorrelationMatrix: (density correlation matrix) is given by $\\langle n_i n_j \\rangle =\\langle (1+Z_i)/2 * (1+Z_j)/2 \\rangle $  at a given time step\n",
    "    - Energy $\\langle H \\rangle$ (the ising Hamiltonian) at a given time step\n",
    "    - Energy Variance: $\\langle H^2\\rangle - \\langle H \\rangle^2$ at a given time step\n",
    "\n",
    "For more information about the observables and updates, one can check the [callbacks code ](https://gitlab.pasqal.com/emulation/rydberg-atoms/emu-ct/-/blob/main/emu_mps/base_classes/callbacks.py?ref_type=heads) in the repository\n"
   ]
  },
  {
   "cell_type": "code",
   "execution_count": 8,
   "id": "381abaab",
   "metadata": {},
   "outputs": [],
   "source": [
    "state_result = StateResult(times=times)\n",
    "bitstrings = BitStrings(times=times, num_shots=1000)\n",
    "fidelity = Fidelity(times=times, state=afm_mps_state)  # fidelity number 1\n",
    "fidelity_another_state = Fidelity(times=times, state=another_afm_mps)  # fidelity number 2\n",
    "density = QubitDensity(times=times_qubit_density, basis=basis, nqubits=nqubits)\n",
    "correlation_matr = CorrelationMatrix(times=times, basis=basis, nqubits=nqubits)"
   ]
  },
  {
   "cell_type": "code",
   "execution_count": 9,
   "id": "09d71fb6",
   "metadata": {},
   "outputs": [],
   "source": [
    "# we give the configuration of the backend and the observables\n",
    "mpsconfig = MPSConfig(\n",
    "    dt=dt,\n",
    "    observables=[\n",
    "        state_result,\n",
    "        bitstrings,\n",
    "        fidelity,\n",
    "        fidelity_another_state,\n",
    "        density,\n",
    "        correlation_matr,\n",
    "    ],\n",
    ")"
   ]
  },
  {
   "cell_type": "markdown",
   "id": "a8e70b71",
   "metadata": {},
   "source": [
    "### Finally, we run\n",
    "\n",
    "In order to run the sequence, use the `run` method with the `sequence` and the respective `backend configuration`"
   ]
  },
  {
   "cell_type": "code",
   "execution_count": 10,
   "id": "3185d7f3-1b55-4efc-9ee9-761a132e78f3",
   "metadata": {},
   "outputs": [
    {
     "name": "stdout",
     "output_type": "stream",
     "text": [
      "step = 1/34, χ = 2, |ψ| = 0.001 MB, RSS = 11.685 MB, Δt = 0.112 s\n",
      "step = 2/34, χ = 2, |ψ| = 0.001 MB, RSS = 11.685 MB, Δt = 0.097 s\n",
      "step = 3/34, χ = 3, |ψ| = 0.002 MB, RSS = 11.685 MB, Δt = 0.105 s\n",
      "step = 4/34, χ = 4, |ψ| = 0.002 MB, RSS = 11.685 MB, Δt = 0.127 s\n",
      "step = 5/34, χ = 4, |ψ| = 0.002 MB, RSS = 11.685 MB, Δt = 0.123 s\n",
      "step = 6/34, χ = 5, |ψ| = 0.003 MB, RSS = 11.685 MB, Δt = 0.124 s\n",
      "step = 7/34, χ = 5, |ψ| = 0.003 MB, RSS = 11.685 MB, Δt = 0.129 s\n",
      "step = 8/34, χ = 5, |ψ| = 0.003 MB, RSS = 11.685 MB, Δt = 0.140 s\n",
      "step = 9/34, χ = 5, |ψ| = 0.004 MB, RSS = 11.685 MB, Δt = 0.126 s\n",
      "step = 10/34, χ = 5, |ψ| = 0.004 MB, RSS = 11.685 MB, Δt = 0.122 s\n",
      "step = 11/34, χ = 5, |ψ| = 0.004 MB, RSS = 11.685 MB, Δt = 0.120 s\n",
      "step = 12/34, χ = 6, |ψ| = 0.004 MB, RSS = 11.685 MB, Δt = 0.116 s\n",
      "step = 13/34, χ = 6, |ψ| = 0.004 MB, RSS = 11.685 MB, Δt = 0.115 s\n",
      "step = 14/34, χ = 7, |ψ| = 0.005 MB, RSS = 11.685 MB, Δt = 0.113 s\n",
      "step = 15/34, χ = 8, |ψ| = 0.006 MB, RSS = 11.685 MB, Δt = 0.109 s\n",
      "step = 16/34, χ = 9, |ψ| = 0.006 MB, RSS = 11.685 MB, Δt = 0.109 s\n",
      "step = 17/34, χ = 10, |ψ| = 0.007 MB, RSS = 11.685 MB, Δt = 0.109 s\n",
      "step = 18/34, χ = 10, |ψ| = 0.008 MB, RSS = 11.685 MB, Δt = 0.108 s\n",
      "step = 19/34, χ = 11, |ψ| = 0.008 MB, RSS = 11.685 MB, Δt = 0.104 s\n",
      "step = 20/34, χ = 11, |ψ| = 0.008 MB, RSS = 11.685 MB, Δt = 0.103 s\n",
      "step = 21/34, χ = 11, |ψ| = 0.008 MB, RSS = 11.685 MB, Δt = 0.104 s\n",
      "step = 22/34, χ = 12, |ψ| = 0.009 MB, RSS = 11.685 MB, Δt = 0.100 s\n",
      "step = 23/34, χ = 12, |ψ| = 0.009 MB, RSS = 11.685 MB, Δt = 0.096 s\n",
      "step = 24/34, χ = 12, |ψ| = 0.009 MB, RSS = 11.685 MB, Δt = 0.097 s\n",
      "step = 25/34, χ = 13, |ψ| = 0.009 MB, RSS = 11.685 MB, Δt = 0.096 s\n",
      "step = 26/34, χ = 13, |ψ| = 0.009 MB, RSS = 11.685 MB, Δt = 0.095 s\n",
      "step = 27/34, χ = 13, |ψ| = 0.009 MB, RSS = 11.685 MB, Δt = 0.091 s\n",
      "step = 28/34, χ = 13, |ψ| = 0.009 MB, RSS = 11.685 MB, Δt = 0.093 s\n",
      "step = 29/34, χ = 13, |ψ| = 0.009 MB, RSS = 11.685 MB, Δt = 0.092 s\n",
      "step = 30/34, χ = 14, |ψ| = 0.010 MB, RSS = 11.685 MB, Δt = 0.090 s\n",
      "step = 31/34, χ = 14, |ψ| = 0.010 MB, RSS = 11.685 MB, Δt = 0.089 s\n",
      "step = 32/34, χ = 14, |ψ| = 0.010 MB, RSS = 11.685 MB, Δt = 0.089 s\n",
      "step = 33/34, χ = 14, |ψ| = 0.010 MB, RSS = 11.685 MB, Δt = 0.089 s\n",
      "step = 34/34, χ = 14, |ψ| = 0.010 MB, RSS = 11.685 MB, Δt = 0.527 s\n"
     ]
    }
   ],
   "source": [
    "results = sim.run(seq, mpsconfig)"
   ]
  },
  {
   "cell_type": "markdown",
   "id": "e97de582",
   "metadata": {},
   "source": [
    "The information that one can see: \n",
    "- step: the whole sequence is discretized by dt and this generates a number of steps. \n",
    "- $\\chi$ : is the bond dimension\n",
    "- $|\\Psi|$: memory footprint\n",
    "- RSS: max memory allocation\n",
    "- $\\triangle t$: time that the step took to run\n"
   ]
  },
  {
   "cell_type": "markdown",
   "id": "74469402",
   "metadata": {},
   "source": [
    "#### How do you get the observables from the results object?\n",
    "\n",
    "In the following lines, we are going to give a brief code examples of how you can get the information from the results object"
   ]
  },
  {
   "cell_type": "code",
   "execution_count": 11,
   "id": "780d682c",
   "metadata": {},
   "outputs": [
    {
     "data": {
      "text/plain": [
       "['qubit_density',\n",
       " 'state',\n",
       " 'bitstrings',\n",
       " 'fidelity_0',\n",
       " 'fidelity_1',\n",
       " 'correlation_matrix']"
      ]
     },
     "execution_count": 11,
     "metadata": {},
     "output_type": "execute_result"
    }
   ],
   "source": [
    "# all the observables computed\n",
    "results.get_result_names()"
   ]
  },
  {
   "cell_type": "code",
   "execution_count": 12,
   "id": "4fb1ccfb-1743-451e-8ad0-d8b257f600cc",
   "metadata": {},
   "outputs": [],
   "source": [
    "# bitstrings at a given time\n",
    "bitstrings_final = results[bitstrings.name()][final_time]  # get the bitstring"
   ]
  },
  {
   "cell_type": "code",
   "execution_count": 13,
   "id": "f01f3c17",
   "metadata": {},
   "outputs": [
    {
     "data": {
      "text/plain": [
       "[3400]"
      ]
     },
     "execution_count": 13,
     "metadata": {},
     "output_type": "execute_result"
    }
   ],
   "source": [
    "# show the times when the observables was measured\n",
    "results.get_result_times(bitstrings.name())"
   ]
  },
  {
   "cell_type": "code",
   "execution_count": 14,
   "id": "e5ab95a7-a7d4-40b2-8714-af569860ca4c",
   "metadata": {},
   "outputs": [
    {
     "name": "stdout",
     "output_type": "stream",
     "text": [
      "Max count value:  251\n",
      "Bitstring with the max number of counts:  ['10101010']\n"
     ]
    }
   ],
   "source": [
    "max_val = max(bitstrings_final.values())  # max number of counts in the bitstring\n",
    "print(\"Max count value: \", max_val)\n",
    "max_string = [key for key, value in bitstrings_final.items() if value == max_val]\n",
    "print(\"Bitstring with the max number of counts: \", max_string)"
   ]
  },
  {
   "cell_type": "code",
   "execution_count": 15,
   "id": "63cfd579-3dcd-47bc-b0ff-d95fb8452e6b",
   "metadata": {},
   "outputs": [],
   "source": [
    "# plot the histogram with counts greater than 20\n",
    "filtered_counts = [count for count in bitstrings_final.values() if count > 20]\n",
    "filtered_bitstrings = [\n",
    "    bitstring for bitstring, count in bitstrings_final.items() if count > 20\n",
    "]\n",
    "x_labels = range(len(filtered_bitstrings))\n",
    "\n",
    "if plot:\n",
    "    with plt.style.context(\"seaborn-darkgrid\"):\n",
    "        fig, ax = plt.subplots()\n",
    "        ax.bar(x_labels, filtered_counts, color=\"teal\", alpha=0.8)\n",
    "        ax.set_xlabel(\"Bitstrings\")\n",
    "        ax.set_ylabel(\"Counts\")\n",
    "        ax.set_title(\"Histogram of Bitstring Counts (Counts > 20)\")\n",
    "        ax.set_xticks(x_labels)\n",
    "        ax.set_xticklabels(filtered_bitstrings, rotation=\"vertical\")\n",
    "        ax.spines[\"top\"].set_visible(False)\n",
    "        ax.spines[\"right\"].set_visible(False)\n",
    "        plt.tight_layout()\n",
    "        plt.savefig(\"save_bitstring-10.png\")\n",
    "        plt.show()"
   ]
  },
  {
   "cell_type": "code",
   "execution_count": 16,
   "id": "447521af",
   "metadata": {},
   "outputs": [
    {
     "name": "stdout",
     "output_type": "stream",
     "text": [
      "First tensor of the final state\n"
     ]
    },
    {
     "data": {
      "text/plain": [
       "tensor([[[-0.2215+0.3995j,  0.1365+0.3495j],\n",
       "         [-0.1816+0.1259j,  0.0667-0.7729j]]], device='cuda:0',\n",
       "       dtype=torch.complex128)"
      ]
     },
     "execution_count": 16,
     "metadata": {},
     "output_type": "execute_result"
    }
   ],
   "source": [
    "# final mps information\n",
    "final_state = results[state_result.name()][final_time]\n",
    "print(\"First tensor of the final state\")\n",
    "final_state.factors[0]"
   ]
  },
  {
   "cell_type": "code",
   "execution_count": 17,
   "id": "cb3e8977",
   "metadata": {},
   "outputs": [
    {
     "name": "stdout",
     "output_type": "stream",
     "text": [
      "fidelity between the final state and the afm state given by the user\n",
      "(0.48847401176340965-0.12589877857713225j)\n",
      "\n",
      "The probability of being in the afm state given by the user \n",
      "0.2544573626154535\n",
      "\n",
      "Fidelity with superpostions of afm states:  (0.3167704430217282-0.24607725123677304j)\n",
      "\n",
      "its probability:  0.16089752714842787\n"
     ]
    }
   ],
   "source": [
    "# fidelity respect to the final state\n",
    "final_fidelity = results[fidelity.name()][\n",
    "    final_time\n",
    "]  # if you run another time the tutorial will generate another fidelity\n",
    "\n",
    "print(\"fidelity between the final state and the afm state given by the user\")\n",
    "print(final_fidelity)\n",
    "\n",
    "print(\"\\nThe probability of being in the afm state given by the user \")\n",
    "print(abs(final_fidelity) ** 2)  #  it is related to the bitstrings\n",
    "\n",
    "fidelity_2 = results[fidelity_another_state.name()][final_time]\n",
    "print(\"\\nFidelity with superpostions of afm states: \", fidelity_2)\n",
    "print(\"\\nits probability: \", abs(fidelity_2) ** 2)"
   ]
  },
  {
   "cell_type": "markdown",
   "id": "bbe1b07d",
   "metadata": {},
   "source": [
    "### Evolution of the state in time\n",
    "\n",
    "In the following lines, we are going to plot the evolution of the magnetization of the state during the given sequence "
   ]
  },
  {
   "cell_type": "code",
   "execution_count": 18,
   "id": "21e1f51a",
   "metadata": {},
   "outputs": [],
   "source": [
    "# magnetization: it is given by a dictionary where the key is the time step and value is\n",
    "# the magnetization\n",
    "magnetization = list(results[density.name()].values())  #\n",
    "\n",
    "qbitdensity = np.array(magnetization)\n",
    "timepy = results.get_result_times(density.name())  # list to a numpy array"
   ]
  },
  {
   "cell_type": "code",
   "execution_count": 19,
   "id": "b2cbac0a",
   "metadata": {},
   "outputs": [],
   "source": [
    "if plot:\n",
    "    ## ploting the heat map\n",
    "    fig, ax = plt.subplots(figsize=(10, 5), layout=\"constrained\")\n",
    "\n",
    "    num_time_points, positions = qbitdensity.shape\n",
    "    x, y = np.meshgrid(np.arange(num_time_points), np.arange(1, positions + 1))\n",
    "    im = pcolormesh(timepy, y, qbitdensity.T, shading=\"auto\")\n",
    "    ax.set_xlabel(\"Time [ns]\")\n",
    "    ax.set_ylabel(\"Qubit\")\n",
    "    ax.set_title(\"State Density\")\n",
    "    ax.set_yticks(np.arange(1, positions + 1))\n",
    "    cb = fig.colorbar(im, ax=ax)"
   ]
  },
  {
   "cell_type": "code",
   "execution_count": 20,
   "id": "52ec8107",
   "metadata": {},
   "outputs": [
    {
     "name": "stdout",
     "output_type": "stream",
     "text": [
      "Max bond dimension of the final state:  14\n"
     ]
    }
   ],
   "source": [
    "# get the max bond dimension of the final state\n",
    "max_bond_dim = final_state.get_max_bond_dim()\n",
    "print(\"Max bond dimension of the final state: \", max_bond_dim)"
   ]
  },
  {
   "cell_type": "markdown",
   "id": "2da3fdb6",
   "metadata": {},
   "source": [
    "\n",
    "\n",
    "### The correlation function at a given time step given by: \n",
    "\n",
    "The correlation function given by: \n",
    " $\\bra{\\psi} n_i(t) n_j(t) \\ket{\\psi}$\n",
    "\n",
    "can be extracted from the observables"
   ]
  },
  {
   "cell_type": "code",
   "execution_count": 21,
   "id": "a78e1832-81f2-4d98-b995-01f166f7a923",
   "metadata": {},
   "outputs": [
    {
     "data": {
      "text/plain": [
       "array([[0.65056922, 0.09846138, 0.49517966, 0.19347754, 0.45103312,\n",
       "        0.19348486, 0.49515455, 0.09846857],\n",
       "       [0.09846138, 0.3517678 , 0.09849875, 0.18672686, 0.19351412,\n",
       "        0.14633811, 0.19345048, 0.18671352],\n",
       "       [0.49517966, 0.09849875, 0.65056256, 0.09842712, 0.49514949,\n",
       "        0.19350774, 0.45107769, 0.19347576],\n",
       "       [0.19347754, 0.18672686, 0.09842712, 0.3517543 , 0.09845865,\n",
       "        0.18675435, 0.19345198, 0.1463405 ],\n",
       "       [0.45103312, 0.19351412, 0.49514949, 0.09845865, 0.65055428,\n",
       "        0.09848505, 0.49513198, 0.19348052],\n",
       "       [0.19348486, 0.14633811, 0.19350774, 0.18675435, 0.09848505,\n",
       "        0.35176938, 0.0985223 , 0.18670057],\n",
       "       [0.49515455, 0.19345048, 0.45107769, 0.19345198, 0.49513198,\n",
       "        0.0985223 , 0.65056084, 0.0984262 ],\n",
       "       [0.09846857, 0.18671352, 0.19347576, 0.1463405 , 0.19348052,\n",
       "        0.18670057, 0.0984262 , 0.35174253]])"
      ]
     },
     "execution_count": 21,
     "metadata": {},
     "output_type": "execute_result"
    }
   ],
   "source": [
    "# the correlation function can be extracted using the following line\n",
    "final_correlations = np.array(results[correlation_matr.name()][final_time])\n",
    "final_correlations"
   ]
  },
  {
   "cell_type": "markdown",
   "id": "56b288ed",
   "metadata": {},
   "source": [
    "### Assesing our results\n",
    "\n",
    "We would like to use the correlation function in order to assess our final state. In order to do this we are going to use the spin-spin correlation function, given by\n",
    "\n",
    "$$g^c(k,l)= \\frac{1}{N_{k}}\\sum_{(i,j)} \\left[ \\langle n_i n_j \\rangle - \\langle n_i \\rangle \\langle n_j \\rangle \\right]$$\n",
    "\n",
    "where the $c$ indicates that we are calculating the *connected* part, and where the sum is over all pairs $(i,j)$ whose distance is $k$.\n",
    "\n",
    "We are going to construct this function, step by step. "
   ]
  },
  {
   "cell_type": "markdown",
   "id": "25eff047",
   "metadata": {},
   "source": [
    "##### Getting the correlation pairs \n",
    "Let's define a function that returns all couples $(i,j)$ of atoms that are separated apart from a given $k$ distance. "
   ]
  },
  {
   "cell_type": "code",
   "execution_count": 22,
   "id": "e89c86d5",
   "metadata": {},
   "outputs": [],
   "source": [
    "def corr_atoms_pairs(k, N):\n",
    "    corr_pairs = [[i, (i + k) % N] for i in range(N)]\n",
    "    return corr_pairs"
   ]
  },
  {
   "cell_type": "code",
   "execution_count": 23,
   "id": "2ef73fc7",
   "metadata": {},
   "outputs": [],
   "source": [
    "# correlation function for a given distance k\n",
    "def k_corr_function(k, N):\n",
    "    corr_pairs = corr_atoms_pairs(k, N)\n",
    "\n",
    "    covariance = 0\n",
    "    for qi, qj in corr_pairs:\n",
    "        covariance += final_correlations[qi, qj]  # <n_i * n_j>\n",
    "        covariance -= qbitdensity[-1][qi] * qbitdensity[-1][qj]  # <ni><nj>\n",
    "\n",
    "    return covariance / len(corr_pairs)"
   ]
  },
  {
   "cell_type": "code",
   "execution_count": 24,
   "id": "e9475401",
   "metadata": {},
   "outputs": [],
   "source": [
    "# the spin - spin correlation function\n",
    "def full_corr_function(reg):\n",
    "    N = len(reg.qubits)\n",
    "    correlation_function = {}\n",
    "    for k in range(-N // 2, N // 2 + 1):\n",
    "        correlation_function[k] = k_corr_function(k, N)\n",
    "    return correlation_function"
   ]
  },
  {
   "cell_type": "code",
   "execution_count": 25,
   "id": "b549a3a7",
   "metadata": {},
   "outputs": [
    {
     "data": {
      "text/plain": [
       "{-4: 0.02636914910874531,\n",
       " -3: -0.036410809427597404,\n",
       " -2: 0.06861066271728797,\n",
       " -1: -0.13142268160438958,\n",
       " 0: 0.22883190282478236,\n",
       " 1: -0.13142268160438958,\n",
       " 2: 0.06861066271728797,\n",
       " 3: -0.036410809427597404,\n",
       " 4: 0.02636914910874531}"
      ]
     },
     "execution_count": 25,
     "metadata": {},
     "output_type": "execute_result"
    }
   ],
   "source": [
    "correlation_function = full_corr_function(reg)\n",
    "correlation_function"
   ]
  },
  {
   "cell_type": "code",
   "execution_count": 26,
   "id": "00550af7",
   "metadata": {},
   "outputs": [],
   "source": [
    "N = len(reg.qubits)\n",
    "A = np.reshape(list(correlation_function.values()), (1, N + 1))\n",
    "A[0, N // 2] = None\n",
    "\n",
    "if plot:\n",
    "    plt.figure(figsize=(10, 5))\n",
    "    plt.imshow(A, cmap=\"coolwarm\")\n",
    "    plt.xlabel(\"k\", fontsize=12)\n",
    "    plt.xticks(range(A.shape[1]), [\"{}\".format(i) for i in range(-N // 2, N // 2 + 1)])\n",
    "    plt.title(r\"$g^{(2)}(k)$ after simulation\", fontsize=14)\n",
    "    plt.yticks([])\n",
    "    plt.colorbar()\n",
    "    plt.show()"
   ]
  },
  {
   "cell_type": "code",
   "execution_count": 27,
   "id": "02e1486e",
   "metadata": {},
   "outputs": [
    {
     "data": {
      "text/plain": [
       "'0.2.0'"
      ]
     },
     "execution_count": 27,
     "metadata": {},
     "output_type": "execute_result"
    }
   ],
   "source": [
    "# emu_mps version\n",
    "import emu_mps\n",
    "\n",
    "emu_mps.__version__"
   ]
  }
 ],
 "metadata": {
  "kernelspec": {
   "display_name": "Python 3 (ipykernel)",
   "language": "python",
   "name": "python3"
  },
  "language_info": {
   "codemirror_mode": {
    "name": "ipython",
    "version": 3
   },
   "file_extension": ".py",
   "mimetype": "text/x-python",
   "name": "python",
   "nbconvert_exporter": "python",
   "pygments_lexer": "ipython3",
   "version": "3.10.14"
  }
 },
 "nbformat": 4,
 "nbformat_minor": 5
}
